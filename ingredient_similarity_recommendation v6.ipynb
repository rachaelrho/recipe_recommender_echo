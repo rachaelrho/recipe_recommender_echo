{
 "cells": [
  {
   "cell_type": "code",
   "execution_count": 34,
   "metadata": {
    "collapsed": false
   },
   "outputs": [],
   "source": [
    "import pandas as pd\n",
    "import numpy as np\n",
    "import pickle\n",
    "import json\n",
    "import itertools\n",
    "\n",
    "#html parsing\n",
    "import urllib2\n",
    "from lxml import etree\n",
    "\n",
    "##text pre-processing (for input)\n",
    "import nltk\n",
    "from nltk import FreqDist\n",
    "from extract_funcs import nlpTokens,NMFactorize\n",
    "from sklearn.metrics.pairwise import cosine_similarity "
   ]
  },
  {
   "cell_type": "code",
   "execution_count": 23,
   "metadata": {
    "collapsed": false,
    "scrolled": true
   },
   "outputs": [],
   "source": [
    "recipeDF = pd.read_pickle('recipeDF_tokens_v3')\n",
    "NMFmodel = pickle.load(open( \"NMFmodel_v6.p\", \"rb\"))\n",
    "NMF_matrix = pickle.load(open( \"NMFmatrix_v6.p\", \"rb\"))\n",
    "tfidf_vectorizer = pickle.load(open( \"tfidf_vectorizer_v6.p\", \"rb\"))\n",
    "tfidf_matrix = pickle.load(open( \"tfidf_matrix_v6.p\", \"rb\"))"
   ]
  },
  {
   "cell_type": "markdown",
   "metadata": {},
   "source": [
    "##Cosine similarity with example input ingredients"
   ]
  },
  {
   "cell_type": "code",
   "execution_count": 3,
   "metadata": {
    "collapsed": true
   },
   "outputs": [],
   "source": [
    "def topCosine(ingInput, NMF_matrix):\n",
    "    \n",
    "    document = ','.join(ingInput)\n",
    "    testTokens = nlpTokens(document)\n",
    "    tf = tfidf_vectorizer.transform([testTokens])\n",
    "    NMF = NMFmodel.transform(tf)\n",
    "    cosine = cosine_similarity(NMF, NMF_matrix) \n",
    "    cosineList = [(e,i) for i,e in enumerate(list(cosine[0]))] #, reverse = True) ##sorted\n",
    "            \n",
    "    return document,cosineList"
   ]
  },
  {
   "cell_type": "code",
   "execution_count": 4,
   "metadata": {
    "collapsed": true
   },
   "outputs": [],
   "source": [
    "def topIng(cosineList,recipeDF): ##may need to run this without defined function (was previously malfunctioning)\n",
    "    \n",
    "    recipes = []\n",
    "\n",
    "    for i in range(0,len(cosineList)): \n",
    "        ing = [cosineList[i][0], cosineList[i][1], list(recipeDF.ingredientTokens[i:i+1])]\n",
    "        recipes.append(ing)\n",
    "    \n",
    "    finalList = []\n",
    "\n",
    "    for i in range(0,len(recipes)): \n",
    "        if all(ing in recipes[i][2][0] for ing in ingInput): \n",
    "            finalList.append(recipes[i])\n",
    "    \n",
    "    return recipes,finalList"
   ]
  },
  {
   "cell_type": "code",
   "execution_count": 195,
   "metadata": {
    "collapsed": true
   },
   "outputs": [],
   "source": [
    "ingInput = ['chicken','avocado','tomato']"
   ]
  },
  {
   "cell_type": "code",
   "execution_count": 196,
   "metadata": {
    "collapsed": false
   },
   "outputs": [],
   "source": [
    "document,cosineList = topCosine(ingInput,NMF_matrix)"
   ]
  },
  {
   "cell_type": "code",
   "execution_count": 197,
   "metadata": {
    "collapsed": true
   },
   "outputs": [],
   "source": [
    "recipes, finalList = topIng(cosineList,recipeDF)"
   ]
  },
  {
   "cell_type": "code",
   "execution_count": 198,
   "metadata": {
    "collapsed": false
   },
   "outputs": [
    {
     "data": {
      "text/plain": [
       "[[0.91685352610868631,\n",
       "  1293,\n",
       "  [u'chicken,breast,yellow,green,bell,jalapeno,nan,coconut,oil,tomato,tomato,sauc,garlic,cumin,chili,powder,oregano,salt,cilantro,avocado']],\n",
       " [0.79922038806708151,\n",
       "  1519,\n",
       "  [u'Grill,Tequila,Lime,Chicken,chicken,breast,oliv,oil,tequila,lime,juic,chili,powder,onion,powder,garlic,powder,sea,salt,Vinaigrett,oliv,oil,tequila,lime,juic,honey,cilantro,For,Salad,mix,green,babi,kale,arugula,avocado,tomato,red,onion,carrot,fresno']],\n",
       " [0.92034505593664095,\n",
       "  1690,\n",
       "  [u'Caesar,Marin,Grill,Chicken,chicken,1690,Tessama,Caesar,Dress,1690,Kale,Caesar,Salad,lacinato,avocado,tomato,goat,chevr,dress']],\n",
       " [0.92339329182205332,\n",
       "  1737,\n",
       "  [u'chicken,bacon,spring,green,mix,tomato,egg,avocado,feta,Mayo,Free,Green,Goddess,Dress']]]"
      ]
     },
     "execution_count": 198,
     "metadata": {},
     "output_type": "execute_result"
    }
   ],
   "source": [
    "finalList"
   ]
  },
  {
   "cell_type": "code",
   "execution_count": 9,
   "metadata": {
    "collapsed": true
   },
   "outputs": [],
   "source": [
    "nutrDict = {}\n",
    "\n",
    "nutrDict['glutenFree'] = ['wheat','wheatberries','durum','emmer','semolina','spelt',\n",
    "             'farina','farro','graham','rye','barley','tricale','malt']\n",
    "\n",
    "nutrDict['nutFree'] = ['almond','brazil nut','cashew','chestnut','filbert',\n",
    "           'hazelnut','hickory nut','macadamia nut','pecans','pine nut',\n",
    "           'pistachio','walnut']\n",
    "\n",
    "nutrDict['dairyFree'] = ['milk','butter','cream','half & half','sour cream','ghee','yogurt','cheese']\n",
    "\n",
    "nutrDict['vegetarian'] = ['meat','lamb','beef','fish','shrimp','lobster','chicken']\n",
    "\n",
    "nutrDict['vegan'] = ['milk','butter','cream','half & half','sour cream','ghee','yogurt','cheese','egg','meat','lamb']\n",
    "\n",
    "##Low Glycemic"
   ]
  },
  {
   "cell_type": "code",
   "execution_count": 10,
   "metadata": {
    "collapsed": true
   },
   "outputs": [],
   "source": [
    "def nutrPref(pref,finalList):\n",
    "    \n",
    "    delIndex = []\n",
    "    \n",
    "    for i in range(0,len(finalList)):\n",
    "        if any(ing in finalList[i][2][0] for ing in nutrDict[pref]):\n",
    "            delIndex.append(i) ##delIndex.append(i)\n",
    "            \n",
    "    nutrList = [x for i, x in enumerate(finalList) if i not in delIndex]\n",
    "    return nutrList"
   ]
  },
  {
   "cell_type": "code",
   "execution_count": 11,
   "metadata": {
    "collapsed": true
   },
   "outputs": [],
   "source": [
    "nutrList = nutrPref('glutenFree',finalList)"
   ]
  },
  {
   "cell_type": "markdown",
   "metadata": {},
   "source": [
    "##Personalization with example bookmarked recipes"
   ]
  },
  {
   "cell_type": "code",
   "execution_count": 12,
   "metadata": {
    "collapsed": true
   },
   "outputs": [],
   "source": [
    "with open('/home/rachaelrho/ds/metis/final_project/User2_bookmarks.txt') as f:\n",
    "    User2 = []\n",
    "    for line in f:\n",
    "        User2.append(line) "
   ]
  },
  {
   "cell_type": "code",
   "execution_count": 13,
   "metadata": {
    "collapsed": true
   },
   "outputs": [],
   "source": [
    "def userIng(userLinks):\n",
    "\n",
    "    userIngsList = []\n",
    "    \n",
    "    for link in range(0,len(userLinks)):\n",
    "        url = userLinks[link]\n",
    "        response = urllib2.urlopen(url)\n",
    "        htmlparser = etree.HTMLParser()\n",
    "        tree = etree.parse(response, htmlparser)\n",
    "        ings = tree.xpath('//*[contains(@class, \"name\")]/text()')\n",
    "\n",
    "        ingsClean = []\n",
    "\n",
    "        for ing in range(0,len(ings)):\n",
    "            ingClean = ings[ing].rstrip(\" \").rstrip(\"\\n\").lstrip(\"\\n\")\n",
    "            ingsClean.append(ingClean)\n",
    "\n",
    "        userIngsList.append(ingsClean) \n",
    "    \n",
    "    return userIngsList"
   ]
  },
  {
   "cell_type": "code",
   "execution_count": 14,
   "metadata": {
    "collapsed": false
   },
   "outputs": [],
   "source": [
    "user2IngList = userIng(User2)"
   ]
  },
  {
   "cell_type": "code",
   "execution_count": 15,
   "metadata": {
    "collapsed": true
   },
   "outputs": [],
   "source": [
    "def usertopCos(userIngsList,NMF_matrix,nutrList):\n",
    "    \n",
    "    userdocFull = []\n",
    "    usercosListFull = []\n",
    "    \n",
    "    for i in range(0,len(userIngsList)):\n",
    "        \n",
    "        userdoc,usertopCos = topCosine(userIngsList[i],NMF_matrix)\n",
    "        usercosList = sorted([x for x in usertopCos if x[1] in (x[1] for x in nutrList)])\n",
    "        \n",
    "        userdocFull.append([userdoc])\n",
    "        usercosListFull.append(usercosList)\n",
    "    \n",
    "    return userdocFull,usercosListFull"
   ]
  },
  {
   "cell_type": "code",
   "execution_count": 16,
   "metadata": {
    "collapsed": true
   },
   "outputs": [],
   "source": [
    "userdocFull,usercosListFull = usertopCos(user2IngList,NMF_matrix,nutrList)"
   ]
  },
  {
   "cell_type": "code",
   "execution_count": 17,
   "metadata": {
    "collapsed": true
   },
   "outputs": [],
   "source": [
    "def userfinalList(nutrList,bookmarkList,nutrW,bookmarkW):\n",
    "    \n",
    "    nutrList = sorted([r[0:2] for r in nutrList], key =  lambda x: x[1])\n",
    "    bookmarkList = [sorted(usercosListFull[r], key = lambda tup: tup[1]) for r in range(0,len(usercosListFull))]\n",
    "    userAvg = np.mean(bookmarkList, dtype=np.float64, axis=0)\n",
    "    \n",
    "    userList = []\n",
    "                                                                \n",
    "    for i in range(0,len(nutrList)):\n",
    "        finalW = nutrList[i][0] * nutrW  + userAvg[i][0] * bookmarkW\n",
    "        userList.append((finalW,nutrList[i][1]))\n",
    "        \n",
    "    return userList"
   ]
  },
  {
   "cell_type": "code",
   "execution_count": 18,
   "metadata": {
    "collapsed": false
   },
   "outputs": [],
   "source": [
    "userList = userfinalList(nutrList,usercosListFull,0.8,0.2)"
   ]
  },
  {
   "cell_type": "code",
   "execution_count": 19,
   "metadata": {
    "collapsed": false
   },
   "outputs": [
    {
     "data": {
      "text/plain": [
       "[(0.85620964053111936, 1293),\n",
       " (0.7495382741747022, 1519),\n",
       " (0.84037637700442991, 1690),\n",
       " (0.84747264382126775, 1737)]"
      ]
     },
     "execution_count": 19,
     "metadata": {},
     "output_type": "execute_result"
    }
   ],
   "source": [
    "userList ##shows that recipe no. 1293 is best choice for user2 based on preferences, despite third best choice on pure cosine similarity"
   ]
  },
  {
   "cell_type": "markdown",
   "metadata": {},
   "source": [
    "## Most frequent ingredients + recommended recipes"
   ]
  },
  {
   "cell_type": "code",
   "execution_count": 26,
   "metadata": {
    "collapsed": false
   },
   "outputs": [],
   "source": [
    "NMFmodelred,NMF_matrixred = NMFactorize(tfidf_matrix,10)"
   ]
  },
  {
   "cell_type": "code",
   "execution_count": 27,
   "metadata": {
    "collapsed": true
   },
   "outputs": [],
   "source": [
    "def NMFgroup(matrix):\n",
    "    \n",
    "    groupList = []\n",
    "\n",
    "    for i in range(0,len(matrix)):\n",
    "        row = list(matrix[i])\n",
    "        group = row.index(max(row)) \n",
    "        groupList.append(group)\n",
    "        \n",
    "    return groupList"
   ]
  },
  {
   "cell_type": "code",
   "execution_count": 28,
   "metadata": {
    "collapsed": true
   },
   "outputs": [],
   "source": [
    "groupList = NMFgroup(NMF_matrixred)\n",
    "recipeDF['groupReduced'] = groupList"
   ]
  },
  {
   "cell_type": "code",
   "execution_count": 30,
   "metadata": {
    "collapsed": true
   },
   "outputs": [],
   "source": [
    "def mostCommonTerms(recipeDF):\n",
    "\n",
    "    mostCommon = []\n",
    "\n",
    "    for i in list(set(groupList)):\n",
    "        df = recipeDF.ingredientTokens[recipeDF.groupReduced == i]\n",
    "        corpus = str(' '.join(df))\n",
    "        tokens = nltk.word_tokenize(corpus)\n",
    "        fdist = FreqDist(tokens)\n",
    "        comm = fdist.most_common(100)\n",
    "        mostCommon.append([i,comm])\n",
    "\n",
    "    return mostCommon"
   ]
  },
  {
   "cell_type": "code",
   "execution_count": 35,
   "metadata": {
    "collapsed": false
   },
   "outputs": [],
   "source": [
    "mostCommon = mostCommonTerms(recipeDF)"
   ]
  },
  {
   "cell_type": "code",
   "execution_count": 270,
   "metadata": {
    "collapsed": false
   },
   "outputs": [],
   "source": [
    "def combRecipe(combs,pref,user2IngList,nutrW,bookmarkW):\n",
    "    \n",
    "    d = {}\n",
    "    rejInput = []\n",
    "    \n",
    "    for i in range(0,len(combs)): \n",
    "        ingInput = combs[i]\n",
    "        document,cosineList = topCosine(ingInput,NMF_matrix)\n",
    "        recipes, finalList = topIng(cosineList,recipeDF)\n",
    "        nutrList = nutrPref(pref,finalList)\n",
    "        userdocFull,usercosListFull = usertopCos(user2IngList,NMF_matrix,nutrList)\n",
    "        userList = userfinalList(nutrList,usercosListFull,nutrW,bookmarkW)\n",
    "        \n",
    "        try:\n",
    "            recipeMax = max(userList)[1]\n",
    "            recipeName = str(recipeDF.title.loc[recipeMax][0]) \n",
    "            ingName = ','.join(ingInput)\n",
    "            d[ingName] = recipeName\n",
    "            print recipeName\n",
    "            \n",
    "        except:\n",
    "            rejInput.append(ingInput)\n",
    "            print ingInput\n",
    "    \n",
    "    with open('recipes.json', 'w') as fp:\n",
    "        json.dump(d, fp, sort_keys=True, indent=4) \n",
    "    \n",
    "    return d, rejInput   "
   ]
  },
  {
   "cell_type": "code",
   "execution_count": 284,
   "metadata": {
    "collapsed": true
   },
   "outputs": [],
   "source": [
    "recipeDict, rejected = combRecipe(combs,\"glutenFree\",user2IngList,0.8,0.2)"
   ]
  }
 ],
 "metadata": {
  "kernelspec": {
   "display_name": "Python 2",
   "language": "python",
   "name": "python2"
  },
  "language_info": {
   "codemirror_mode": {
    "name": "ipython",
    "version": 2
   },
   "file_extension": ".py",
   "mimetype": "text/x-python",
   "name": "python",
   "nbconvert_exporter": "python",
   "pygments_lexer": "ipython2",
   "version": "2.7.11"
  }
 },
 "nbformat": 4,
 "nbformat_minor": 0
}
