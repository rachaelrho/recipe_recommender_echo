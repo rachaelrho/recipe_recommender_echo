{
 "cells": [
  {
   "cell_type": "code",
   "execution_count": 812,
   "metadata": {
    "collapsed": false
   },
   "outputs": [],
   "source": [
    "import pandas as pd\n",
    "import numpy as np\n",
    "from statistics import mode\n",
    "import unicodedata as ucd\n",
    "import random\n",
    "import json\n",
    "from pprint import pprint\n",
    "\n",
    "##text pre-processing\n",
    "import nltk\n",
    "from nltk.tokenize import RegexpTokenizer\n",
    "from nltk import word_tokenize\n",
    "from nltk.stem.porter import PorterStemmer\n",
    "from nltk.stem import WordNetLemmatizer\n",
    "from nltk.corpus import stopwords\n",
    "\n",
    "from sklearn.feature_extraction.text import CountVectorizer, TfidfTransformer, TfidfVectorizer\n",
    "from sklearn.utils.extmath import randomized_svd\n",
    "from sklearn.decomposition import NMF\n",
    "from sklearn.metrics.pairwise import cosine_similarity  \n",
    "\n",
    "import pyLDAvis"
   ]
  },
  {
   "cell_type": "code",
   "execution_count": 5,
   "metadata": {
    "collapsed": false
   },
   "outputs": [],
   "source": [
    "nyt = pd.read_csv(\"https://raw.githubusercontent.com/NYTimes/ingredient-phrase-tagger/master/nyt-ingredients-snapshot-2015.csv\")"
   ]
  },
  {
   "cell_type": "code",
   "execution_count": 6,
   "metadata": {
    "collapsed": false
   },
   "outputs": [
    {
     "data": {
      "text/html": [
       "<div>\n",
       "<table border=\"1\" class=\"dataframe\">\n",
       "  <thead>\n",
       "    <tr style=\"text-align: right;\">\n",
       "      <th></th>\n",
       "      <th>index</th>\n",
       "      <th>input</th>\n",
       "      <th>name</th>\n",
       "      <th>qty</th>\n",
       "      <th>range_end</th>\n",
       "      <th>unit</th>\n",
       "      <th>comment</th>\n",
       "    </tr>\n",
       "  </thead>\n",
       "  <tbody>\n",
       "    <tr>\n",
       "      <th>0</th>\n",
       "      <td>0</td>\n",
       "      <td>1 1/4 cups cooked and pureed fresh butternut s...</td>\n",
       "      <td>butternut squash</td>\n",
       "      <td>1.25</td>\n",
       "      <td>0.0</td>\n",
       "      <td>cup</td>\n",
       "      <td>cooked and pureed fresh, or 1 10-ounce package...</td>\n",
       "    </tr>\n",
       "    <tr>\n",
       "      <th>1</th>\n",
       "      <td>1</td>\n",
       "      <td>1 cup peeled and cooked fresh chestnuts (about...</td>\n",
       "      <td>chestnuts</td>\n",
       "      <td>1.00</td>\n",
       "      <td>0.0</td>\n",
       "      <td>cup</td>\n",
       "      <td>peeled and cooked fresh (about 20), or 1 cup c...</td>\n",
       "    </tr>\n",
       "    <tr>\n",
       "      <th>2</th>\n",
       "      <td>2</td>\n",
       "      <td>1 medium-size onion, peeled and chopped</td>\n",
       "      <td>onion</td>\n",
       "      <td>1.00</td>\n",
       "      <td>0.0</td>\n",
       "      <td>NaN</td>\n",
       "      <td>medium-size, peeled and chopped</td>\n",
       "    </tr>\n",
       "  </tbody>\n",
       "</table>\n",
       "</div>"
      ],
      "text/plain": [
       "   index                                              input              name  \\\n",
       "0      0  1 1/4 cups cooked and pureed fresh butternut s...  butternut squash   \n",
       "1      1  1 cup peeled and cooked fresh chestnuts (about...         chestnuts   \n",
       "2      2            1 medium-size onion, peeled and chopped             onion   \n",
       "\n",
       "    qty  range_end unit                                            comment  \n",
       "0  1.25        0.0  cup  cooked and pureed fresh, or 1 10-ounce package...  \n",
       "1  1.00        0.0  cup  peeled and cooked fresh (about 20), or 1 cup c...  \n",
       "2  1.00        0.0  NaN                    medium-size, peeled and chopped  "
      ]
     },
     "execution_count": 6,
     "metadata": {},
     "output_type": "execute_result"
    }
   ],
   "source": [
    "nyt.head(3)"
   ]
  },
  {
   "cell_type": "code",
   "execution_count": 59,
   "metadata": {
    "collapsed": false
   },
   "outputs": [
    {
     "data": {
      "text/plain": [
       "0    1 1/4 cups cooked and pureed fresh butternut squash, or 1 10-ounce package frozen squash, defrosted\n",
       "Name: input, dtype: object"
      ]
     },
     "execution_count": 59,
     "metadata": {},
     "output_type": "execute_result"
    }
   ],
   "source": [
    "pd.set_option('max_colwidth', 800)\n",
    "nyt['input'][0:1]"
   ]
  },
  {
   "cell_type": "markdown",
   "metadata": {},
   "source": [
    "## concatenate json files and create dataframe"
   ]
  },
  {
   "cell_type": "code",
   "execution_count": 198,
   "metadata": {
    "collapsed": false
   },
   "outputs": [],
   "source": [
    "file_list = [\"fullhelping_items.json\", \"iLoveVegan_items.json\", \"MinimalistBaker_items.json\", \"ohsheglows_items.json\",\n",
    "             \"PaleOMG_items.json\"]\n",
    "full = []\n",
    "with open(\"allRecipes.json\", \"w\") as outfile:\n",
    "    for f in file_list:\n",
    "        with open(f, 'rb') as infile:\n",
    "            file_data = json.load(infile)\n",
    "            full += file_data\n",
    "    json.dump(full, outfile)\n"
   ]
  },
  {
   "cell_type": "code",
   "execution_count": 214,
   "metadata": {
    "collapsed": false
   },
   "outputs": [],
   "source": [
    "with open('allRecipes.json', 'rb') as infile:\n",
    "    full = json.load(infile)"
   ]
  },
  {
   "cell_type": "code",
   "execution_count": 215,
   "metadata": {
    "collapsed": true
   },
   "outputs": [],
   "source": [
    "fullDF = pd.DataFrame(full)"
   ]
  },
  {
   "cell_type": "code",
   "execution_count": 216,
   "metadata": {
    "collapsed": false
   },
   "outputs": [],
   "source": [
    "fullDF1 = fullDF[(fullDF.ingredientsList.str.len() != 0)]"
   ]
  },
  {
   "cell_type": "code",
   "execution_count": 217,
   "metadata": {
    "collapsed": false
   },
   "outputs": [],
   "source": [
    "recipeDF = fullDF1.reset_index(drop=True)"
   ]
  },
  {
   "cell_type": "code",
   "execution_count": 218,
   "metadata": {
    "collapsed": false
   },
   "outputs": [
    {
     "data": {
      "text/plain": [
       "(1342, 6)"
      ]
     },
     "execution_count": 218,
     "metadata": {},
     "output_type": "execute_result"
    }
   ],
   "source": [
    "recipeDF.shape"
   ]
  },
  {
   "cell_type": "code",
   "execution_count": 209,
   "metadata": {
    "collapsed": false
   },
   "outputs": [],
   "source": [
    "recipeDF.to_pickle('recipeDF v2')"
   ]
  },
  {
   "cell_type": "code",
   "execution_count": 210,
   "metadata": {
    "collapsed": false
   },
   "outputs": [],
   "source": [
    "recipeDF = pd.read_pickle('recipeDF v2')"
   ]
  },
  {
   "cell_type": "code",
   "execution_count": 211,
   "metadata": {
    "collapsed": false
   },
   "outputs": [
    {
     "data": {
      "text/html": [
       "<div>\n",
       "<table border=\"1\" class=\"dataframe\">\n",
       "  <thead>\n",
       "    <tr style=\"text-align: right;\">\n",
       "      <th></th>\n",
       "      <th>category</th>\n",
       "      <th>ingredientsList</th>\n",
       "      <th>instructions</th>\n",
       "      <th>summary</th>\n",
       "      <th>title</th>\n",
       "      <th>url</th>\n",
       "    </tr>\n",
       "  </thead>\n",
       "  <tbody>\n",
       "    <tr>\n",
       "      <th>0</th>\n",
       "      <td>[]</td>\n",
       "      <td>[1 pound purple asparagus, washed, woody ends ...</td>\n",
       "      <td>[Preheat the oven to 400F. Toss the asparagus ...</td>\n",
       "      <td>[]</td>\n",
       "      <td>[Purple Asparagus and Quinoa Salad with Peas a...</td>\n",
       "      <td>http://www.thefullhelping.com/purple-asparagus...</td>\n",
       "    </tr>\n",
       "    <tr>\n",
       "      <th>1</th>\n",
       "      <td>[]</td>\n",
       "      <td>[1 package DOLE® Power Up Greens™ (or 6 oz. ba...</td>\n",
       "      <td>[1. Place the greens, quinoa, blueberries, and...</td>\n",
       "      <td>[]</td>\n",
       "      <td>[Power Up Salad with Baby Kale, Quinoa, Bluebe...</td>\n",
       "      <td>http://www.thefullhelping.com/power-up-salad-w...</td>\n",
       "    </tr>\n",
       "    <tr>\n",
       "      <th>2</th>\n",
       "      <td>[]</td>\n",
       "      <td>[1¾ cups gluten-free, all purpose flour or who...</td>\n",
       "      <td>[Preheat your oven to 350F. Line a 12-muffin b...</td>\n",
       "      <td>[]</td>\n",
       "      <td>[Vegan, Gluten Free Pumpkin Gingerbread Spice ...</td>\n",
       "      <td>http://www.thefullhelping.com/vegan-gluten-fre...</td>\n",
       "    </tr>\n",
       "  </tbody>\n",
       "</table>\n",
       "</div>"
      ],
      "text/plain": [
       "  category                                    ingredientsList  \\\n",
       "0       []  [1 pound purple asparagus, washed, woody ends ...   \n",
       "1       []  [1 package DOLE® Power Up Greens™ (or 6 oz. ba...   \n",
       "2       []  [1¾ cups gluten-free, all purpose flour or who...   \n",
       "\n",
       "                                        instructions summary  \\\n",
       "0  [Preheat the oven to 400F. Toss the asparagus ...      []   \n",
       "1  [1. Place the greens, quinoa, blueberries, and...      []   \n",
       "2  [Preheat your oven to 350F. Line a 12-muffin b...      []   \n",
       "\n",
       "                                               title  \\\n",
       "0  [Purple Asparagus and Quinoa Salad with Peas a...   \n",
       "1  [Power Up Salad with Baby Kale, Quinoa, Bluebe...   \n",
       "2  [Vegan, Gluten Free Pumpkin Gingerbread Spice ...   \n",
       "\n",
       "                                                 url  \n",
       "0  http://www.thefullhelping.com/purple-asparagus...  \n",
       "1  http://www.thefullhelping.com/power-up-salad-w...  \n",
       "2  http://www.thefullhelping.com/vegan-gluten-fre...  "
      ]
     },
     "execution_count": 211,
     "metadata": {},
     "output_type": "execute_result"
    }
   ],
   "source": [
    "recipeDF.head(3)"
   ]
  },
  {
   "cell_type": "markdown",
   "metadata": {},
   "source": [
    "## Write ingredients to file for NYT ingredient tagger"
   ]
  },
  {
   "cell_type": "code",
   "execution_count": 70,
   "metadata": {
    "collapsed": false
   },
   "outputs": [],
   "source": [
    "f = open(\"input.txt\", \"a\")\n",
    "ingredientList = []\n",
    "\n",
    "for row in range(0,len(recipeDF)):\n",
    "    ingredients = recipeDF.ingredientsList.iloc[row]\n",
    "    for i in range(0,len(ingredients)):\n",
    "        line = ingredients[i].encode('ascii','ignore')\n",
    "        ingredientList.append([row,i,line])\n",
    "        f.write(line + '\\n')\n",
    "f.close()\n",
    "        "
   ]
  },
  {
   "cell_type": "code",
   "execution_count": 71,
   "metadata": {
    "collapsed": false
   },
   "outputs": [],
   "source": [
    "ingredientDF = pd.DataFrame(ingredientList, columns=['recipeIndex','ingredientIndex','recipeText'])"
   ]
  },
  {
   "cell_type": "code",
   "execution_count": 72,
   "metadata": {
    "collapsed": false
   },
   "outputs": [
    {
     "data": {
      "text/plain": [
       "15654"
      ]
     },
     "execution_count": 72,
     "metadata": {},
     "output_type": "execute_result"
    }
   ],
   "source": [
    "len(ingredientDF)"
   ]
  },
  {
   "cell_type": "markdown",
   "metadata": {},
   "source": [
    "## merge NYT ingredient tags with ingredientDF"
   ]
  },
  {
   "cell_type": "code",
   "execution_count": 73,
   "metadata": {
    "collapsed": true
   },
   "outputs": [],
   "source": [
    "with open('results.json', 'rb') as infile:\n",
    "    ingredientTags = json.load(infile)"
   ]
  },
  {
   "cell_type": "code",
   "execution_count": 74,
   "metadata": {
    "collapsed": false
   },
   "outputs": [],
   "source": [
    "ingredientTagsDF = pd.DataFrame(ingredientTags)"
   ]
  },
  {
   "cell_type": "code",
   "execution_count": 75,
   "metadata": {
    "collapsed": false
   },
   "outputs": [],
   "source": [
    "ingredientDF2 = ingredientDF[ingredientDF['recipeText'].str.contains(\"\\n|\\t\") == False]\n",
    "ingredientDF2 = ingredientDF2.reset_index(drop=True)"
   ]
  },
  {
   "cell_type": "code",
   "execution_count": 76,
   "metadata": {
    "collapsed": false
   },
   "outputs": [
    {
     "data": {
      "text/plain": [
       "15296"
      ]
     },
     "execution_count": 76,
     "metadata": {},
     "output_type": "execute_result"
    }
   ],
   "source": [
    "len(ingredientDF2)"
   ]
  },
  {
   "cell_type": "code",
   "execution_count": 77,
   "metadata": {
    "collapsed": false
   },
   "outputs": [],
   "source": [
    "ingredientTaggedDF = pd.concat([ingredientDF2,ingredientTagsDF], axis = 1)"
   ]
  },
  {
   "cell_type": "code",
   "execution_count": 78,
   "metadata": {
    "collapsed": true
   },
   "outputs": [],
   "source": [
    "ingredientTaggedDF.to_pickle('ingredientTaggedDF')"
   ]
  },
  {
   "cell_type": "code",
   "execution_count": null,
   "metadata": {
    "collapsed": true
   },
   "outputs": [],
   "source": [
    "ingredientTaggedDF = pd.read_pickle('/home/rachaelrho/ds/metis/final_project/foodBlogs/ingredientTaggedDF')"
   ]
  },
  {
   "cell_type": "markdown",
   "metadata": {},
   "source": [
    "## create Ingredient Documents / Strings"
   ]
  },
  {
   "cell_type": "code",
   "execution_count": 79,
   "metadata": {
    "collapsed": false
   },
   "outputs": [
    {
     "data": {
      "text/plain": [
       "1340"
      ]
     },
     "execution_count": 79,
     "metadata": {},
     "output_type": "execute_result"
    }
   ],
   "source": [
    "len(ingredientTaggedDF.recipeIndex.unique())"
   ]
  },
  {
   "cell_type": "code",
   "execution_count": 91,
   "metadata": {
    "collapsed": false
   },
   "outputs": [],
   "source": [
    "ingredientTaggedDF['name'] = ingredientTaggedDF['name'].astype(str)"
   ]
  },
  {
   "cell_type": "code",
   "execution_count": 92,
   "metadata": {
    "collapsed": false
   },
   "outputs": [
    {
     "data": {
      "text/plain": [
       "1340"
      ]
     },
     "execution_count": 92,
     "metadata": {},
     "output_type": "execute_result"
    }
   ],
   "source": [
    "len(ingredientTaggedDF.recipeIndex.unique())"
   ]
  },
  {
   "cell_type": "code",
   "execution_count": 93,
   "metadata": {
    "collapsed": false
   },
   "outputs": [
    {
     "name": "stderr",
     "output_type": "stream",
     "text": [
      "/home/rachaelrho/anaconda/lib/python2.7/site-packages/IPython/kernel/__main__.py:5: SettingWithCopyWarning: \n",
      "A value is trying to be set on a copy of a slice from a DataFrame\n",
      "\n",
      "See the caveats in the documentation: http://pandas.pydata.org/pandas-docs/stable/indexing.html#indexing-view-versus-copy\n"
     ]
    }
   ],
   "source": [
    "recipeDF['ingredientTokens'] = 0\n",
    "\n",
    "for i in range(0,len(ingredientTaggedDF.recipeIndex.unique())):\n",
    "    ingredients = ingredientTaggedDF.name[ingredientTaggedDF.recipeIndex == i]\n",
    "    recipeDF['ingredientTokens'][i] = str(' '.join(ingredients))   "
   ]
  },
  {
   "cell_type": "code",
   "execution_count": 98,
   "metadata": {
    "collapsed": false
   },
   "outputs": [],
   "source": [
    "recipeDF['ingredientTokens'] = recipeDF['ingredientTokens'].astype(str)"
   ]
  },
  {
   "cell_type": "code",
   "execution_count": 23,
   "metadata": {
    "collapsed": true
   },
   "outputs": [],
   "source": [
    "def createTokens(document):\n",
    "    tokenizer = RegexpTokenizer(r'\\w+')\n",
    "    tokens = tokenizer.tokenize(document)\n",
    "    \n",
    "    tokens = [PorterStemmer().stem(x) for x in tokens]\n",
    "    tokens = [WordNetLemmatizer().lemmatize(x, 'v') for x in tokens]\n",
    "    \n",
    "    stop = stopwords.words('english')\n",
    "    tokens = [x for x in tokens if x not in stop] \n",
    "    return ' '.join(tokens)"
   ]
  },
  {
   "cell_type": "code",
   "execution_count": 100,
   "metadata": {
    "collapsed": false
   },
   "outputs": [],
   "source": [
    "recipeDF.loc[:, 'ingredientTokens'] = recipeDF.loc[:, 'ingredientTokens'].apply(createTokens)"
   ]
  },
  {
   "cell_type": "code",
   "execution_count": 101,
   "metadata": {
    "collapsed": false
   },
   "outputs": [],
   "source": [
    "recipeDFnull = recipeDF[recipeDF.ingredientTokens.isnull() == True]"
   ]
  },
  {
   "cell_type": "code",
   "execution_count": 103,
   "metadata": {
    "collapsed": true
   },
   "outputs": [],
   "source": [
    "recipeDF.to_pickle('recipeDF_tokens')"
   ]
  },
  {
   "cell_type": "code",
   "execution_count": 660,
   "metadata": {
    "collapsed": false
   },
   "outputs": [],
   "source": [
    "recipeDF = pd.read_pickle('recipeDF_tokens')"
   ]
  },
  {
   "cell_type": "code",
   "execution_count": 362,
   "metadata": {
    "collapsed": false
   },
   "outputs": [
    {
     "data": {
      "text/html": [
       "<div>\n",
       "<table border=\"1\" class=\"dataframe\">\n",
       "  <thead>\n",
       "    <tr style=\"text-align: right;\">\n",
       "      <th></th>\n",
       "      <th>category</th>\n",
       "      <th>ingredientsList</th>\n",
       "      <th>instructions</th>\n",
       "      <th>summary</th>\n",
       "      <th>title</th>\n",
       "      <th>url</th>\n",
       "      <th>ingredientTokens</th>\n",
       "    </tr>\n",
       "  </thead>\n",
       "  <tbody>\n",
       "    <tr>\n",
       "      <th>381</th>\n",
       "      <td>[Dessert]</td>\n",
       "      <td>[~2.5 cups , 16 ,  (made in circles, not shapes)]</td>\n",
       "      <td>[See cookie recipe and follow instructions. On...</td>\n",
       "      <td>[Creamy ice cream sandwiches made with a sweet...</td>\n",
       "      <td>[Chai Ginger Ice Cream Sandwiches]</td>\n",
       "      <td>http://minimalistbaker.com/chai-ginger-ice-cre...</td>\n",
       "      <td>nan nan nan</td>\n",
       "    </tr>\n",
       "  </tbody>\n",
       "</table>\n",
       "</div>"
      ],
      "text/plain": [
       "      category                                    ingredientsList  \\\n",
       "381  [Dessert]  [~2.5 cups , 16 ,  (made in circles, not shapes)]   \n",
       "\n",
       "                                          instructions  \\\n",
       "381  [See cookie recipe and follow instructions. On...   \n",
       "\n",
       "                                               summary  \\\n",
       "381  [Creamy ice cream sandwiches made with a sweet...   \n",
       "\n",
       "                                  title  \\\n",
       "381  [Chai Ginger Ice Cream Sandwiches]   \n",
       "\n",
       "                                                   url ingredientTokens  \n",
       "381  http://minimalistbaker.com/chai-ginger-ice-cre...      nan nan nan  "
      ]
     },
     "execution_count": 362,
     "metadata": {},
     "output_type": "execute_result"
    }
   ],
   "source": [
    "recipeDF[381:382]"
   ]
  },
  {
   "cell_type": "code",
   "execution_count": 689,
   "metadata": {
    "collapsed": false
   },
   "outputs": [],
   "source": [
    "recipeDF = recipeDF.drop(recipeDF.index[[363,381,428,503,512,677,715,1098,1179,1340,1341]]) ##new line to take out nan tokens.drop(fullDF1.index[[381,512,677,1098,1179,1340,1341]]) ##new line to take out nan tokens"
   ]
  },
  {
   "cell_type": "code",
   "execution_count": 690,
   "metadata": {
    "collapsed": false
   },
   "outputs": [
    {
     "data": {
      "text/plain": [
       "(1331, 7)"
      ]
     },
     "execution_count": 690,
     "metadata": {},
     "output_type": "execute_result"
    }
   ],
   "source": [
    "recipeDF.shape"
   ]
  },
  {
   "cell_type": "markdown",
   "metadata": {},
   "source": [
    "## TFIDF vectorizer"
   ]
  },
  {
   "cell_type": "code",
   "execution_count": 691,
   "metadata": {
    "collapsed": true
   },
   "outputs": [],
   "source": [
    "stop = ['nan','tbsp','tsp']"
   ]
  },
  {
   "cell_type": "code",
   "execution_count": 692,
   "metadata": {
    "collapsed": false
   },
   "outputs": [],
   "source": [
    "tfidf_vectorizer = TfidfVectorizer(max_df=.2, max_features=1300, min_df=0.01, stop_words= stop, use_idf=True, ngram_range=(1,3))"
   ]
  },
  {
   "cell_type": "code",
   "execution_count": 693,
   "metadata": {
    "collapsed": false
   },
   "outputs": [],
   "source": [
    "tfidf_matrix = tfidf_vectorizer.fit_transform(recipeDF.ingredientTokens)"
   ]
  },
  {
   "cell_type": "code",
   "execution_count": 694,
   "metadata": {
    "collapsed": true
   },
   "outputs": [],
   "source": [
    "terms = sorted([(i,v) for v,i in tfidf_vectorizer.vocabulary_.items()])"
   ]
  },
  {
   "cell_type": "code",
   "execution_count": 695,
   "metadata": {
    "collapsed": false
   },
   "outputs": [],
   "source": [
    "vocab = [x[1] for x in terms]"
   ]
  },
  {
   "cell_type": "code",
   "execution_count": 696,
   "metadata": {
    "collapsed": false
   },
   "outputs": [],
   "source": [
    "feature_array = np.array(tfidf_vectorizer.get_feature_names())\n",
    "tfidf_sorting = np.argsort(tfidf_matrix.toarray()).flatten()[::-1]\n",
    "\n",
    "n = 300\n",
    "top_n = feature_array[tfidf_sorting][:n]"
   ]
  },
  {
   "cell_type": "code",
   "execution_count": 697,
   "metadata": {
    "collapsed": false
   },
   "outputs": [
    {
     "data": {
      "text/plain": [
       "[u'garlic oliv oil', u'cider vinegar', u'mapl syrup salt']"
      ]
     },
     "execution_count": 697,
     "metadata": {},
     "output_type": "execute_result"
    }
   ],
   "source": [
    "random.sample(top_n,3)"
   ]
  },
  {
   "cell_type": "code",
   "execution_count": 698,
   "metadata": {
    "collapsed": false
   },
   "outputs": [
    {
     "data": {
      "text/plain": [
       "u'chocol garlic salt chocol chip'"
      ]
     },
     "execution_count": 698,
     "metadata": {},
     "output_type": "execute_result"
    }
   ],
   "source": [
    "' '.join(random.sample(top_n,3))"
   ]
  },
  {
   "cell_type": "markdown",
   "metadata": {},
   "source": [
    "## NMF"
   ]
  },
  {
   "cell_type": "code",
   "execution_count": 699,
   "metadata": {
    "collapsed": true
   },
   "outputs": [],
   "source": [
    "U, Sigma, VT = randomized_svd(tfidf_matrix, n_components=25,\n",
    "                                      n_iter=5,\n",
    "                                      random_state=None)"
   ]
  },
  {
   "cell_type": "code",
   "execution_count": 700,
   "metadata": {
    "collapsed": false
   },
   "outputs": [
    {
     "data": {
      "text/plain": [
       "array([ 8.3424093 ,  6.68604512,  5.03850913,  4.9130097 ,  4.59116261,\n",
       "        4.49135099,  4.40257653,  4.27639909,  4.13437523,  3.92875692,\n",
       "        3.80029697,  3.75193363,  3.73394517,  3.64916834,  3.57065936,\n",
       "        3.55146463,  3.5073692 ,  3.41596696,  3.34552493,  3.27206199,\n",
       "        3.21667515,  3.16616908,  3.1425937 ,  3.10537652,  3.06208194])"
      ]
     },
     "execution_count": 700,
     "metadata": {},
     "output_type": "execute_result"
    }
   ],
   "source": [
    "Sigma"
   ]
  },
  {
   "cell_type": "code",
   "execution_count": 741,
   "metadata": {
    "collapsed": false
   },
   "outputs": [],
   "source": [
    "NMFmodel = NMF(n_components=15, init='random', random_state=0)\n",
    "NMF_topics = NMFmodel.fit_transform(tfidf_matrix)"
   ]
  },
  {
   "cell_type": "code",
   "execution_count": 763,
   "metadata": {
    "collapsed": false
   },
   "outputs": [
    {
     "data": {
      "text/plain": [
       "1331"
      ]
     },
     "execution_count": 763,
     "metadata": {},
     "output_type": "execute_result"
    }
   ],
   "source": [
    "len(clusters)"
   ]
  },
  {
   "cell_type": "code",
   "execution_count": 766,
   "metadata": {
    "collapsed": false
   },
   "outputs": [],
   "source": [
    "recipeDF['cluster'] = clusters"
   ]
  },
  {
   "cell_type": "code",
   "execution_count": 814,
   "metadata": {
    "collapsed": false
   },
   "outputs": [
    {
     "data": {
      "text/plain": [
       "2       [Vegan, Gluten Free Pumpkin Gingerbread Spice ...\n",
       "4            [Vegan Slow Cooker Apple Pie Steel Cut Oats]\n",
       "5                             [Vegan Carob Chip Pancakes]\n",
       "9                        [Walnut Cheddar and Apple Toast]\n",
       "40               [Gluten Free, Vegan Zucchini Date Bread]\n",
       "67      [Mango Curry Tofu from Vegan Richa’s Indian Ki...\n",
       "72                             [Berry Hemp Spelt Muffins]\n",
       "87      [Vegan, Gluten Free Pumpkin Skillet Cornbread ...\n",
       "91      [Gingery Pink Rice with Roasted Butternut Squa...\n",
       "109     [Sweet Dijon Vinaigrette and Chickpea, Sweet P...\n",
       "112     [Creamy Polenta with Barbecue Tofu and Mango a...\n",
       "120     [Spicy Peanut Kale Salad (gluten and soy free ...\n",
       "138     [Roasted Beet, Baby Spinach, and Toasted Quino...\n",
       "147     [Quinoa, Corn, Black Bean, and Tempeh Salad wi...\n",
       "165                   [Fifteen Minute Tempeh Lunch Salad]\n",
       "172                   [Almond Butter and Sesame Dressing]\n",
       "180     [Beet Tartare with Cashew Cheese (vegan, glute...\n",
       "183          [Aduki Bean, Japanese Yam, and Cabbage Bowl]\n",
       "294       [The Best Vegan Gluten Free Chocolate Cupcakes]\n",
       "297        [Peanut Butter and Jelly Muffins (Vegan + GF)]\n",
       "461                                 [Whiskey BBQ Ketchup]\n",
       "471                                [DIY Natural Food Dye]\n",
       "524         [1 Bowl Chocolate Hazelnut Cake (Vegan + GF)]\n",
       "536          [Chocolate Peppermint Cupcakes (Vegan + GF)]\n",
       "546                   [Gluten Free Birthday Cake (Vegan)]\n",
       "580                                  [Vegan Whoopie Pies]\n",
       "592                                    [Simple Fall Slaw]\n",
       "634                  [1-Bowl Blackberry Cornmeal Muffins]\n",
       "645                          [The Best Vegan Apple Crisp]\n",
       "735                      [Apple Carrot Beet Ginger Juice]\n",
       "803                             [Apple French Toast Bake]\n",
       "857     [Vegan Peach Cupcakes, Vegan \"Honey Buttercrea...\n",
       "923                                                    []\n",
       "943                                                    []\n",
       "981                                                    []\n",
       "1004            [Double Pork & Sage Stuffed Baked Apples]\n",
       "1008                                 [Apple Pie Smoothie]\n",
       "1026           [Real Life Paleo: Sweet Potato Apple Hash]\n",
       "1036                       [Bacon Braised Collard Greens]\n",
       "1065         [Rosemary Roasted Apples and Sweet Potatoes]\n",
       "1078        [21DSD Green Apple and Coconut 2-Bite Treats]\n",
       "1094                                [Simple Shrimp Salad]\n",
       "1116                                 [Apple Cider Donuts]\n",
       "1151                                 [Apple Pie Tartlets]\n",
       "1186                                                   []\n",
       "1234                                                   []\n",
       "1242                                                   []\n",
       "1255                                                   []\n",
       "1264                                                   []\n",
       "1273                                                   []\n",
       "1293                                                   []\n",
       "1309                                                   []\n",
       "1314                                                   []\n",
       "1333                                                   []\n",
       "Name: title, dtype: object"
      ]
     },
     "execution_count": 814,
     "metadata": {},
     "output_type": "execute_result"
    }
   ],
   "source": [
    "recipeDF.title[recipeDF.cluster == 7]"
   ]
  },
  {
   "cell_type": "code",
   "execution_count": 813,
   "metadata": {
    "collapsed": false
   },
   "outputs": [
    {
     "data": {
      "text/plain": [
       "7"
      ]
     },
     "execution_count": 813,
     "metadata": {},
     "output_type": "execute_result"
    }
   ],
   "source": [
    "mode(list(recipeDF.cluster[recipeDF.ingredientTokens.str.contains(\"vinegar\")]))"
   ]
  },
  {
   "cell_type": "code",
   "execution_count": null,
   "metadata": {
    "collapsed": true
   },
   "outputs": [],
   "source": [
    "###### clusters = [list(r).index(max(r)) for r in NMF_topics]\n",
    "counts = [0]*NMF_topics.shape[1]\n",
    "for c in clusters:\n",
    "    counts[c]+=1\n",
    "counts\n",
    "#clusters[0:20]\n",
    "#recipeDF.ingredientTokens[6]"
   ]
  },
  {
   "cell_type": "markdown",
   "metadata": {
    "collapsed": true
   },
   "source": [
    "## User input test"
   ]
  },
  {
   "cell_type": "code",
   "execution_count": 744,
   "metadata": {
    "collapsed": true
   },
   "outputs": [],
   "source": [
    "test = ['chicken']"
   ]
  },
  {
   "cell_type": "code",
   "execution_count": 820,
   "metadata": {
    "collapsed": true
   },
   "outputs": [],
   "source": [
    "document = 'cocoa' #chicken avocado tomato'"
   ]
  },
  {
   "cell_type": "code",
   "execution_count": 821,
   "metadata": {
    "collapsed": true
   },
   "outputs": [],
   "source": [
    "def testCosine(testTokens, NMF_topics):\n",
    "    tf = tfidf_vectorizer.transform([testTokens])\n",
    "    NMF = NMFmodel.transform(tf)\n",
    "    cosine = cosine_similarity(NMF, NMF_topics) \n",
    "    cosineList = sorted(((e,i) for i,e in enumerate(list(cosine[0]))), reverse = True)\n",
    "    return cosineList"
   ]
  },
  {
   "cell_type": "code",
   "execution_count": 832,
   "metadata": {
    "collapsed": false
   },
   "outputs": [],
   "source": [
    "def topRecipes(recipeDF,cosineList): ##top recipes that contain keywords\n",
    "    \n",
    "    top100 = [x[1] for x in cosineList[0:100]]\n",
    "    topRecipes = []\n",
    "\n",
    "    for i in top100:\n",
    "        ing = [i,list(recipeDF.ingredientTokens[i:i+1])]\n",
    "        topRecipes.append(ing)\n",
    "        \n",
    "    \n",
    "    return topRecipes"
   ]
  },
  {
   "cell_type": "code",
   "execution_count": 833,
   "metadata": {
    "collapsed": false
   },
   "outputs": [],
   "source": [
    "cosineList = testCosine(createTokens(document), NMF_topics)"
   ]
  },
  {
   "cell_type": "code",
   "execution_count": 834,
   "metadata": {
    "collapsed": false
   },
   "outputs": [],
   "source": [
    "topRecipes = topRecipes(recipeDF,cosineList)"
   ]
  },
  {
   "cell_type": "code",
   "execution_count": 874,
   "metadata": {
    "collapsed": false
   },
   "outputs": [
    {
     "data": {
      "text/plain": [
       "[[1200,\n",
       "  [u'chicken breast yellow onion green bell pepper jalapeno nan coconut oil tomato tomato sauc garlic cumin chili powder oregano salt pepper cilantro avocado']],\n",
       " [1025,\n",
       "  [u'egg avocado salsa chili powder onion powder garlic powder cilantro Salt']],\n",
       " [195,\n",
       "  [u'English muffin nan tempeh bacon Daiya chees butter lettuc tomato avocado garlic guacamol mayo']],\n",
       " [1253,\n",
       "  [u'avocado pineappl dice skinni yam potato plantain jalapeno red onion cilantro garlic garlic cayenn pepper salt pepper coconut oil aluminum foil']],\n",
       " [1159, [u'bacon sweet pepper smoke salmon salt smoke paprika']],\n",
       " [1288,\n",
       "  [u'potato make lb yellow onion garlic chili powder red pepper cayenn pepper cumin oregano tomato tomato past veget broth salt pepper choic']],\n",
       " [1122,\n",
       "  [u'cauliflow broth garlic powder cayenn pepper fresh cilantro lime pork chorizo nan white onion avocado choic salt pepper']],\n",
       " [1329,\n",
       "  [u'sweet potato choic fat lime chili powder cayenn pepper salt pepper']],\n",
       " [255,\n",
       "  [u'nan nan nan nan oliv oil chipotl powder chili powder paprika garlic powder onion powder salt recip vegan cheddar shred tomato onion onion nan cilantro']],\n",
       " [1093, [u'nan nan mango avocado dice salt pepper']],\n",
       " [1197,\n",
       "  [u'beef bacon yellow onion egg almond flour cumin chili powder salt pepper mango old fashion mustard yellow mustard honey chili powder salt']],\n",
       " [1096,\n",
       "  [u'bacon fat garlic zucchini yellow squash onion cumin coriand smoke paprika cayenn pepper nan tomato salt pepper parsley']],\n",
       " [1060,\n",
       "  [u'coconut oil garlic brown plantain water avocado white onion cilantro jalapeno lime smoke paprika salt pepper']],\n",
       " [1239,\n",
       "  [u'1lb potato yellow onion egg garlic bacon fat nan nan chili powder cumin oregano salt pepper']],\n",
       " [660,\n",
       "  [u'yellow corn tortilla Tbsp oil tsp sea salt tsp chili powder tsp cumin onion powder garlic powder tsp nutrit yeast']],\n",
       " [1237,\n",
       "  [u'beef andouil sausag egg almond flour meal yellow onion green bell pepper garlic coconut oil hot sauc chili powder cayenn pepper cumin salt white pepper black pepper coconut oil tomato sauc yellow onion garlic sauc chili powder cayenn pepper cumin white pepper salt pepper']],\n",
       " [980,\n",
       "  [u'beef garlic yellow onion oregano cumin cayenn pepper tomato nan onion lime salt pepper avocado garlic powder onion powder cayenn pepper juic lime salt taset']],\n",
       " [1183,\n",
       "  [u'chorizo tomato potato yellow onion egg garlic choic smoke paprika garlic powder chili powder oregano salt pepper']],\n",
       " [1326,\n",
       "  [u'avocado tomato oliv oil bacon jalapeno garlic yellow onion garlic powder cayenn pepper cilantro lime salt pepper']],\n",
       " [1092,\n",
       "  [u'chicken oliv oil nan yellow onion chili powder cumin salt pepper oliv oil garlic nan yellow onion cumin cayenn pepper nan salt pepper nan nan lettuc nan nan onion avocado mash lime']],\n",
       " [1318,\n",
       "  [u'egg coconut flour coconut milk bake soda pork rump roast yellow onion garlic garlic powder onion powder oregano smoke paprika cumin cayenn pepper salt pepper veget broth avocado veget broth cilantro coconut milk cumin salt pepper lemon lime']],\n",
       " [973,\n",
       "  [u'vegan butter oil purpos flour flour chili powder garlic powder cumin onion powder cayenn pepper tomato past low sodium veget broth pink Himalayan sea salt salt']],\n",
       " [1095,\n",
       "  [u'turkey yellow onion sauc tomato garlic powder salt pepper avocado lime juic salt']],\n",
       " [1131,\n",
       "  [u'nan nan white onion jalapeo cumin oregano paprika cayenn pepper salt pepper sauc tomato kerrygold grass feed chees greas pan avocado cilantro lime lemon oliv oil cumin salt']],\n",
       " [194,\n",
       "  [u'recip tofu wrap lettuc spinach tomato avocado Option hummu wrap lettuc spinach tomato avocado Option hummu']],\n",
       " [424,\n",
       "  [u'avocado Tbsp oil Tbsp almond milk bread crumb salt pepper tsp cumin garlic powder 6 8 corn flour tortilla Pinto radish red wine vinegar Lime juic cilantro Sauc salsa']],\n",
       " [25,\n",
       "  [u'chickpea cumin coriand turmer sweet paprika smoke paprika cayenn salt veget oil sweet potato butter soy milk cumin ginger powder salt red pepper leafi green cilantro tahini water lime juic salt garlic syrup']],\n",
       " [990, [u'parsnip coconut oil smoke paprika sea salt nan cilantro']],\n",
       " [1140,\n",
       "  [u'potato nan garlic powder salt pepper oliv oil egg egg salmon salt pepper lime juic bacon avocado tsp chop cilantro tomato kale onion']],\n",
       " [1163,\n",
       "  [u'nan cayenn pepper smoke paprika garlic powder onion powder salt pepper nan hot dog nan white onion avocado nan romain lettuc']],\n",
       " [998,\n",
       "  [u'ghee oil butternut squash chicken breast red onion smoke paprika garlic powder salt pepper nan mint avocado']],\n",
       " [1189, [u'pork garlic cauliflow chicken broth cumin salt pepper']],\n",
       " [603,\n",
       "  [u'Tbsp avocado oil onion garlic carrot salt pepper 14 5 tomato tsp cumin chili powder chipotl pepper veget stock nan lime']],\n",
       " [299,\n",
       "  [u'plantain Tbsp coconut oil Tbsp coconut sugar cumin cinnamon tsp sea salt cayenn black bean tsp cumin cayenn 8 10 yellow white corn tortilla jalapeo cilantro red onion dice Hot sauc salsa Lime juic']],\n",
       " [401,\n",
       "  [u'red onion button bella mushroom Salt Pepper kidney bean quinoa Tbsp chili powder walnut OPTION For even flavor']],\n",
       " [1188,\n",
       "  [u'andouil sausag chicken breast garlic yellow onion green bell pepper cauliflow tomato past tomato chicken broth oliv oil smoke paprika oregano thyme parsley cayenn pepper salt pepper']],\n",
       " [477,\n",
       "  [u'nan veget stock bell pepper salsa Tbsp nutrit yeast tsp cumin powder chili powder garlic powder bean kernel corn ripe avocado lime juic Hot sauc Cilantro chop red onion salsa']],\n",
       " [433,\n",
       "  [u'shallot garlic chickpea 1 2 Tbsp nan tsp cumin chili powder lime cilantro nan salt pepper tsp Salsa chili Avocado Red Onion Cilantro Bun toast']],\n",
       " [212,\n",
       "  [u'sweet potato green lentil oliv oil bell pepper onion garlic black bean salt chili powder lettuc tomato onion avocado nan corn tbsp cilantro lime juic Option salsa sour cream']],\n",
       " [872,\n",
       "  [u'dri white long grain rice coconut oil Salsa onion tomato coconut oil oliv oil onion garlic tomato chili powder garlic powder oregano cayenn pepper fine sea salt tomato past black bean unpack cilantro garlic avocado lime juic water salt']],\n",
       " [1206,\n",
       "  [u'chicken avocado cilantro carrot celeri cucumb almond lemon lime garlic powder salt pepper']],\n",
       " [422,\n",
       "  [u'tofu black bean red onion dice cilantro avocado salsa serv lime pomegran aril Corn tortilla garlic powder chili powder tsp cumin sea salt Tbsp salsa Tbsp water']],\n",
       " [428,\n",
       "  [u'Tbsp oliv melt coconut oil onion sweet potato bundl kale salt pepper chickpea tsp cumin chili powder garlic powder salt pepper oregano tsp turmer nan Tbsp mapl syrup lemon Tbsp water']],\n",
       " [86,\n",
       "  [u'walnut sea salt sun dri tomato chili powder cumin coriand nan romain leav cabbag salsa choic avocado']],\n",
       " [893,\n",
       "  [u'French green lentil walnut piec oregano cumin chili powder salt oliv oil water bell pepper onion tomato onion lime juic Lettuc wrap Other top option slice avocado']],\n",
       " [595,\n",
       "  [u'mash sweet potato bean brown rice walnut green onion tsp cumin smoke paprika salt pepper chipotl powder brown sugar avocado Sprout lettuc parsley onion']],\n",
       " [801,\n",
       "  [u'poblano pepper bell pepper nan yellow onion mushroom avocado lime sea salt garlic powder A1 steak sauc flour tortilla red onion hot sauc']],\n",
       " [434,\n",
       "  [u'Tbsp onion garlic orang pepper tsp cumin chili powder nan nan stock Tbsp coconut sugar 15 ounc black bean cook salt 15 25 ounc kernel corn Lime juic cilantro Red onion Tortilla chip Ripe avocado Hot sauc']],\n",
       " [929,\n",
       "  [u'potato oil onion garlic red pepper sun dri tomato babi spinach black bean nan nan lime juic chili powder cumin salt tortilla wrap green onion']],\n",
       " [387,\n",
       "  [u'lettuc bean potato 1 2 tsp Cumin nan Oil avocado cilantro lime oil tsp nan Water Sauc Salsa Jalapeo slice']],\n",
       " [473,\n",
       "  [u'onion potato salsa black bean veget stock Tbsp Chili Powder tsp cumin cinnamon chipotl powder tsp sauc Cilantro Red Onion Guac Avocado']],\n",
       " [303,\n",
       "  [u'quinoa red onion mushroom Pepper black bean beet tsp cumin chili powder tsp smoke paprika walnut']],\n",
       " [1170, [u'mango red onion cucumb dice jalapeo lime cilantro avocado salt']],\n",
       " [260, [u'avocado tomato onion cilantro jalapeno lime salt']],\n",
       " [354,\n",
       "  [u'corn tortilla white onion garlic tomato nan veggi stock tofu tsp cumin garlic powder tsp chili powder tsp sea salt onion Cilantro sauc Lime juic']],\n",
       " [1018,\n",
       "  [u'sweet onion garlic carrot oz babi bella mushroom beef broth tomato tomato past thyme Salt pepper lb chuck roast']],\n",
       " [377,\n",
       "  [u'nan nan water Favorit Guacamol nan bell pepper Black Oliv cilantro avocado lime sea salt cherri tomato red onion cilantro Tbsp lime juic salt pepper']],\n",
       " [1256,\n",
       "  [u'nan nan sundri tomato mushroom red onion egg garlic powder onion powder cayenn pepper salt pepper choic']],\n",
       " [62,\n",
       "  [u'onion oliv oil black bean corn cumin powder paprika chili powder lime juic jicama Haa avocado corn tortilla']],\n",
       " [254,\n",
       "  [u'perfectli ripe avocado tomato nan lime salt onion cilantro black bean coconut oil garlic veget broth chili powder lime juic salt Other layer Hummu nan Salsa Cheddar Shred tomato green onion']],\n",
       " [886,\n",
       "  [u'kale leav oliv oil coconut oil nutrit yeast garlic powder chili powder onion powder smoke paprika salt salt cayenn pepper']],\n",
       " [918,\n",
       "  [u'oliv oil onion garlic jalapeo nan red bell pepper tomato broth tomato past kidney bean bean chili powder cumin oregano salt cayenn pepper sauc Cream green onion cilantro']],\n",
       " [1207,\n",
       "  [u'poblano pepper beef yellow onion garlic tomato past nan Cholula garlic powder red pepper paprika salt pepper nan']],\n",
       " [528,\n",
       "  [u'vegan flour tortilla nan divid bean avocado onion tomato salsa cilantro']],\n",
       " [52,\n",
       "  [u'oliv oil onion poblano pepper garlic black bean black bean lime juic water cumin salt cauliflow chili powder smoke paprika Cayenn pepper tomato liquid corn tortilla avocado lettuc cilantro leav nan nan cucumb Lime']],\n",
       " [1074,\n",
       "  [u'nan coconut milk nan Coconut Flour parsley garlic powder sage smoke paprika salt pepper']],\n",
       " [1234,\n",
       "  [u'nan nan white wine vinegar chili powder salt coffe cinnamon cumin smoke paprika salt pepper 1lb red onion poblano pepper yellow bell pepper orang bell pepper fat lime lemon']],\n",
       " [591,\n",
       "  [u'mango kiwi strawberri blueberri lime Tbsp tsp chili powder sea salt nan']],\n",
       " [431,\n",
       "  [u'coconut oil yellow onion garlic Tbsp ginger carrot chickpea Tbsp nan veget stock 3 4 Tbsp coconut sugar lime lime leaf nan salt tofu Bean sprout Brussel sprout Lime juic basil']],\n",
       " [1078,\n",
       "  [u'coconut oil garlic yellow plantain chicken garlic powder cayenn pepper salt pepper celeri red onion dice dijon mustard honey']],\n",
       " [994,\n",
       "  [u'nan oil oil salt nan grind lamb cayenn paprika cumin garlic powder salt black pepper onion avocado lime salt garlic powder garlic Tablespoon red onion cumin cilantro Option Jalapeno Habanero pepper cayenn pepper One tomato salt cilantro Jalapeno red onion lime juic']],\n",
       " [351,\n",
       "  [u'Crapload nan Black Bean Guacamol lime Chunki Salsa Jalapeo Red Onion Sauc']],\n",
       " [111,\n",
       "  [u'nan nan black bean lime juic coconut oil rice salt water lime juic cilantro plantain coconut oil salt red onion avocado Hot sauc nan Etc']],\n",
       " [1315,\n",
       "  [u'4lb nan choic brew coffe yellow onion ancho chile garlic honey oliv oil lime juic veget broth salt pepper']],\n",
       " [1304,\n",
       "  [u'chuck roast yellow onion red bell pepper yellow bell pepper tomato sauc tomato caper cumin thyme oregano garlic bay leaf salt pepper cauliflow bacon tomato sauc cumin garlic powder onion powder salt pepper']],\n",
       " [1246,\n",
       "  [u'lb extra fat garlic bay leav appl cider vinegar veget broth yellow onion red onion cumin chipotl pepper adobo sauc pepper mushroom salt pepper tomato sauc green chile chipotl chili powder cayenn pepper red pepper smoke paprika nutmeg cleave salt pepper']],\n",
       " [1286,\n",
       "  [u'butter lettuc pork yellow onion garlic lime orang veget broth oregano cumin salt pepper cabbag dill pickl slice lengthwis yellow mustard oliv oil white wine vinegar salt pepper']],\n",
       " [353,\n",
       "  [u'cashew Tbsp nutrit yeast tsp sea salt garlic powder tsp cumin tsp chili powder cashew Tbsp nutrit yeast tsp sea salt garlic powder tsp cumin chili powder nan oil nan']],\n",
       " [925,\n",
       "  [u'cashew cilantro leav garlic water lime juic avocado salt garlic powder']],\n",
       " [533,\n",
       "  [u'nan nan brown rice Tbsp oil onion tsp cumin tsp sea salt nan cilantro poblano pepper oil bean tsp cumin Sea salt use 1 whole avocado Hot sauc cilantro avocado']],\n",
       " [1085,\n",
       "  [u'bacon poblano pepper yellow onion sweet potato babi portobello mushroom chicken italian sausag link garlic powder smoke paprika salt pepper egg sauc']],\n",
       " [544,\n",
       "  [u'avocado chickpea Tbsp tsp sea salt Tbsp oil batch nan nan Lemon juic parsley babi tomato red onion dice bean tsp cumin garlic powder chili powder Lime juic cilantro red onion Tbsp salsa Tortilla chip']],\n",
       " [580,\n",
       "  [u'sweet potato white quinoa water salt lime onion nan Tortilla chip Toast pepita pumpkin seed avocado cilantro lime Tbsp oil salt nan Tbsp']],\n",
       " [1231,\n",
       "  [u'beef pork butternut squash red bell pepper green bell pepper yellow bell pepper yellow onion garlic tomato tomato sauc stock coconut milk coconut butter curri powder chili powder cumin paprika garlic powder salt cinnamon cocoa powder garam masala cleave salt pepper']],\n",
       " [32,\n",
       "  [u'oliv oil onion celeri garlic tomato past chipotl en adobo chili powder cumin coriand smoke paprika cinnamon salt cayenn pepper broth black bean 1 butternut squash 14 tomato dri quinoa Tofu sour cream parsley tofu oliv oil lime juic rice vinegar vinegar salt']],\n",
       " [169,\n",
       "  [u'black bean white onion green bell pepper jalapeno pepper garlic bay leav salt grind cumin oregano water lime juic red onion cilantro red pepper avocado slice hot sauc']],\n",
       " [37,\n",
       "  [u'oliv oil onion bell pepper rice sea salt smoke paprika cumin powder chili powder cayenn pepper lime juic water bell pepper pea corn low sodium tamari red pepper oz tempeh Daiya chees onion breadcrumb']],\n",
       " [1209,\n",
       "  [u'pork spaghetti squash cucumb cilantro coconut amino ginger garlic powder red pepper coriand cinnamon salt pepper fat water lime juic coconut amino honey fish sauc garlic powder']],\n",
       " [675,\n",
       "  [u'brown rice tortilla salt pepper garlic powder oliv oil egg option top salsa red onion']],\n",
       " [1309,\n",
       "  [u'chicken thigh cauliflow yellow onion pimento stuff oliv veget broth coconut milk smoke paprika oregano garlic powder salt pepper']],\n",
       " [1291,\n",
       "  [u'nan nan yellow onion garlic plantain mango curri powder garlic powder red pepper salt pepper choic']],\n",
       " [568,\n",
       "  [u'2 Tbsp Tbsp syrup lemon nan romain lettuc kale nan Tbsp coconut oil Tbsp nan garlic powder sea salt flour tortilla red onion babi tomato avocado']],\n",
       " [397,\n",
       "  [u'mango orang juic lime nan nan hot sauc 1 3 lime tsp chili powder 1 4 tsp sea salt']],\n",
       " [815,\n",
       "  [u'potato oliv oil salt onion garlic tsp paprika cayenn garlic powder potato tomato past tsp sauc OPTION cilantro parsley']],\n",
       " [390,\n",
       "  [u'corn tortilla oil Sea salt nan bean tsp cumin tsp chili powder salt black pepper pineappl tomato Tbsp Tbsp red onion cilantro Tbsp lime juic salt pepper Ripe avocado Hot sauc Lime juic cilantro']],\n",
       " [545,\n",
       "  [u'tofu Oliv oil red onion red pepper kale tsp sea salt garlic powder cumin powder tsp chili powder tsp turmer Salsa Cilantro Sauc potato']],\n",
       " [339,\n",
       "  [u'macaroni shell onion garlic cashew veget broth cornstarch tsp cumin chili powder Tbsp nutrit yeast nan tortilla chip cilantro']],\n",
       " [1296,\n",
       "  [u'lb cinnamon garlic powder onion powder chili powder chipotl red pepper paprika salt pepper red onion mushroom balsam vinegar oliv oil coconut oil']],\n",
       " [61,\n",
       "  [u'pinto bean bean bay leav garlic oliv oil onion sugar red bell pepper green bell pepper poblano pepper Salt pepper chili powder cumin lime juic oat sunflow seed salt chili powder smoke paprika nutrit yeast cayenn pepper lemon juic oliv oil']],\n",
       " [222, [...]]]"
      ]
     },
     "execution_count": 874,
     "metadata": {},
     "output_type": "execute_result"
    }
   ],
   "source": [
    "topRecipes"
   ]
  },
  {
   "cell_type": "code",
   "execution_count": 884,
   "metadata": {
    "collapsed": false
   },
   "outputs": [
    {
     "data": {
      "text/plain": [
       "[u'http://paleomg.com/enchilada-chicken-stew/']"
      ]
     },
     "execution_count": 884,
     "metadata": {},
     "output_type": "execute_result"
    }
   ],
   "source": [
    "list(recipeDF.url[1200:1201])"
   ]
  },
  {
   "cell_type": "code",
   "execution_count": 872,
   "metadata": {
    "collapsed": false
   },
   "outputs": [],
   "source": [
    "finalList = []\n",
    "\n",
    "for i in range(0,len(topRecipes)): \n",
    "    if \"chicken\" and \"avocado\"  in topRecipes[i][1]: ##and \"tomato\"\n",
    "        finalList.append(topRecipes[i])"
   ]
  },
  {
   "cell_type": "code",
   "execution_count": 873,
   "metadata": {
    "collapsed": false
   },
   "outputs": [
    {
     "data": {
      "text/plain": [
       "[]"
      ]
     },
     "execution_count": 873,
     "metadata": {},
     "output_type": "execute_result"
    }
   ],
   "source": [
    "finalList"
   ]
  },
  {
   "cell_type": "code",
   "execution_count": 751,
   "metadata": {
    "collapsed": false
   },
   "outputs": [
    {
     "data": {
      "text/plain": [
       "[u'http://paleomg.com/simple-sausage-and-bacon-butternut-squash-soup/']"
      ]
     },
     "execution_count": 751,
     "metadata": {},
     "output_type": "execute_result"
    }
   ],
   "source": [
    "list(recipeDF.url[1000:1001])"
   ]
  },
  {
   "cell_type": "code",
   "execution_count": 752,
   "metadata": {
    "collapsed": false
   },
   "outputs": [],
   "source": [
    "instructions = list(recipeDF.instructions[1000:1001])"
   ]
  },
  {
   "cell_type": "code",
   "execution_count": 753,
   "metadata": {
    "collapsed": false
   },
   "outputs": [
    {
     "data": {
      "text/plain": [
       "'Preheat oven to 400 degrees.'"
      ]
     },
     "execution_count": 753,
     "metadata": {},
     "output_type": "execute_result"
    }
   ],
   "source": [
    "instructions[0][0].encode('ascii','ignore')"
   ]
  },
  {
   "cell_type": "code",
   "execution_count": 754,
   "metadata": {
    "collapsed": false
   },
   "outputs": [
    {
     "data": {
      "text/plain": [
       "[1262,\n",
       " 1256,\n",
       " 1020,\n",
       " 1289,\n",
       " 1291,\n",
       " 1158,\n",
       " 1054,\n",
       " 982,\n",
       " 1297,\n",
       " 1189,\n",
       " 998,\n",
       " 1295,\n",
       " 678,\n",
       " 1153,\n",
       " 1070,\n",
       " 1198,\n",
       " 1287,\n",
       " 1285,\n",
       " 1129,\n",
       " 1210,\n",
       " 1112,\n",
       " 1308,\n",
       " 1283,\n",
       " 1281,\n",
       " 1323,\n",
       " 1132,\n",
       " 1212,\n",
       " 1250,\n",
       " 1222,\n",
       " 1311,\n",
       " 1215,\n",
       " 1181,\n",
       " 1175,\n",
       " 1214,\n",
       " 1078,\n",
       " 1150,\n",
       " 1002,\n",
       " 1203,\n",
       " 1037,\n",
       " 1085,\n",
       " 1141,\n",
       " 1125,\n",
       " 1202,\n",
       " 1309,\n",
       " 1188,\n",
       " 1207,\n",
       " 1313,\n",
       " 1216,\n",
       " 1316,\n",
       " 1229,\n",
       " 1230,\n",
       " 1160,\n",
       " 1145,\n",
       " 729,\n",
       " 1163,\n",
       " 1127,\n",
       " 1080,\n",
       " 1033,\n",
       " 1330,\n",
       " 1115,\n",
       " 1073,\n",
       " 1047,\n",
       " 1030,\n",
       " 1304,\n",
       " 1223,\n",
       " 1018,\n",
       " 1183,\n",
       " 1321,\n",
       " 1149,\n",
       " 980,\n",
       " 1288,\n",
       " 1239,\n",
       " 1028,\n",
       " 1096,\n",
       " 1074,\n",
       " 1326,\n",
       " 1068,\n",
       " 611,\n",
       " 1095,\n",
       " 1318,\n",
       " 1140,\n",
       " 1089,\n",
       " 1294,\n",
       " 1259,\n",
       " 1329,\n",
       " 1197,\n",
       " 707,\n",
       " 1199,\n",
       " 1048,\n",
       " 504,\n",
       " 1206,\n",
       " 1113,\n",
       " 249,\n",
       " 1174,\n",
       " 1286,\n",
       " 1135,\n",
       " 1122,\n",
       " 1180,\n",
       " 1128,\n",
       " 1159]"
      ]
     },
     "execution_count": 754,
     "metadata": {},
     "output_type": "execute_result"
    }
   ],
   "source": [
    "[x[1] for x in cosineList[0:100]]"
   ]
  },
  {
   "cell_type": "markdown",
   "metadata": {},
   "source": [
    "## Visualize"
   ]
  },
  {
   "cell_type": "code",
   "execution_count": 755,
   "metadata": {
    "collapsed": true
   },
   "outputs": [],
   "source": [
    "def pyLDA(docs,lda, doc_topic_dists):\n",
    "    get_normed = lambda data: pd.DataFrame(data).div(data.sum(axis = 1), axis = 0) \n",
    "    prepared = pyLDAvis.prepare(\n",
    "            doc_lengths = docs.str.len(),\n",
    "            vocab = vocab,\n",
    "            term_frequency = np.asarray(tfidf_matrix.sum(axis = 0)).ravel().tolist(),\n",
    "            topic_term_dists = get_normed(lda.components_), # topics x terms \n",
    "            doc_topic_dists = get_normed(doc_topic_dists)) # docs x topics \n",
    "    return prepared"
   ]
  },
  {
   "cell_type": "code",
   "execution_count": 756,
   "metadata": {
    "collapsed": false
   },
   "outputs": [],
   "source": [
    "dftest = pd.DataFrame(NMF_topics).div(NMF_topics.sum(axis = 1), axis = 0)"
   ]
  },
  {
   "cell_type": "code",
   "execution_count": 757,
   "metadata": {
    "collapsed": true
   },
   "outputs": [],
   "source": [
    "dftest['total'] = dftest.sum(axis=1)"
   ]
  },
  {
   "cell_type": "code",
   "execution_count": 758,
   "metadata": {
    "collapsed": false
   },
   "outputs": [
    {
     "data": {
      "text/html": [
       "<div>\n",
       "<table border=\"1\" class=\"dataframe\">\n",
       "  <thead>\n",
       "    <tr style=\"text-align: right;\">\n",
       "      <th></th>\n",
       "      <th>0</th>\n",
       "      <th>1</th>\n",
       "      <th>2</th>\n",
       "      <th>3</th>\n",
       "      <th>4</th>\n",
       "      <th>5</th>\n",
       "      <th>6</th>\n",
       "      <th>7</th>\n",
       "      <th>8</th>\n",
       "      <th>9</th>\n",
       "      <th>10</th>\n",
       "      <th>11</th>\n",
       "      <th>12</th>\n",
       "      <th>13</th>\n",
       "      <th>14</th>\n",
       "      <th>total</th>\n",
       "    </tr>\n",
       "  </thead>\n",
       "  <tbody>\n",
       "  </tbody>\n",
       "</table>\n",
       "</div>"
      ],
      "text/plain": [
       "Empty DataFrame\n",
       "Columns: [0, 1, 2, 3, 4, 5, 6, 7, 8, 9, 10, 11, 12, 13, 14, total]\n",
       "Index: []"
      ]
     },
     "execution_count": 758,
     "metadata": {},
     "output_type": "execute_result"
    }
   ],
   "source": [
    "dftest[dftest.total < .99]"
   ]
  },
  {
   "cell_type": "code",
   "execution_count": 759,
   "metadata": {
    "collapsed": false
   },
   "outputs": [],
   "source": [
    "pyNMF = pyLDA(recipeDF.ingredientTokens,NMFmodel,NMF_topics)"
   ]
  },
  {
   "cell_type": "code",
   "execution_count": 760,
   "metadata": {
    "collapsed": false
   },
   "outputs": [],
   "source": [
    "pyLDAvis.save_html(pyNMF, 'pyldavisIngNMF.html')"
   ]
  },
  {
   "cell_type": "markdown",
   "metadata": {},
   "source": [
    "## Personalized health-states logic"
   ]
  },
  {
   "cell_type": "code",
   "execution_count": null,
   "metadata": {
    "collapsed": true
   },
   "outputs": [],
   "source": []
  }
 ],
 "metadata": {
  "kernelspec": {
   "display_name": "Python 2",
   "language": "python",
   "name": "python2"
  },
  "language_info": {
   "codemirror_mode": {
    "name": "ipython",
    "version": 2
   },
   "file_extension": ".py",
   "mimetype": "text/x-python",
   "name": "python",
   "nbconvert_exporter": "python",
   "pygments_lexer": "ipython2",
   "version": "2.7.11"
  }
 },
 "nbformat": 4,
 "nbformat_minor": 0
}
