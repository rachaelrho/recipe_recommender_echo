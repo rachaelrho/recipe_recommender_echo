{
 "cells": [
  {
   "cell_type": "code",
   "execution_count": 1,
   "metadata": {
    "collapsed": false
   },
   "outputs": [
    {
     "name": "stderr",
     "output_type": "stream",
     "text": [
      "/home/rachaelrho/anaconda/lib/python2.7/site-packages/pandas/computation/__init__.py:19: UserWarning: The installed version of numexpr 2.4.4 is not supported in pandas and will be not be used\n",
      "\n",
      "  UserWarning)\n"
     ]
    }
   ],
   "source": [
    "import pandas as pd\n",
    "import numpy as np\n",
    "import unicodedata as ucd\n",
    "import json\n",
    "from pprint import pprint\n",
    "\n",
    "##text pre-processing\n",
    "import nltk\n",
    "from nltk.tokenize import RegexpTokenizer\n",
    "from nltk.tokenize import RegexpTokenizer\n",
    "from nltk import word_tokenize\n",
    "from nltk.stem.porter import PorterStemmer\n",
    "from nltk.stem import WordNetLemmatizer\n",
    "from nltk.corpus import stopwords\n",
    "\n",
    "from sklearn.feature_extraction.text import CountVectorizer, TfidfTransformer, TfidfVectorizer\n",
    "from sklearn.utils.extmath import randomized_svd\n",
    "from sklearn.decomposition import NMF\n",
    "from sklearn.metrics.pairwise import cosine_similarity  "
   ]
  },
  {
   "cell_type": "code",
   "execution_count": 5,
   "metadata": {
    "collapsed": false
   },
   "outputs": [],
   "source": [
    "nyt = pd.read_csv(\"https://raw.githubusercontent.com/NYTimes/ingredient-phrase-tagger/master/nyt-ingredients-snapshot-2015.csv\")"
   ]
  },
  {
   "cell_type": "code",
   "execution_count": 6,
   "metadata": {
    "collapsed": false
   },
   "outputs": [
    {
     "data": {
      "text/html": [
       "<div>\n",
       "<table border=\"1\" class=\"dataframe\">\n",
       "  <thead>\n",
       "    <tr style=\"text-align: right;\">\n",
       "      <th></th>\n",
       "      <th>index</th>\n",
       "      <th>input</th>\n",
       "      <th>name</th>\n",
       "      <th>qty</th>\n",
       "      <th>range_end</th>\n",
       "      <th>unit</th>\n",
       "      <th>comment</th>\n",
       "    </tr>\n",
       "  </thead>\n",
       "  <tbody>\n",
       "    <tr>\n",
       "      <th>0</th>\n",
       "      <td>0</td>\n",
       "      <td>1 1/4 cups cooked and pureed fresh butternut s...</td>\n",
       "      <td>butternut squash</td>\n",
       "      <td>1.25</td>\n",
       "      <td>0.0</td>\n",
       "      <td>cup</td>\n",
       "      <td>cooked and pureed fresh, or 1 10-ounce package...</td>\n",
       "    </tr>\n",
       "    <tr>\n",
       "      <th>1</th>\n",
       "      <td>1</td>\n",
       "      <td>1 cup peeled and cooked fresh chestnuts (about...</td>\n",
       "      <td>chestnuts</td>\n",
       "      <td>1.00</td>\n",
       "      <td>0.0</td>\n",
       "      <td>cup</td>\n",
       "      <td>peeled and cooked fresh (about 20), or 1 cup c...</td>\n",
       "    </tr>\n",
       "    <tr>\n",
       "      <th>2</th>\n",
       "      <td>2</td>\n",
       "      <td>1 medium-size onion, peeled and chopped</td>\n",
       "      <td>onion</td>\n",
       "      <td>1.00</td>\n",
       "      <td>0.0</td>\n",
       "      <td>NaN</td>\n",
       "      <td>medium-size, peeled and chopped</td>\n",
       "    </tr>\n",
       "  </tbody>\n",
       "</table>\n",
       "</div>"
      ],
      "text/plain": [
       "   index                                              input              name  \\\n",
       "0      0  1 1/4 cups cooked and pureed fresh butternut s...  butternut squash   \n",
       "1      1  1 cup peeled and cooked fresh chestnuts (about...         chestnuts   \n",
       "2      2            1 medium-size onion, peeled and chopped             onion   \n",
       "\n",
       "    qty  range_end unit                                            comment  \n",
       "0  1.25        0.0  cup  cooked and pureed fresh, or 1 10-ounce package...  \n",
       "1  1.00        0.0  cup  peeled and cooked fresh (about 20), or 1 cup c...  \n",
       "2  1.00        0.0  NaN                    medium-size, peeled and chopped  "
      ]
     },
     "execution_count": 6,
     "metadata": {},
     "output_type": "execute_result"
    }
   ],
   "source": [
    "nyt.head(3)"
   ]
  },
  {
   "cell_type": "code",
   "execution_count": 59,
   "metadata": {
    "collapsed": false
   },
   "outputs": [
    {
     "data": {
      "text/plain": [
       "0    1 1/4 cups cooked and pureed fresh butternut squash, or 1 10-ounce package frozen squash, defrosted\n",
       "Name: input, dtype: object"
      ]
     },
     "execution_count": 59,
     "metadata": {},
     "output_type": "execute_result"
    }
   ],
   "source": [
    "pd.set_option('max_colwidth', 800)\n",
    "nyt['input'][0:1]"
   ]
  },
  {
   "cell_type": "markdown",
   "metadata": {},
   "source": [
    "## concatenate json files and create dataframe"
   ]
  },
  {
   "cell_type": "code",
   "execution_count": 59,
   "metadata": {
    "collapsed": false
   },
   "outputs": [],
   "source": [
    "file_list = [\"fullhelping_items.json\", \"iLoveVegan_items.json\", \"MinimalistBaker_items.json\", \"ohsheglows_items.json\",\n",
    "             \"PaleOMG_items.json\"]\n",
    "full = []\n",
    "with open(\"allRecipes.json\", \"w\") as outfile:\n",
    "    for f in file_list:\n",
    "        with open(f, 'rb') as infile:\n",
    "            file_data = json.load(infile)\n",
    "            full += file_data\n",
    "    json.dump(full, outfile)\n"
   ]
  },
  {
   "cell_type": "code",
   "execution_count": 60,
   "metadata": {
    "collapsed": false
   },
   "outputs": [],
   "source": [
    "with open('allRecipes.json', 'rb') as infile:\n",
    "    full = json.load(infile)"
   ]
  },
  {
   "cell_type": "code",
   "execution_count": 61,
   "metadata": {
    "collapsed": true
   },
   "outputs": [],
   "source": [
    "fullDF = pd.DataFrame(full)"
   ]
  },
  {
   "cell_type": "code",
   "execution_count": 62,
   "metadata": {
    "collapsed": false
   },
   "outputs": [],
   "source": [
    "fullDF1 = fullDF[(fullDF.ingredientsList.str.len() != 0)]"
   ]
  },
  {
   "cell_type": "code",
   "execution_count": 63,
   "metadata": {
    "collapsed": false
   },
   "outputs": [],
   "source": [
    "recipeDF = fullDF1.reset_index(drop=True)"
   ]
  },
  {
   "cell_type": "code",
   "execution_count": 64,
   "metadata": {
    "collapsed": false
   },
   "outputs": [],
   "source": [
    "recipeDF.to_pickle('recipeDF')"
   ]
  },
  {
   "cell_type": "code",
   "execution_count": 2,
   "metadata": {
    "collapsed": false
   },
   "outputs": [],
   "source": [
    "recipeDF = pd.read_pickle('recipeDF')"
   ]
  },
  {
   "cell_type": "code",
   "execution_count": 3,
   "metadata": {
    "collapsed": false
   },
   "outputs": [
    {
     "data": {
      "text/html": [
       "<div>\n",
       "<table border=\"1\" class=\"dataframe\">\n",
       "  <thead>\n",
       "    <tr style=\"text-align: right;\">\n",
       "      <th></th>\n",
       "      <th>Unnamed: 0</th>\n",
       "      <th>category</th>\n",
       "      <th>ingredientsList</th>\n",
       "      <th>instructions</th>\n",
       "      <th>summary</th>\n",
       "      <th>title</th>\n",
       "      <th>url</th>\n",
       "    </tr>\n",
       "  </thead>\n",
       "  <tbody>\n",
       "    <tr>\n",
       "      <th>0</th>\n",
       "      <td>0</td>\n",
       "      <td>[]</td>\n",
       "      <td>[u'1 pound purple asparagus, washed, woody end...</td>\n",
       "      <td>[u\"Preheat the oven to 400F. Toss the asparagu...</td>\n",
       "      <td>[]</td>\n",
       "      <td>[u'Purple Asparagus and Quinoa Salad with Peas...</td>\n",
       "      <td>http://www.thefullhelping.com/purple-asparagus...</td>\n",
       "    </tr>\n",
       "    <tr>\n",
       "      <th>1</th>\n",
       "      <td>1</td>\n",
       "      <td>[]</td>\n",
       "      <td>[u'1 package DOLE\\xae Power Up Greens\\u2122 (o...</td>\n",
       "      <td>[u'1. Place the greens, quinoa, blueberries, a...</td>\n",
       "      <td>[]</td>\n",
       "      <td>[u'Power Up Salad with Baby Kale, Quinoa, Blue...</td>\n",
       "      <td>http://www.thefullhelping.com/power-up-salad-w...</td>\n",
       "    </tr>\n",
       "    <tr>\n",
       "      <th>2</th>\n",
       "      <td>2</td>\n",
       "      <td>[]</td>\n",
       "      <td>[u\"1\\xbe cups gluten-free, all purpose flour o...</td>\n",
       "      <td>[u'Preheat your oven to 350F. Line a 12-muffin...</td>\n",
       "      <td>[]</td>\n",
       "      <td>[u'Vegan, Gluten Free Pumpkin Gingerbread Spic...</td>\n",
       "      <td>http://www.thefullhelping.com/vegan-gluten-fre...</td>\n",
       "    </tr>\n",
       "  </tbody>\n",
       "</table>\n",
       "</div>"
      ],
      "text/plain": [
       "   Unnamed: 0 category                                    ingredientsList  \\\n",
       "0           0       []  [u'1 pound purple asparagus, washed, woody end...   \n",
       "1           1       []  [u'1 package DOLE\\xae Power Up Greens\\u2122 (o...   \n",
       "2           2       []  [u\"1\\xbe cups gluten-free, all purpose flour o...   \n",
       "\n",
       "                                        instructions summary  \\\n",
       "0  [u\"Preheat the oven to 400F. Toss the asparagu...      []   \n",
       "1  [u'1. Place the greens, quinoa, blueberries, a...      []   \n",
       "2  [u'Preheat your oven to 350F. Line a 12-muffin...      []   \n",
       "\n",
       "                                               title  \\\n",
       "0  [u'Purple Asparagus and Quinoa Salad with Peas...   \n",
       "1  [u'Power Up Salad with Baby Kale, Quinoa, Blue...   \n",
       "2  [u'Vegan, Gluten Free Pumpkin Gingerbread Spic...   \n",
       "\n",
       "                                                 url  \n",
       "0  http://www.thefullhelping.com/purple-asparagus...  \n",
       "1  http://www.thefullhelping.com/power-up-salad-w...  \n",
       "2  http://www.thefullhelping.com/vegan-gluten-fre...  "
      ]
     },
     "execution_count": 3,
     "metadata": {},
     "output_type": "execute_result"
    }
   ],
   "source": [
    "recipeDF.head(3)"
   ]
  },
  {
   "cell_type": "markdown",
   "metadata": {},
   "source": [
    "## Write ingredients to file for NYT ingredient tagger"
   ]
  },
  {
   "cell_type": "code",
   "execution_count": 70,
   "metadata": {
    "collapsed": false
   },
   "outputs": [],
   "source": [
    "f = open(\"input.txt\", \"a\")\n",
    "ingredientList = []\n",
    "\n",
    "for row in range(0,len(recipeDF)):\n",
    "    ingredients = recipeDF.ingredientsList.iloc[row]\n",
    "    for i in range(0,len(ingredients)):\n",
    "        line = ingredients[i].encode('ascii','ignore')\n",
    "        ingredientList.append([row,i,line])\n",
    "        f.write(line + '\\n')\n",
    "f.close()\n",
    "        "
   ]
  },
  {
   "cell_type": "code",
   "execution_count": 71,
   "metadata": {
    "collapsed": false
   },
   "outputs": [],
   "source": [
    "ingredientDF = pd.DataFrame(ingredientList, columns=['recipeIndex','ingredientIndex','recipeText'])"
   ]
  },
  {
   "cell_type": "code",
   "execution_count": 72,
   "metadata": {
    "collapsed": false
   },
   "outputs": [
    {
     "data": {
      "text/plain": [
       "15654"
      ]
     },
     "execution_count": 72,
     "metadata": {},
     "output_type": "execute_result"
    }
   ],
   "source": [
    "len(ingredientDF)"
   ]
  },
  {
   "cell_type": "markdown",
   "metadata": {},
   "source": [
    "## merge NYT ingredient tags with ingredientDF"
   ]
  },
  {
   "cell_type": "code",
   "execution_count": 73,
   "metadata": {
    "collapsed": true
   },
   "outputs": [],
   "source": [
    "with open('results.json', 'rb') as infile:\n",
    "    ingredientTags = json.load(infile)"
   ]
  },
  {
   "cell_type": "code",
   "execution_count": 74,
   "metadata": {
    "collapsed": false
   },
   "outputs": [],
   "source": [
    "ingredientTagsDF = pd.DataFrame(ingredientTags)"
   ]
  },
  {
   "cell_type": "code",
   "execution_count": 75,
   "metadata": {
    "collapsed": false
   },
   "outputs": [],
   "source": [
    "ingredientDF2 = ingredientDF[ingredientDF['recipeText'].str.contains(\"\\n|\\t\") == False]\n",
    "ingredientDF2 = ingredientDF2.reset_index(drop=True)"
   ]
  },
  {
   "cell_type": "code",
   "execution_count": 76,
   "metadata": {
    "collapsed": false
   },
   "outputs": [
    {
     "data": {
      "text/plain": [
       "15296"
      ]
     },
     "execution_count": 76,
     "metadata": {},
     "output_type": "execute_result"
    }
   ],
   "source": [
    "len(ingredientDF2)"
   ]
  },
  {
   "cell_type": "code",
   "execution_count": 77,
   "metadata": {
    "collapsed": false
   },
   "outputs": [],
   "source": [
    "ingredientTaggedDF = pd.concat([ingredientDF2,ingredientTagsDF], axis = 1)"
   ]
  },
  {
   "cell_type": "code",
   "execution_count": 78,
   "metadata": {
    "collapsed": true
   },
   "outputs": [],
   "source": [
    "ingredientTaggedDF.to_pickle('ingredientTaggedDF')"
   ]
  },
  {
   "cell_type": "code",
   "execution_count": 4,
   "metadata": {
    "collapsed": false
   },
   "outputs": [
    {
     "name": "stderr",
     "output_type": "stream",
     "text": [
      "/home/rachaelrho/anaconda/lib/python2.7/site-packages/IPython/core/interactiveshell.py:2871: DtypeWarning: Columns (4,5,6,7,8,9,10,11) have mixed types. Specify dtype option on import or set low_memory=False.\n",
      "  interactivity=interactivity, compiler=compiler, result=result)\n"
     ]
    }
   ],
   "source": [
    "ingredientTaggedDF = pd.read_pickle('ingredientTaggedDF')"
   ]
  },
  {
   "cell_type": "markdown",
   "metadata": {},
   "source": [
    "## create Ingredient Documents / Strings"
   ]
  },
  {
   "cell_type": "code",
   "execution_count": 79,
   "metadata": {
    "collapsed": false
   },
   "outputs": [
    {
     "data": {
      "text/plain": [
       "1340"
      ]
     },
     "execution_count": 79,
     "metadata": {},
     "output_type": "execute_result"
    }
   ],
   "source": [
    "len(ingredientTaggedDF.recipeIndex.unique())"
   ]
  },
  {
   "cell_type": "code",
   "execution_count": 91,
   "metadata": {
    "collapsed": false
   },
   "outputs": [],
   "source": [
    "ingredientTaggedDF['name'] = ingredientTaggedDF['name'].astype(str)"
   ]
  },
  {
   "cell_type": "code",
   "execution_count": 92,
   "metadata": {
    "collapsed": false
   },
   "outputs": [
    {
     "data": {
      "text/plain": [
       "1340"
      ]
     },
     "execution_count": 92,
     "metadata": {},
     "output_type": "execute_result"
    }
   ],
   "source": [
    "len(ingredientTaggedDF.recipeIndex.unique())"
   ]
  },
  {
   "cell_type": "code",
   "execution_count": 93,
   "metadata": {
    "collapsed": false
   },
   "outputs": [
    {
     "name": "stderr",
     "output_type": "stream",
     "text": [
      "/home/rachaelrho/anaconda/lib/python2.7/site-packages/IPython/kernel/__main__.py:5: SettingWithCopyWarning: \n",
      "A value is trying to be set on a copy of a slice from a DataFrame\n",
      "\n",
      "See the caveats in the documentation: http://pandas.pydata.org/pandas-docs/stable/indexing.html#indexing-view-versus-copy\n"
     ]
    }
   ],
   "source": [
    "recipeDF['ingredientTokens'] = 0\n",
    "\n",
    "for i in range(0,len(ingredientTaggedDF.recipeIndex.unique())):\n",
    "    ingredients = ingredientTaggedDF.name[ingredientTaggedDF.recipeIndex == i]\n",
    "    recipeDF['ingredientTokens'][i] = str(' '.join(ingredients))   "
   ]
  },
  {
   "cell_type": "code",
   "execution_count": 98,
   "metadata": {
    "collapsed": false
   },
   "outputs": [],
   "source": [
    "recipeDF['ingredientTokens'] = recipeDF['ingredientTokens'].astype(str)"
   ]
  },
  {
   "cell_type": "code",
   "execution_count": 99,
   "metadata": {
    "collapsed": true
   },
   "outputs": [],
   "source": [
    "def createTokens(document):\n",
    "    tokenizer = RegexpTokenizer(r'\\w+')\n",
    "    tokens = tokenizer.tokenize(document)\n",
    "    \n",
    "    tokens = [PorterStemmer().stem(x) for x in tokens]\n",
    "    tokens = [WordNetLemmatizer().lemmatize(x, 'v') for x in tokens]\n",
    "    \n",
    "    stop = stopwords.words('english')\n",
    "    tokens = [x for x in tokens if x not in stop] \n",
    "    return ' '.join(tokens)"
   ]
  },
  {
   "cell_type": "code",
   "execution_count": 100,
   "metadata": {
    "collapsed": false
   },
   "outputs": [],
   "source": [
    "recipeDF.loc[:, 'ingredientTokens'] = recipeDF.loc[:, 'ingredientTokens'].apply(createTokens)"
   ]
  },
  {
   "cell_type": "code",
   "execution_count": 101,
   "metadata": {
    "collapsed": false
   },
   "outputs": [],
   "source": [
    "recipeDFnull = recipeDF[recipeDF.ingredientTokens.isnull() == True]"
   ]
  },
  {
   "cell_type": "code",
   "execution_count": 102,
   "metadata": {
    "collapsed": false
   },
   "outputs": [
    {
     "data": {
      "text/html": [
       "<div>\n",
       "<table border=\"1\" class=\"dataframe\">\n",
       "  <thead>\n",
       "    <tr style=\"text-align: right;\">\n",
       "      <th></th>\n",
       "      <th>category</th>\n",
       "      <th>ingredientsList</th>\n",
       "      <th>instructions</th>\n",
       "      <th>summary</th>\n",
       "      <th>title</th>\n",
       "      <th>url</th>\n",
       "      <th>ingredientTokens</th>\n",
       "    </tr>\n",
       "  </thead>\n",
       "  <tbody>\n",
       "  </tbody>\n",
       "</table>\n",
       "</div>"
      ],
      "text/plain": [
       "Empty DataFrame\n",
       "Columns: [category, ingredientsList, instructions, summary, title, url, ingredientTokens]\n",
       "Index: []"
      ]
     },
     "execution_count": 102,
     "metadata": {},
     "output_type": "execute_result"
    }
   ],
   "source": [
    "recipeDFnull"
   ]
  },
  {
   "cell_type": "code",
   "execution_count": 103,
   "metadata": {
    "collapsed": true
   },
   "outputs": [],
   "source": [
    "recipeDF.to_pickle('recipeDF_tokens')"
   ]
  },
  {
   "cell_type": "code",
   "execution_count": 106,
   "metadata": {
    "collapsed": false
   },
   "outputs": [],
   "source": [
    "recipeDF = pd.read_pickle('recipeDF_tokens')"
   ]
  },
  {
   "cell_type": "code",
   "execution_count": 108,
   "metadata": {
    "collapsed": false
   },
   "outputs": [
    {
     "data": {
      "text/html": [
       "<div>\n",
       "<table border=\"1\" class=\"dataframe\">\n",
       "  <thead>\n",
       "    <tr style=\"text-align: right;\">\n",
       "      <th></th>\n",
       "      <th>category</th>\n",
       "      <th>ingredientsList</th>\n",
       "      <th>instructions</th>\n",
       "      <th>summary</th>\n",
       "      <th>title</th>\n",
       "      <th>url</th>\n",
       "      <th>ingredientTokens</th>\n",
       "    </tr>\n",
       "  </thead>\n",
       "  <tbody>\n",
       "    <tr>\n",
       "      <th>1100</th>\n",
       "      <td>[]</td>\n",
       "      <td>[2 pounds boneless, skinless chicken (or whate...</td>\n",
       "      <td>[Preheat oven to 400 degres., Place chicken in...</td>\n",
       "      <td>[]</td>\n",
       "      <td>[Enchilada Lasagna]</td>\n",
       "      <td>http://paleomg.com/chicken-enchilada-lasagna/</td>\n",
       "      <td>chicken oliv oil nan yellow onion chili powder...</td>\n",
       "    </tr>\n",
       "  </tbody>\n",
       "</table>\n",
       "</div>"
      ],
      "text/plain": [
       "     category                                    ingredientsList  \\\n",
       "1100       []  [2 pounds boneless, skinless chicken (or whate...   \n",
       "\n",
       "                                           instructions summary  \\\n",
       "1100  [Preheat oven to 400 degres., Place chicken in...      []   \n",
       "\n",
       "                    title                                            url  \\\n",
       "1100  [Enchilada Lasagna]  http://paleomg.com/chicken-enchilada-lasagna/   \n",
       "\n",
       "                                       ingredientTokens  \n",
       "1100  chicken oliv oil nan yellow onion chili powder...  "
      ]
     },
     "execution_count": 108,
     "metadata": {},
     "output_type": "execute_result"
    }
   ],
   "source": [
    "recipeDF[1100:1101]"
   ]
  },
  {
   "cell_type": "markdown",
   "metadata": {},
   "source": [
    "## TFIDF vectorizer"
   ]
  },
  {
   "cell_type": "code",
   "execution_count": 109,
   "metadata": {
    "collapsed": true
   },
   "outputs": [],
   "source": [
    "stop = ['nan']"
   ]
  },
  {
   "cell_type": "code",
   "execution_count": 110,
   "metadata": {
    "collapsed": false
   },
   "outputs": [],
   "source": [
    "tfidf_vectorizer = TfidfVectorizer(max_df=.99, max_features=1300, min_df=0.01, stop_words= stop, use_idf=True, ngram_range=(1,3))"
   ]
  },
  {
   "cell_type": "code",
   "execution_count": 111,
   "metadata": {
    "collapsed": false
   },
   "outputs": [],
   "source": [
    "tfidf_matrix = tfidf_vectorizer.fit_transform(recipeDF.ingredientTokens)"
   ]
  },
  {
   "cell_type": "code",
   "execution_count": 112,
   "metadata": {
    "collapsed": true
   },
   "outputs": [],
   "source": [
    "terms = sorted([(i,v) for v,i in tfidf_vectorizer.vocabulary_.items()])"
   ]
  },
  {
   "cell_type": "code",
   "execution_count": 113,
   "metadata": {
    "collapsed": true
   },
   "outputs": [],
   "source": [
    "vocab = [x[1] for x in terms]"
   ]
  },
  {
   "cell_type": "markdown",
   "metadata": {},
   "source": [
    "## NMF"
   ]
  },
  {
   "cell_type": "code",
   "execution_count": 114,
   "metadata": {
    "collapsed": true
   },
   "outputs": [],
   "source": [
    "U, Sigma, VT = randomized_svd(tfidf_matrix, n_components=15,\n",
    "                                      n_iter=5,\n",
    "                                      random_state=None)"
   ]
  },
  {
   "cell_type": "code",
   "execution_count": 115,
   "metadata": {
    "collapsed": false
   },
   "outputs": [
    {
     "data": {
      "text/plain": [
       "array([ 10.54430843,   7.71903456,   5.72599525,   4.86166141,\n",
       "         4.68451929,   4.51820347,   4.27080074,   4.1620107 ,\n",
       "         4.09972479,   3.99463508,   3.98368869,   3.82097501,\n",
       "         3.71322493,   3.62741917,   3.5718115 ])"
      ]
     },
     "execution_count": 115,
     "metadata": {},
     "output_type": "execute_result"
    }
   ],
   "source": [
    "Sigma"
   ]
  },
  {
   "cell_type": "code",
   "execution_count": 116,
   "metadata": {
    "collapsed": false
   },
   "outputs": [],
   "source": [
    "NMFmodel = NMF(n_components=4, init='random', random_state=0)\n",
    "NMF_topics = NMFmodel.fit_transform(tfidf_matrix)"
   ]
  },
  {
   "cell_type": "code",
   "execution_count": 117,
   "metadata": {
    "collapsed": false
   },
   "outputs": [
    {
     "data": {
      "text/plain": [
       "(1342, 4)"
      ]
     },
     "execution_count": 117,
     "metadata": {},
     "output_type": "execute_result"
    }
   ],
   "source": [
    "NMF_topics.shape"
   ]
  },
  {
   "cell_type": "code",
   "execution_count": 382,
   "metadata": {
    "collapsed": false
   },
   "outputs": [
    {
     "data": {
      "text/plain": [
       "u'nan medjool date vanilla extract oat chia seed rhubarb water cup sugar coconut sugar'"
      ]
     },
     "execution_count": 382,
     "metadata": {},
     "output_type": "execute_result"
    }
   ],
   "source": [
    "clusters = [list(r).index(max(r)) for r in NMF_topics]\n",
    "counts = [0,0,0,0]\n",
    "for c in clusters:\n",
    "    counts[c]+=1\n",
    "counts\n",
    "clusters[0:20]\n",
    "recipeDF.ingredientTokens[6]"
   ]
  },
  {
   "cell_type": "markdown",
   "metadata": {
    "collapsed": true
   },
   "source": [
    "## User input test"
   ]
  },
  {
   "cell_type": "code",
   "execution_count": 383,
   "metadata": {
    "collapsed": true
   },
   "outputs": [],
   "source": [
    "test = 'chicken tomato asparagus avocado vanilla milk'"
   ]
  },
  {
   "cell_type": "code",
   "execution_count": 384,
   "metadata": {
    "collapsed": true
   },
   "outputs": [],
   "source": [
    "testTokens = createTokens(test)"
   ]
  },
  {
   "cell_type": "code",
   "execution_count": 385,
   "metadata": {
    "collapsed": false
   },
   "outputs": [],
   "source": [
    "tf = tfidf_vectorizer.transform([testTokens])"
   ]
  },
  {
   "cell_type": "code",
   "execution_count": 386,
   "metadata": {
    "collapsed": false
   },
   "outputs": [
    {
     "data": {
      "text/plain": [
       "<1x552 sparse matrix of type '<type 'numpy.float64'>'\n",
       "\twith 6 stored elements in Compressed Sparse Row format>"
      ]
     },
     "execution_count": 386,
     "metadata": {},
     "output_type": "execute_result"
    }
   ],
   "source": [
    "tf"
   ]
  },
  {
   "cell_type": "code",
   "execution_count": 387,
   "metadata": {
    "collapsed": false
   },
   "outputs": [],
   "source": [
    "test1 = NMFmodel.transform(tf)"
   ]
  },
  {
   "cell_type": "code",
   "execution_count": 388,
   "metadata": {
    "collapsed": false
   },
   "outputs": [],
   "source": [
    "cosine = cosine_similarity(test1, NMF_topics) "
   ]
  },
  {
   "cell_type": "code",
   "execution_count": 389,
   "metadata": {
    "collapsed": false
   },
   "outputs": [
    {
     "data": {
      "text/plain": [
       "array([ 0.22909669,  0.00249022,  0.        ,  0.        ])"
      ]
     },
     "execution_count": 389,
     "metadata": {},
     "output_type": "execute_result"
    }
   ],
   "source": [
    "NMF_topics[1001]"
   ]
  },
  {
   "cell_type": "code",
   "execution_count": 390,
   "metadata": {
    "collapsed": false
   },
   "outputs": [
    {
     "data": {
      "text/plain": [
       "array([[ 0.04650726,  0.01539358,  0.        ,  0.04269284]])"
      ]
     },
     "execution_count": 390,
     "metadata": {},
     "output_type": "execute_result"
    }
   ],
   "source": [
    "test1"
   ]
  },
  {
   "cell_type": "code",
   "execution_count": 391,
   "metadata": {
    "collapsed": false
   },
   "outputs": [],
   "source": [
    "cosineList = sorted(((e,i) for i,e in enumerate(list(cosine[0]))), reverse = True)"
   ]
  },
  {
   "cell_type": "code",
   "execution_count": 393,
   "metadata": {
    "collapsed": false
   },
   "outputs": [
    {
     "data": {
      "text/plain": [
       "[(0.99883351698871969, 1081),\n",
       " (0.99634304348762637, 1303),\n",
       " (0.98844048294962583, 1285),\n",
       " (0.98708266902136699, 1153),\n",
       " (0.98057730204906868, 139),\n",
       " (0.97591675163357738, 363),\n",
       " (0.97442666115079291, 1068),\n",
       " (0.97153351820114153, 1310),\n",
       " (0.96975395457217339, 10),\n",
       " (0.96972561893615261, 1044),\n",
       " (0.96762772055105328, 1279),\n",
       " (0.96690479434197352, 1024),\n",
       " (0.96675219781722732, 981),\n",
       " (0.96609710752746891, 1234),\n",
       " (0.96514368997559852, 138),\n",
       " (0.96489191414353037, 76),\n",
       " (0.96466934596948961, 1117),\n",
       " (0.96464871501720773, 1034),\n",
       " (0.96454616718593211, 158),\n",
       " (0.96426798896976607, 1188)]"
      ]
     },
     "execution_count": 393,
     "metadata": {},
     "output_type": "execute_result"
    }
   ],
   "source": [
    "cosineList[0:20]"
   ]
  },
  {
   "cell_type": "code",
   "execution_count": 339,
   "metadata": {
    "collapsed": false
   },
   "outputs": [
    {
     "data": {
      "text/plain": [
       "<1x552 sparse matrix of type '<type 'numpy.float64'>'\n",
       "\twith 2 stored elements in Compressed Sparse Row format>"
      ]
     },
     "execution_count": 339,
     "metadata": {},
     "output_type": "execute_result"
    }
   ],
   "source": []
  },
  {
   "cell_type": "code",
   "execution_count": 394,
   "metadata": {
    "collapsed": false
   },
   "outputs": [],
   "source": [
    "top10 = [x[1] for x in cosineList[0:100]]\n",
    "top10ingredients = []\n",
    "\n",
    "for i in top10:\n",
    "    ing = list(recipeDF.ingredientTokens[i:i+1])\n",
    "    top10ingredients.append(ing)\n",
    "    \n",
    "    #if any(\"chicken\" in s for s in ing) and any(\"tomato\" in s for s in ing):\n",
    "        #print ing"
   ]
  },
  {
   "cell_type": "code",
   "execution_count": 395,
   "metadata": {
    "collapsed": false
   },
   "outputs": [
    {
     "data": {
      "text/plain": [
       "[[u'nan coconut milk nan Coconut Flour parsley garlic powder sage smoke paprika salt pepper'],\n",
       " [u'lb turkey last time yellow onion almond flour egg curri powder garam masala ginger cinnamon salt pepper coconut oil coconut milk chicken broth onion dice curri powder garam masala ginger'],\n",
       " [u'beef carrot scallion almond flour meal coconut milk coconut amino curri powder sesam oil ginger red pepper salt pepper coconut oil'],\n",
       " [u'nan butternut squash pecan nan nan bacon fat cinnamon salt'],\n",
       " [u'cantaloup nan arugula almond flax appl cider vinegar mapl syrup salt black pepper'],\n",
       " [u'nan salt pretzel nan'],\n",
       " [u'egg coconut milk coconut flour salt pork short rib mapl syrup garlic powder salt bacon nan sauc green onion'],\n",
       " [u'red grape nan bacon balsam vinegar coconut oil salt'],\n",
       " [u'coconut oil mustard seed onion carrot ginger ginger turmer cumin coriand salt black pepper yellow split pea water coconut milk lime juic brown rice scallion green onion cilantro coconut milk'],\n",
       " [u'nan nan leek asparagu egg heavi cream dill garlic powder salt pepper butter coconut oil'],\n",
       " [u'potato bacon cauliflow coconut milk almond butter shallot thyme black pepper salt choic Oil spray'],\n",
       " [u'coconut oil ginger garlic red pepper flake coconut amino fish sauc sesam oil honey chicken wing salt sesam seed scallion'],\n",
       " [u'ginger water cinnamon turmer cayenn pepper appl cider vinegar lemon slice syrup'],\n",
       " [u'acorn squash cauliflow beef mushroom appl yellow onion pecan coconut amino coconut milk appl cider vinegar balsam vinegar garlic powder garlic cinnamon ginger salt pepper'],\n",
       " [u'red beet dri red quinoa grapese coconut oil mapl syrup tamari pecan walnut oliv oil appl cider vinegar salt shallot spinach'],\n",
       " [u'nan green grape cucumb Hass avocado spinach cilantro coconut water ginger'],\n",
       " [u'spaghetti squash pork nan coconut amino salt spinach broccoli sunbutt lime white wine vinegar coconut amino soy sauc nan honey sesam oil coconut oil ginger garlic red pepper flake salt'],\n",
       " [u'yam ghee salt goat chees thyme walnut nan honey'],\n",
       " [u'acorn squash mapl syrup coconut oil Salt pepper recip omit oliv oil oil tamarind concentr lime juic mapl syrup tamari nan red quinoa pomegran aril'],\n",
       " [u'lb deer steak prune red onion coconut oil tagin season honey salt'],\n",
       " [u'pineappl freeze banana water coconut water parsley leav avocado ginger probiot powder lemon lime'],\n",
       " [u'spaghetti squash pork yellow onion nan garlic lime coconut milk almond butter nan siracha chili sauc fish sauc sesam oil ginger curri powder cinnamon salt pepper green onion cilantro carrot almond'],\n",
       " [u'water medjool date Dijon mustard appl cider vinegar nan balsam vinegar nutrit yeast flax seed hemp seed nan chickpea nan beet sweet potato red cabbag cucumb'],\n",
       " [u'egg coconut milk coconut flour coconut oil garlic powder parsley onion powder oregano salt pepper bake soda beef babi mushroom coconut milk garlic powder smoke paprika sage cinnamon salt pepper'],\n",
       " [u'butter lettuc leav radish nan lemon juic lemon zest cashew water salt shallot Dijon mustard mapl syrup'],\n",
       " [u'cauliflow garlic oliv oil coconut milk salt pepper'],\n",
       " [u'chicken garlic red onion coconut milk pumpkin cashew curri powder nan cumin cayenn pepper red pepper flake cinnamon salt pepper cilantro cauliflow coconut milk nan nan honey salt'],\n",
       " [u'carrot nan banana pineappl ginger turmer carrot juic lemon juic lemon almond milk'],\n",
       " [u'sweet potato pink ladi appl coconut oil rosemari salt'],\n",
       " [u'peanut butter water tamari rice vinegar appl cider vinegar sesam oil ginger mapl syrup cayenn pepper sweet potato coconut oil kale peanut'],\n",
       " [u'nan coconut oil button mushroom rosemari garlic coconut milk spinach nan Kerrygold cheddar chees salt pepper'],\n",
       " [u'yellow onion garlic ginger ginger powder nan veget broth tomato tomato past tamarind past mapl syrup salt garam masala black pepper coconut milk Rice'],\n",
       " [u'tofu salt coconut oil carrot zucchini red onion babi bok choy garlic nan veget broth turmer salt peanut rice'],\n",
       " [u'nan salt garlic powder onion powder paprika ghee butter coconut oil pineappl chunk dijon mustard mustard nan'],\n",
       " [u'coconut oil chickpea zucchini carrot kale garlic nan nan turmer cumin coriand nan rins uncook red lentil stock water coconut milk'],\n",
       " [u'mapl syrup sugar smoke paprika cayenn pepper salt bacon'],\n",
       " [u'sweet potato oliv oil coconut oil salt cinnamon dark chocol'],\n",
       " [u'potato nan quinoa carrot cabbag coupl hand green hummu avocado hemp seed'],\n",
       " [u'unsalt butter oil onion nutmeg tsp paprika salt grind black pepper coconut milk pumpkin pumpkin Chicken Broth cilantro pine nut'],\n",
       " [u'onion coconut oil red lentil sweet potato carrot turmer curri powder ginger sea salt Black pepper veget broth coconut milk'],\n",
       " [u'juic tequila tripl sec lime watermelon ice cube salt'],\n",
       " [u'larg grapefruit lime juic vodka nan tonic water ice cube'],\n",
       " [u'red grapefruit juic nan sweet appl cucumb medium larg celeri hemp heart mango mint leav coconut oil ice cube'],\n",
       " [u'spaghetti squash chicken sausag full fat coconut milk tomato sauc spinach tarragon thyme oregano salt pepper'],\n",
       " [u'mushroom italian sausag goat chees crumbl shrimp nan nan pineappl coconut oil salt nan'],\n",
       " [u'nan nan black bean lime juic coconut oil rice salt water lime juic cilantro plantain coconut oil salt red onion avocado Hot sauc nan Etc'],\n",
       " [u'coconut meat coconut water lemon juic probiot powder salt salt Sweeten'],\n",
       " [u'tofu neutral oil cayenn cinnamon Garam Masala salt red onion ginger garlic water neutral oil cumin seed bay leav garlic coconut milk mango salt appl cider vinegar black pepper Garam Masala cilantro'],\n",
       " [u'potato nan nan cinnamon salt aluminum foil'],\n",
       " [u'zucchini carrot pork turkey ginger sesam oil basil garlic curri powder red pepper flake salt pepper coconut milk almond butter coconut amino chili garlic sauc sesam oil honey curri powder red pepper flake salt green onion cilantro'],\n",
       " [u'millet veget broth spirulina flax oil tamari coconut amino nutrit yeast'],\n",
       " [u'nan lime juic ginger beer syrup salt'],\n",
       " [u'peanut butter water red curri past sauc garlic mapl syrup lime juic serv rice noodl julien bell pepper broccoli floret cauliflow floret shiitak mushroom lemon broccoli clover sunflow cilantro mung bean sprout'],\n",
       " [u'coconut water mango juic appl red leaf lettuc nan cilantro leav mango chunk avocado lemon juic nan nan'],\n",
       " [u'Brussel sprout coconut oil dri Harissa spice blend salt black pepper'],\n",
       " [u'nan coconut oil onion salt bison egg green appl arugula extra garnish burger garlic sea salt garlic powder black pepper coconut oil nan'],\n",
       " [u'green lentil chickpea coconut milk veget broth jalapeno garlic garlic sauc tbsp sriracha curri powder chili powder turmer salt coconut oil red onion'],\n",
       " [u'oat soy milk water salt black pepper spinach spinach yeast turmer chickpea tahini almond'],\n",
       " [u'tilapia filet egg pecan coconut parsley tarragon thyme salt pepper coconut oil orang clementin jalapeno red onion dice lime juic lemon juic cilantro salt'],\n",
       " [u'dri millet dri quinoa water mapl syrup salt cashew lemon lemon juic blueberri'],\n",
       " [u'pork spaghetti squash cucumb cilantro coconut amino ginger garlic powder red pepper coriand cinnamon salt pepper fat water lime juic coconut amino honey fish sauc garlic powder'],\n",
       " [u'soft date water lemon juic cinnamon'],\n",
       " [u'pork shoulder butt sesam oil molass honey coconut amino coconut vinegar cherri plum jam ginger garlic chili past chin five spice white pepper sea salt'],\n",
       " [u'butter water red curri past low sodium tamari mapl syrup lime juic ginger ginger garlic coconut sesam sweet potato yellow onion red bell pepper snow pea rice peanut onion'],\n",
       " [u'nan lemon juic cider vinegar 5 mL brown rice syrup salt dri mustard powder nan'],\n",
       " [u'nan nan nan local avocado pomegran aril hemp seed Salt pepper'],\n",
       " [u'pork shoulder roast yellow onion appl water honey ginger ginger cinnamon salt smoke paprika pepper garlic bay leaf'],\n",
       " [u'russet potato soy milk Earth Balanc coconut oil salt black pepper garlic powder kale nan nan nan would also great'],\n",
       " [u'hemp seed water nutrit yeast lemon juic garlic salt lettuc tomato carrot delicata squash petita pumpkin seed hemp seed'],\n",
       " [u'potato coconut oil salt'],\n",
       " [u'carrot juic white wine lime juic Medjool date salt chili powder cayenn pepper avocado oliv oil dri quinoa water carrot oliv coconut oil cumin powder Salt babi spinach chickpea cilantro'],\n",
       " [u'spaghetti squash chicken red bell pepper onion spinach coconut milk veget broth almond butter nan nan garlic nan sesam oil fish sauc curri powder coriand garam marsala ginger cleave salt pepper nan lime cilantro onion'],\n",
       " [u'grapese melt coconut oil onion garlic ginger curri powder turmer powder garam masala cinnamon salt Black pepper nan low sodium veget broth chickpea raisin lime juic freeze spinach brown rice'],\n",
       " [u'sweet potato cilantro basil leav garlic ginger peanut oat flour chickpea nan sesam seed oil low sodium tamari lime juic coriand salt black pepper garlic peanut butter lime juic low sodium tamari water mapl syrup ginger cayenn pepper'],\n",
       " [u'green lentil walnut halv oliv oil cremini mushroom garlic kale leav cranberri rosemari thyme oregano sherri vinegar flax 3 tablespoon water oat flour salt black pepper cranberri pear mapl syrup pinch fine grain sea salt'],\n",
       " [u'garlic soy sauc mapl syrup liquid smoke water'],\n",
       " [u'nan sweet appl carrot carrot beet ginger lemon water'],\n",
       " [u'acorn squash nan nan cinnamon salt'],\n",
       " [u'4 6lb lime nan white wine vinegar honey sesam oil ginger siracha sesam seed salt pepper'],\n",
       " [u'carrot coconut oil oliv oil leek garlic asparagu pea garlic basil leav sun dri tomato hemp seed lemon juic oliv oil water fine grain sea salt salt'],\n",
       " [u'butter shrimp coconut amino fish sauc red pepper flake mushroom asparagu spear salt pepper sesam seed'],\n",
       " [u'wild rice rice blend chickpea carrot celeri pomegran seed onion shallot oliv oil oil appl cider vinegar mapl syrup garam masala salt Black pepper'],\n",
       " [u'butternut squash coconut oil salt quinoa larg avocado lemon juic salt black pepper'],\n",
       " [u'butternut squash chicken stock salt prefer garlic powder black pepper bacon fat choic coconut oil sugar parsley'],\n",
       " [u'almond butter sesam oil tamari mapl syrup appl cider vinegar water'],\n",
       " [u'coconut red bell pepper flax meal sea salt coconut amino date coconut water'],\n",
       " [u'1 2lb cinnamon thyme salt pepper blackberri balsam vinegar water salt'],\n",
       " [u'cashew almond coconut sesam seed coconut amino mapl syrup liquid smoke fine grain sea salt salt smoke paprika cayenn pepper'],\n",
       " [u'curli kale cranberri lentil lentil nan oliv oil appl cider vinegar mapl syrup salt Black pepper shallot'],\n",
       " [u'orang juic water avocado lime mango syrup'],\n",
       " [u'coconut oil oil onion onion garlic ginger carrot curri powder cumin turmer dri red lentil light coconut milk low sodium veget broth salt black pepper Cayenn pepper cane sugar spinach dri basmati rice coconut oil butter low sodium veget broth cilantro salt black pepper lime juic Green onion cilantro leav pepita seed lime juic'],\n",
       " [u'rice noodl red bell pepper nan red cabbag nan basil cilantro Black sesam seed low sodium tamari mapl syrup rice vinegar sesam oil ginger garlic tahini water'],\n",
       " [u'beef pork butternut squash red bell pepper green bell pepper yellow bell pepper yellow onion garlic tomato tomato sauc stock coconut milk coconut butter curri powder chili powder cumin paprika garlic powder salt cinnamon cocoa powder garam masala cleave salt pepper'],\n",
       " [u'dri quinoa coconut milk water salt curri powder turmer black pepper sesam oil green onion garlic ginger cauliflow floret broccoli floret red bell pepper carrot thaw green pea tamari rice vinegar'],\n",
       " [u'cashew salt curri powder turmer lemon juic water paprika zucchini squash'],\n",
       " [u'ribey steak pistachio dijon mustard honey garlic powder mustard seed ginger salt pepper'],\n",
       " [u'coconut oil garlic ginger cleave cinnamon nutmeg cumin lentil sun dri tomato water broth tbsp concentr tamarind past mapl syrup tomato salt'],\n",
       " [u'spaghetti squash butter garlic shallot sun dri tomato chicken breast salt red pepper flake basil coconut milk chicken bone broth salt pine nut parsley black pepper'],\n",
       " [u'potato coconut oil egg white onion avocado oil egg lemon juic dijon mustard parsley thyme basil salt pepper'],\n",
       " [u'lb sweet potato salt garlic powder almond milk oliv oil coconut oil lentil oil onion shallot garlic carrot celeri mushroom thyme leav rosemari sage vinegar Splash red wine veget broth Salt pepper bread crumb']]"
      ]
     },
     "execution_count": 395,
     "metadata": {},
     "output_type": "execute_result"
    }
   ],
   "source": [
    "top10ingredients"
   ]
  },
  {
   "cell_type": "markdown",
   "metadata": {
    "collapsed": true
   },
   "source": [
    "## Personalized health-states logic"
   ]
  },
  {
   "cell_type": "code",
   "execution_count": null,
   "metadata": {
    "collapsed": true
   },
   "outputs": [],
   "source": []
  }
 ],
 "metadata": {
  "kernelspec": {
   "display_name": "Python 2",
   "language": "python",
   "name": "python2"
  },
  "language_info": {
   "codemirror_mode": {
    "name": "ipython",
    "version": 2
   },
   "file_extension": ".py",
   "mimetype": "text/x-python",
   "name": "python",
   "nbconvert_exporter": "python",
   "pygments_lexer": "ipython2",
   "version": "2.7.11"
  }
 },
 "nbformat": 4,
 "nbformat_minor": 0
}
