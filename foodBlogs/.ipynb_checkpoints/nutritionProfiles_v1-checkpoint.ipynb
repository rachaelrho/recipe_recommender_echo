{
 "cells": [
  {
   "cell_type": "code",
   "execution_count": 2,
   "metadata": {
    "collapsed": true
   },
   "outputs": [],
   "source": [
    "glutenFree = ['wheat','wheatberries','durum','emmer','semolina','spelt',\n",
    "             'farina','farro','graham','rye','barley','tricale','malt']\n",
    "\n",
    "nutFree = ['almond','brazil nut','cashew','chestnut','filbert',\n",
    "           'hazelnut','hickory nut','macadamia nut','pecans','pine nut',\n",
    "           'pistachio','walnut']\n",
    "\n",
    "dairyFree = ['milk','butter','cream','half & half','sour cream','ghee','yogurt','cheese']\n",
    "\n",
    "vegetarian = ['meat','lamb','beef','fish','shrimp','lobster','chicken']\n",
    "\n",
    "vegan = ['milk','butter','cream','half & half','sour cream','ghee','yogurt','cheese',\n",
    "         'egg','meat','lamb']\n",
    "\n",
    "##lemmatize lists"
   ]
  },
  {
   "cell_type": "code",
   "execution_count": 2,
   "metadata": {
    "collapsed": true
   },
   "outputs": [],
   "source": [
    "nutrDict = {}"
   ]
  },
  {
   "cell_type": "code",
   "execution_count": 5,
   "metadata": {
    "collapsed": false
   },
   "outputs": [],
   "source": [
    "nutrDict['glutenFree'] = ['wheat','wheatberries','durum','emmer','semolina','spelt',\n",
    "             'farina','farro','graham','rye','barley','tricale','malt']\n",
    "\n",
    "nutrDict['nutFree'] = ['almond','brazil nut','cashew','chestnut','filbert',\n",
    "           'hazelnut','hickory nut','macadamia nut','pecans','pine nut',\n",
    "           'pistachio','walnut']\n",
    "\n",
    "nutrDict['dairyFree'] = ['milk','butter','cream','half & half','sour cream','ghee','yogurt','cheese']\n",
    "\n",
    "nutrDict['vegetarian'] = "
   ]
  },
  {
   "cell_type": "code",
   "execution_count": null,
   "metadata": {
    "collapsed": true
   },
   "outputs": [],
   "source": []
  }
 ],
 "metadata": {
  "kernelspec": {
   "display_name": "Python 2",
   "language": "python",
   "name": "python2"
  },
  "language_info": {
   "codemirror_mode": {
    "name": "ipython",
    "version": 2
   },
   "file_extension": ".py",
   "mimetype": "text/x-python",
   "name": "python",
   "nbconvert_exporter": "python",
   "pygments_lexer": "ipython2",
   "version": "2.7.11"
  }
 },
 "nbformat": 4,
 "nbformat_minor": 0
}
