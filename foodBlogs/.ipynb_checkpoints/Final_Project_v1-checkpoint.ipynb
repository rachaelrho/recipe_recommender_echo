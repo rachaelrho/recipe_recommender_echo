{
 "cells": [
  {
   "cell_type": "code",
   "execution_count": 275,
   "metadata": {
    "collapsed": false
   },
   "outputs": [],
   "source": [
    "import pandas as pd\n",
    "import numpy as np\n",
    "import unicodedata\n",
    "import json\n",
    "from pprint import pprint"
   ]
  },
  {
   "cell_type": "code",
   "execution_count": 5,
   "metadata": {
    "collapsed": false
   },
   "outputs": [],
   "source": [
    "nyt = pd.read_csv(\"https://raw.githubusercontent.com/NYTimes/ingredient-phrase-tagger/master/nyt-ingredients-snapshot-2015.csv\")"
   ]
  },
  {
   "cell_type": "code",
   "execution_count": 6,
   "metadata": {
    "collapsed": false
   },
   "outputs": [
    {
     "data": {
      "text/html": [
       "<div>\n",
       "<table border=\"1\" class=\"dataframe\">\n",
       "  <thead>\n",
       "    <tr style=\"text-align: right;\">\n",
       "      <th></th>\n",
       "      <th>index</th>\n",
       "      <th>input</th>\n",
       "      <th>name</th>\n",
       "      <th>qty</th>\n",
       "      <th>range_end</th>\n",
       "      <th>unit</th>\n",
       "      <th>comment</th>\n",
       "    </tr>\n",
       "  </thead>\n",
       "  <tbody>\n",
       "    <tr>\n",
       "      <th>0</th>\n",
       "      <td>0</td>\n",
       "      <td>1 1/4 cups cooked and pureed fresh butternut s...</td>\n",
       "      <td>butternut squash</td>\n",
       "      <td>1.25</td>\n",
       "      <td>0.0</td>\n",
       "      <td>cup</td>\n",
       "      <td>cooked and pureed fresh, or 1 10-ounce package...</td>\n",
       "    </tr>\n",
       "    <tr>\n",
       "      <th>1</th>\n",
       "      <td>1</td>\n",
       "      <td>1 cup peeled and cooked fresh chestnuts (about...</td>\n",
       "      <td>chestnuts</td>\n",
       "      <td>1.00</td>\n",
       "      <td>0.0</td>\n",
       "      <td>cup</td>\n",
       "      <td>peeled and cooked fresh (about 20), or 1 cup c...</td>\n",
       "    </tr>\n",
       "    <tr>\n",
       "      <th>2</th>\n",
       "      <td>2</td>\n",
       "      <td>1 medium-size onion, peeled and chopped</td>\n",
       "      <td>onion</td>\n",
       "      <td>1.00</td>\n",
       "      <td>0.0</td>\n",
       "      <td>NaN</td>\n",
       "      <td>medium-size, peeled and chopped</td>\n",
       "    </tr>\n",
       "  </tbody>\n",
       "</table>\n",
       "</div>"
      ],
      "text/plain": [
       "   index                                              input              name  \\\n",
       "0      0  1 1/4 cups cooked and pureed fresh butternut s...  butternut squash   \n",
       "1      1  1 cup peeled and cooked fresh chestnuts (about...         chestnuts   \n",
       "2      2            1 medium-size onion, peeled and chopped             onion   \n",
       "\n",
       "    qty  range_end unit                                            comment  \n",
       "0  1.25        0.0  cup  cooked and pureed fresh, or 1 10-ounce package...  \n",
       "1  1.00        0.0  cup  peeled and cooked fresh (about 20), or 1 cup c...  \n",
       "2  1.00        0.0  NaN                    medium-size, peeled and chopped  "
      ]
     },
     "execution_count": 6,
     "metadata": {},
     "output_type": "execute_result"
    }
   ],
   "source": [
    "nyt.head(3)"
   ]
  },
  {
   "cell_type": "code",
   "execution_count": 59,
   "metadata": {
    "collapsed": false
   },
   "outputs": [
    {
     "data": {
      "text/plain": [
       "0    1 1/4 cups cooked and pureed fresh butternut squash, or 1 10-ounce package frozen squash, defrosted\n",
       "Name: input, dtype: object"
      ]
     },
     "execution_count": 59,
     "metadata": {},
     "output_type": "execute_result"
    }
   ],
   "source": [
    "pd.set_option('max_colwidth', 800)\n",
    "nyt['input'][0:1]"
   ]
  },
  {
   "cell_type": "markdown",
   "metadata": {},
   "source": [
    "## concatenate json files and create dataframe"
   ]
  },
  {
   "cell_type": "code",
   "execution_count": 130,
   "metadata": {
    "collapsed": false
   },
   "outputs": [],
   "source": [
    "file_list = [\"fullhelping_items.json\", \"iLoveVegan_items.json\", \"MinimalistBaker_items.json\", \"ohsheglows_items.json\",\n",
    "             \"PaleOMG_items.json\"]\n",
    "full = []\n",
    "with open(\"allRecipes.json\", \"w\") as outfile:\n",
    "    for f in file_list:\n",
    "        with open(f, 'rb') as infile:\n",
    "            file_data = json.load(infile)\n",
    "            full += file_data\n",
    "    json.dump(full, outfile)\n"
   ]
  },
  {
   "cell_type": "code",
   "execution_count": 26,
   "metadata": {
    "collapsed": false,
    "scrolled": true
   },
   "outputs": [
    {
     "data": {
      "text/plain": [
       "{u'category': [],\n",
       " u'ingredientsList': [],\n",
       " u'instructions': [],\n",
       " u'summary': [],\n",
       " u'title': [],\n",
       " u'url': u'http://www.thefullhelping.com/recipes/breakfasts/'}"
      ]
     },
     "execution_count": 26,
     "metadata": {},
     "output_type": "execute_result"
    }
   ],
   "source": [
    "full[0]"
   ]
  },
  {
   "cell_type": "code",
   "execution_count": 47,
   "metadata": {
    "collapsed": false
   },
   "outputs": [],
   "source": [
    "fullDF = pd.DataFrame(full)"
   ]
  },
  {
   "cell_type": "code",
   "execution_count": 31,
   "metadata": {
    "collapsed": false
   },
   "outputs": [
    {
     "data": {
      "text/html": [
       "<div>\n",
       "<table border=\"1\" class=\"dataframe\">\n",
       "  <thead>\n",
       "    <tr style=\"text-align: right;\">\n",
       "      <th></th>\n",
       "      <th>category</th>\n",
       "      <th>ingredientsList</th>\n",
       "      <th>instructions</th>\n",
       "      <th>summary</th>\n",
       "      <th>title</th>\n",
       "      <th>url</th>\n",
       "    </tr>\n",
       "  </thead>\n",
       "  <tbody>\n",
       "    <tr>\n",
       "      <th>0</th>\n",
       "      <td>[]</td>\n",
       "      <td>[]</td>\n",
       "      <td>[]</td>\n",
       "      <td>[]</td>\n",
       "      <td>[]</td>\n",
       "      <td>http://www.thefullhelping.com/recipes/breakfasts/</td>\n",
       "    </tr>\n",
       "    <tr>\n",
       "      <th>1</th>\n",
       "      <td>[]</td>\n",
       "      <td>[]</td>\n",
       "      <td>[]</td>\n",
       "      <td>[]</td>\n",
       "      <td>[]</td>\n",
       "      <td>http://www.thefullhelping.com/</td>\n",
       "    </tr>\n",
       "    <tr>\n",
       "      <th>2</th>\n",
       "      <td>[]</td>\n",
       "      <td>[]</td>\n",
       "      <td>[]</td>\n",
       "      <td>[]</td>\n",
       "      <td>[]</td>\n",
       "      <td>http://www.thefullhelping.com/recipes/nut-milks/</td>\n",
       "    </tr>\n",
       "    <tr>\n",
       "      <th>3</th>\n",
       "      <td>[]</td>\n",
       "      <td>[]</td>\n",
       "      <td>[]</td>\n",
       "      <td>[]</td>\n",
       "      <td>[]</td>\n",
       "      <td>http://www.thefullhelping.com/recipes/hummus/</td>\n",
       "    </tr>\n",
       "    <tr>\n",
       "      <th>4</th>\n",
       "      <td>[]</td>\n",
       "      <td>[]</td>\n",
       "      <td>[]</td>\n",
       "      <td>[]</td>\n",
       "      <td>[]</td>\n",
       "      <td>http://www.thefullhelping.com/green-recovery/</td>\n",
       "    </tr>\n",
       "    <tr>\n",
       "      <th>5</th>\n",
       "      <td>[]</td>\n",
       "      <td>[]</td>\n",
       "      <td>[]</td>\n",
       "      <td>[]</td>\n",
       "      <td>[]</td>\n",
       "      <td>http://www.thefullhelping.com/recipes/dips-spr...</td>\n",
       "    </tr>\n",
       "    <tr>\n",
       "      <th>6</th>\n",
       "      <td>[]</td>\n",
       "      <td>[]</td>\n",
       "      <td>[]</td>\n",
       "      <td>[]</td>\n",
       "      <td>[]</td>\n",
       "      <td>http://www.thefullhelping.com/2009/02/</td>\n",
       "    </tr>\n",
       "    <tr>\n",
       "      <th>7</th>\n",
       "      <td>[]</td>\n",
       "      <td>[]</td>\n",
       "      <td>[]</td>\n",
       "      <td>[]</td>\n",
       "      <td>[]</td>\n",
       "      <td>http://www.thefullhelping.com/blog/</td>\n",
       "    </tr>\n",
       "    <tr>\n",
       "      <th>8</th>\n",
       "      <td>[]</td>\n",
       "      <td>[]</td>\n",
       "      <td>[]</td>\n",
       "      <td>[]</td>\n",
       "      <td>[]</td>\n",
       "      <td>http://www.thefullhelping.com/2009/04/</td>\n",
       "    </tr>\n",
       "    <tr>\n",
       "      <th>9</th>\n",
       "      <td>[]</td>\n",
       "      <td>[]</td>\n",
       "      <td>[]</td>\n",
       "      <td>[]</td>\n",
       "      <td>[]</td>\n",
       "      <td>http://www.thefullhelping.com/recipes/chia-pud...</td>\n",
       "    </tr>\n",
       "    <tr>\n",
       "      <th>10</th>\n",
       "      <td>[]</td>\n",
       "      <td>[1 pound purple asparagus, washed, woody ends ...</td>\n",
       "      <td>[Preheat the oven to 400F. Toss the asparagus ...</td>\n",
       "      <td>[]</td>\n",
       "      <td>[Purple Asparagus and Quinoa Salad with Peas a...</td>\n",
       "      <td>http://www.thefullhelping.com/purple-asparagus...</td>\n",
       "    </tr>\n",
       "    <tr>\n",
       "      <th>11</th>\n",
       "      <td>[]</td>\n",
       "      <td>[]</td>\n",
       "      <td>[]</td>\n",
       "      <td>[]</td>\n",
       "      <td>[]</td>\n",
       "      <td>http://www.thefullhelping.com/recipes/</td>\n",
       "    </tr>\n",
       "    <tr>\n",
       "      <th>12</th>\n",
       "      <td>[]</td>\n",
       "      <td>[1 package DOLE® Power Up Greens™ (or 6 oz. ba...</td>\n",
       "      <td>[1. Place the greens, quinoa, blueberries, and...</td>\n",
       "      <td>[]</td>\n",
       "      <td>[Power Up Salad with Baby Kale, Quinoa, Bluebe...</td>\n",
       "      <td>http://www.thefullhelping.com/power-up-salad-w...</td>\n",
       "    </tr>\n",
       "    <tr>\n",
       "      <th>13</th>\n",
       "      <td>[]</td>\n",
       "      <td>[]</td>\n",
       "      <td>[]</td>\n",
       "      <td>[]</td>\n",
       "      <td>[]</td>\n",
       "      <td>http://www.thefullhelping.com/chicory-salad-wi...</td>\n",
       "    </tr>\n",
       "    <tr>\n",
       "      <th>14</th>\n",
       "      <td>[]</td>\n",
       "      <td>[]</td>\n",
       "      <td>[]</td>\n",
       "      <td>[]</td>\n",
       "      <td>[]</td>\n",
       "      <td>http://www.thefullhelping.com/recipes/baked-go...</td>\n",
       "    </tr>\n",
       "    <tr>\n",
       "      <th>15</th>\n",
       "      <td>[]</td>\n",
       "      <td>[]</td>\n",
       "      <td>[]</td>\n",
       "      <td>[]</td>\n",
       "      <td>[]</td>\n",
       "      <td>http://www.thefullhelping.com/the-book/</td>\n",
       "    </tr>\n",
       "    <tr>\n",
       "      <th>16</th>\n",
       "      <td>[]</td>\n",
       "      <td>[]</td>\n",
       "      <td>[]</td>\n",
       "      <td>[]</td>\n",
       "      <td>[]</td>\n",
       "      <td>http://www.thefullhelping.com/homemade-sunshin...</td>\n",
       "    </tr>\n",
       "    <tr>\n",
       "      <th>17</th>\n",
       "      <td>[]</td>\n",
       "      <td>[]</td>\n",
       "      <td>[]</td>\n",
       "      <td>[]</td>\n",
       "      <td>[]</td>\n",
       "      <td>http://www.thefullhelping.com/top-posts/</td>\n",
       "    </tr>\n",
       "    <tr>\n",
       "      <th>18</th>\n",
       "      <td>[]</td>\n",
       "      <td>[]</td>\n",
       "      <td>[]</td>\n",
       "      <td>[]</td>\n",
       "      <td>[]</td>\n",
       "      <td>http://www.thefullhelping.com/very-berry-chia-...</td>\n",
       "    </tr>\n",
       "    <tr>\n",
       "      <th>19</th>\n",
       "      <td>[]</td>\n",
       "      <td>[1¾ cups gluten-free, all purpose flour or who...</td>\n",
       "      <td>[Preheat your oven to 350F. Line a 12-muffin b...</td>\n",
       "      <td>[]</td>\n",
       "      <td>[Vegan, Gluten Free Pumpkin Gingerbread Spice ...</td>\n",
       "      <td>http://www.thefullhelping.com/vegan-gluten-fre...</td>\n",
       "    </tr>\n",
       "  </tbody>\n",
       "</table>\n",
       "</div>"
      ],
      "text/plain": [
       "   category                                    ingredientsList  \\\n",
       "0        []                                                 []   \n",
       "1        []                                                 []   \n",
       "2        []                                                 []   \n",
       "3        []                                                 []   \n",
       "4        []                                                 []   \n",
       "5        []                                                 []   \n",
       "6        []                                                 []   \n",
       "7        []                                                 []   \n",
       "8        []                                                 []   \n",
       "9        []                                                 []   \n",
       "10       []  [1 pound purple asparagus, washed, woody ends ...   \n",
       "11       []                                                 []   \n",
       "12       []  [1 package DOLE® Power Up Greens™ (or 6 oz. ba...   \n",
       "13       []                                                 []   \n",
       "14       []                                                 []   \n",
       "15       []                                                 []   \n",
       "16       []                                                 []   \n",
       "17       []                                                 []   \n",
       "18       []                                                 []   \n",
       "19       []  [1¾ cups gluten-free, all purpose flour or who...   \n",
       "\n",
       "                                         instructions summary  \\\n",
       "0                                                  []      []   \n",
       "1                                                  []      []   \n",
       "2                                                  []      []   \n",
       "3                                                  []      []   \n",
       "4                                                  []      []   \n",
       "5                                                  []      []   \n",
       "6                                                  []      []   \n",
       "7                                                  []      []   \n",
       "8                                                  []      []   \n",
       "9                                                  []      []   \n",
       "10  [Preheat the oven to 400F. Toss the asparagus ...      []   \n",
       "11                                                 []      []   \n",
       "12  [1. Place the greens, quinoa, blueberries, and...      []   \n",
       "13                                                 []      []   \n",
       "14                                                 []      []   \n",
       "15                                                 []      []   \n",
       "16                                                 []      []   \n",
       "17                                                 []      []   \n",
       "18                                                 []      []   \n",
       "19  [Preheat your oven to 350F. Line a 12-muffin b...      []   \n",
       "\n",
       "                                                title  \\\n",
       "0                                                  []   \n",
       "1                                                  []   \n",
       "2                                                  []   \n",
       "3                                                  []   \n",
       "4                                                  []   \n",
       "5                                                  []   \n",
       "6                                                  []   \n",
       "7                                                  []   \n",
       "8                                                  []   \n",
       "9                                                  []   \n",
       "10  [Purple Asparagus and Quinoa Salad with Peas a...   \n",
       "11                                                 []   \n",
       "12  [Power Up Salad with Baby Kale, Quinoa, Bluebe...   \n",
       "13                                                 []   \n",
       "14                                                 []   \n",
       "15                                                 []   \n",
       "16                                                 []   \n",
       "17                                                 []   \n",
       "18                                                 []   \n",
       "19  [Vegan, Gluten Free Pumpkin Gingerbread Spice ...   \n",
       "\n",
       "                                                  url  \n",
       "0   http://www.thefullhelping.com/recipes/breakfasts/  \n",
       "1                      http://www.thefullhelping.com/  \n",
       "2    http://www.thefullhelping.com/recipes/nut-milks/  \n",
       "3       http://www.thefullhelping.com/recipes/hummus/  \n",
       "4       http://www.thefullhelping.com/green-recovery/  \n",
       "5   http://www.thefullhelping.com/recipes/dips-spr...  \n",
       "6              http://www.thefullhelping.com/2009/02/  \n",
       "7                 http://www.thefullhelping.com/blog/  \n",
       "8              http://www.thefullhelping.com/2009/04/  \n",
       "9   http://www.thefullhelping.com/recipes/chia-pud...  \n",
       "10  http://www.thefullhelping.com/purple-asparagus...  \n",
       "11             http://www.thefullhelping.com/recipes/  \n",
       "12  http://www.thefullhelping.com/power-up-salad-w...  \n",
       "13  http://www.thefullhelping.com/chicory-salad-wi...  \n",
       "14  http://www.thefullhelping.com/recipes/baked-go...  \n",
       "15            http://www.thefullhelping.com/the-book/  \n",
       "16  http://www.thefullhelping.com/homemade-sunshin...  \n",
       "17           http://www.thefullhelping.com/top-posts/  \n",
       "18  http://www.thefullhelping.com/very-berry-chia-...  \n",
       "19  http://www.thefullhelping.com/vegan-gluten-fre...  "
      ]
     },
     "execution_count": 31,
     "metadata": {},
     "output_type": "execute_result"
    }
   ],
   "source": [
    "fullDF.head(20)"
   ]
  },
  {
   "cell_type": "code",
   "execution_count": 48,
   "metadata": {
    "collapsed": false
   },
   "outputs": [],
   "source": [
    "fullDF1 = fullDF[fullDF.ingredientsList.str.len() != 0]"
   ]
  },
  {
   "cell_type": "code",
   "execution_count": 142,
   "metadata": {
    "collapsed": false
   },
   "outputs": [],
   "source": [
    "recipeDF = fullDF1.reset_index(drop=True)"
   ]
  },
  {
   "cell_type": "code",
   "execution_count": 143,
   "metadata": {
    "collapsed": false
   },
   "outputs": [
    {
     "data": {
      "text/plain": [
       "1"
      ]
     },
     "execution_count": 143,
     "metadata": {},
     "output_type": "execute_result"
    }
   ],
   "source": [
    "recipeDF.index.tolist()[1]"
   ]
  },
  {
   "cell_type": "markdown",
   "metadata": {},
   "source": [
    "## Write ingredients to file for NYT ingredient tagger"
   ]
  },
  {
   "cell_type": "code",
   "execution_count": 144,
   "metadata": {
    "collapsed": false
   },
   "outputs": [],
   "source": [
    "f = open(\"input.txt\", \"a\")\n",
    "ingredientList = []\n",
    "\n",
    "for row in range(0,len(recipeDF)):\n",
    "    ingredients = recipeDF.ingredientsList.iloc[row]\n",
    "    for i in range(0,len(ingredients)):\n",
    "        line = ingredients[i].encode('ascii','ignore')\n",
    "        ingredientList.append([row,i,line])\n",
    "        f.write(line + '\\n')\n",
    "f.close()\n",
    "        "
   ]
  },
  {
   "cell_type": "code",
   "execution_count": 145,
   "metadata": {
    "collapsed": false
   },
   "outputs": [],
   "source": [
    "ingredientDF = pd.DataFrame(ingredientList, columns=['recipeIndex','ingredientIndex','recipeText'])"
   ]
  },
  {
   "cell_type": "code",
   "execution_count": 146,
   "metadata": {
    "collapsed": false
   },
   "outputs": [
    {
     "data": {
      "text/html": [
       "<div>\n",
       "<table border=\"1\" class=\"dataframe\">\n",
       "  <thead>\n",
       "    <tr style=\"text-align: right;\">\n",
       "      <th></th>\n",
       "      <th>recipeIndex</th>\n",
       "      <th>ingredientIndex</th>\n",
       "      <th>recipeText</th>\n",
       "    </tr>\n",
       "  </thead>\n",
       "  <tbody>\n",
       "    <tr>\n",
       "      <th>0</th>\n",
       "      <td>0</td>\n",
       "      <td>0</td>\n",
       "      <td>1 pound purple asparagus, washed, woody ends trimmed off, and cut into 2 inch pieces</td>\n",
       "    </tr>\n",
       "    <tr>\n",
       "      <th>1</th>\n",
       "      <td>0</td>\n",
       "      <td>1</td>\n",
       "      <td>2 teaspoons olive oil</td>\n",
       "    </tr>\n",
       "    <tr>\n",
       "      <th>2</th>\n",
       "      <td>0</td>\n",
       "      <td>2</td>\n",
       "      <td>Salt and pepper</td>\n",
       "    </tr>\n",
       "  </tbody>\n",
       "</table>\n",
       "</div>"
      ],
      "text/plain": [
       "   recipeIndex  ingredientIndex                                                                            recipeText\n",
       "0            0                0  1 pound purple asparagus, washed, woody ends trimmed off, and cut into 2 inch pieces\n",
       "1            0                1                                                                 2 teaspoons olive oil\n",
       "2            0                2                                                                       Salt and pepper"
      ]
     },
     "execution_count": 146,
     "metadata": {},
     "output_type": "execute_result"
    }
   ],
   "source": [
    "ingredientDF.head(3)"
   ]
  },
  {
   "cell_type": "code",
   "execution_count": 147,
   "metadata": {
    "collapsed": false
   },
   "outputs": [
    {
     "data": {
      "text/plain": [
       "1342"
      ]
     },
     "execution_count": 147,
     "metadata": {},
     "output_type": "execute_result"
    }
   ],
   "source": [
    "len(ingredientDF.recipeIndex.unique())"
   ]
  },
  {
   "cell_type": "markdown",
   "metadata": {},
   "source": [
    "## merge NYT ingredient tags with ingredientDF"
   ]
  },
  {
   "cell_type": "code",
   "execution_count": 155,
   "metadata": {
    "collapsed": true
   },
   "outputs": [],
   "source": [
    "with open('results.json', 'rb') as infile:\n",
    "    ingredientTags = json.load(infile)"
   ]
  },
  {
   "cell_type": "code",
   "execution_count": 150,
   "metadata": {
    "collapsed": false
   },
   "outputs": [],
   "source": [
    "ingredientTagsDF = pd.DataFrame(ingredientTags)"
   ]
  },
  {
   "cell_type": "code",
   "execution_count": 326,
   "metadata": {
    "collapsed": false
   },
   "outputs": [],
   "source": [
    "ingredientDF2 = ingredientDF[ingredientDF['recipeText'].str.contains(\"\\n|\\t\") == False]\n",
    "ingredientDF2 = ingredientDF2.reset_index(drop=True)"
   ]
  },
  {
   "cell_type": "code",
   "execution_count": 331,
   "metadata": {
    "collapsed": false
   },
   "outputs": [
    {
     "data": {
      "text/html": [
       "<div>\n",
       "<table border=\"1\" class=\"dataframe\">\n",
       "  <thead>\n",
       "    <tr style=\"text-align: right;\">\n",
       "      <th></th>\n",
       "      <th>recipeIndex</th>\n",
       "      <th>ingredientIndex</th>\n",
       "      <th>recipeText</th>\n",
       "    </tr>\n",
       "  </thead>\n",
       "  <tbody>\n",
       "    <tr>\n",
       "      <th>0</th>\n",
       "      <td>0</td>\n",
       "      <td>0</td>\n",
       "      <td>1 pound purple asparagus, washed, woody ends trimmed off, and cut into 2 inch pieces</td>\n",
       "    </tr>\n",
       "    <tr>\n",
       "      <th>1</th>\n",
       "      <td>0</td>\n",
       "      <td>1</td>\n",
       "      <td>2 teaspoons olive oil</td>\n",
       "    </tr>\n",
       "    <tr>\n",
       "      <th>2</th>\n",
       "      <td>0</td>\n",
       "      <td>2</td>\n",
       "      <td>Salt and pepper</td>\n",
       "    </tr>\n",
       "  </tbody>\n",
       "</table>\n",
       "</div>"
      ],
      "text/plain": [
       "   recipeIndex  ingredientIndex                                                                            recipeText\n",
       "0            0                0  1 pound purple asparagus, washed, woody ends trimmed off, and cut into 2 inch pieces\n",
       "1            0                1                                                                 2 teaspoons olive oil\n",
       "2            0                2                                                                       Salt and pepper"
      ]
     },
     "execution_count": 331,
     "metadata": {},
     "output_type": "execute_result"
    }
   ],
   "source": [
    "ingredientDF2.head(3)"
   ]
  },
  {
   "cell_type": "code",
   "execution_count": 332,
   "metadata": {
    "collapsed": false
   },
   "outputs": [
    {
     "data": {
      "text/html": [
       "<div>\n",
       "<table border=\"1\" class=\"dataframe\">\n",
       "  <thead>\n",
       "    <tr style=\"text-align: right;\">\n",
       "      <th></th>\n",
       "      <th>comment</th>\n",
       "      <th>display</th>\n",
       "      <th>input</th>\n",
       "      <th>name</th>\n",
       "      <th>other</th>\n",
       "      <th>qty</th>\n",
       "      <th>range_end</th>\n",
       "      <th>unit</th>\n",
       "    </tr>\n",
       "  </thead>\n",
       "  <tbody>\n",
       "    <tr>\n",
       "      <th>0</th>\n",
       "      <td>washed woody ends trimmed off and cut into 2 inch pieces</td>\n",
       "      <td>&lt;span class='qty'&gt;1&lt;/span&gt;&lt;span class='unit'&gt;pound&lt;/span&gt;&lt;span class='name'&gt;purple asparagus&lt;/span&gt;&lt;span class='other'&gt;,&lt;/span&gt;&lt;span class='comment'&gt;washed&lt;/span&gt;&lt;span class='other'&gt;,&lt;/span&gt;&lt;span class='comment'&gt;woody ends trimmed off&lt;/span&gt;&lt;span class='other'&gt;,&lt;/span&gt;&lt;span class='comment'&gt;and cut into 2 inch pieces&lt;/span&gt;</td>\n",
       "      <td>1 pound purple asparagus, washed, woody ends trimmed off, and cut into 2 inch pieces</td>\n",
       "      <td>purple asparagus</td>\n",
       "      <td>,, ,</td>\n",
       "      <td>1</td>\n",
       "      <td>NaN</td>\n",
       "      <td>pound</td>\n",
       "    </tr>\n",
       "    <tr>\n",
       "      <th>1</th>\n",
       "      <td>NaN</td>\n",
       "      <td>&lt;span class='qty'&gt;2&lt;/span&gt;&lt;span class='unit'&gt;teaspoons&lt;/span&gt;&lt;span class='name'&gt;olive oil&lt;/span&gt;</td>\n",
       "      <td>2 teaspoons olive oil</td>\n",
       "      <td>olive oil</td>\n",
       "      <td>NaN</td>\n",
       "      <td>2</td>\n",
       "      <td>NaN</td>\n",
       "      <td>teaspoon</td>\n",
       "    </tr>\n",
       "    <tr>\n",
       "      <th>2</th>\n",
       "      <td>NaN</td>\n",
       "      <td>&lt;span class='name'&gt;Salt and pepper&lt;/span&gt;</td>\n",
       "      <td>Salt and pepper</td>\n",
       "      <td>Salt and pepper</td>\n",
       "      <td>NaN</td>\n",
       "      <td>NaN</td>\n",
       "      <td>NaN</td>\n",
       "      <td>NaN</td>\n",
       "    </tr>\n",
       "  </tbody>\n",
       "</table>\n",
       "</div>"
      ],
      "text/plain": [
       "                                                    comment                                                                                                                                                                                                                                                                                                                               display                                                                                 input              name other  qty range_end      unit\n",
       "0  washed woody ends trimmed off and cut into 2 inch pieces  <span class='qty'>1</span><span class='unit'>pound</span><span class='name'>purple asparagus</span><span class='other'>,</span><span class='comment'>washed</span><span class='other'>,</span><span class='comment'>woody ends trimmed off</span><span class='other'>,</span><span class='comment'>and cut into 2 inch pieces</span>  1 pound purple asparagus, washed, woody ends trimmed off, and cut into 2 inch pieces  purple asparagus  ,, ,    1       NaN     pound\n",
       "1                                                       NaN                                                                                                                                                                                                                                      <span class='qty'>2</span><span class='unit'>teaspoons</span><span class='name'>olive oil</span>                                                                 2 teaspoons olive oil         olive oil   NaN    2       NaN  teaspoon\n",
       "2                                                       NaN                                                                                                                                                                                                                                                                                             <span class='name'>Salt and pepper</span>                                                                       Salt and pepper   Salt and pepper   NaN  NaN       NaN       NaN"
      ]
     },
     "execution_count": 332,
     "metadata": {},
     "output_type": "execute_result"
    }
   ],
   "source": [
    "ingredientTagsDF.head(3)"
   ]
  },
  {
   "cell_type": "code",
   "execution_count": 336,
   "metadata": {
    "collapsed": false
   },
   "outputs": [],
   "source": [
    "recipeTaggedDF = pd.concat([ingredientDF2,ingredientTagsDF], axis = 1)"
   ]
  },
  {
   "cell_type": "code",
   "execution_count": 337,
   "metadata": {
    "collapsed": false
   },
   "outputs": [
    {
     "data": {
      "text/html": [
       "<div>\n",
       "<table border=\"1\" class=\"dataframe\">\n",
       "  <thead>\n",
       "    <tr style=\"text-align: right;\">\n",
       "      <th></th>\n",
       "      <th>recipeIndex</th>\n",
       "      <th>ingredientIndex</th>\n",
       "      <th>recipeText</th>\n",
       "      <th>comment</th>\n",
       "      <th>display</th>\n",
       "      <th>input</th>\n",
       "      <th>name</th>\n",
       "      <th>other</th>\n",
       "      <th>qty</th>\n",
       "      <th>range_end</th>\n",
       "      <th>unit</th>\n",
       "    </tr>\n",
       "  </thead>\n",
       "  <tbody>\n",
       "    <tr>\n",
       "      <th>0</th>\n",
       "      <td>0</td>\n",
       "      <td>0</td>\n",
       "      <td>1 pound purple asparagus, washed, woody ends trimmed off, and cut into 2 inch pieces</td>\n",
       "      <td>washed woody ends trimmed off and cut into 2 inch pieces</td>\n",
       "      <td>&lt;span class='qty'&gt;1&lt;/span&gt;&lt;span class='unit'&gt;pound&lt;/span&gt;&lt;span class='name'&gt;purple asparagus&lt;/span&gt;&lt;span class='other'&gt;,&lt;/span&gt;&lt;span class='comment'&gt;washed&lt;/span&gt;&lt;span class='other'&gt;,&lt;/span&gt;&lt;span class='comment'&gt;woody ends trimmed off&lt;/span&gt;&lt;span class='other'&gt;,&lt;/span&gt;&lt;span class='comment'&gt;and cut into 2 inch pieces&lt;/span&gt;</td>\n",
       "      <td>1 pound purple asparagus, washed, woody ends trimmed off, and cut into 2 inch pieces</td>\n",
       "      <td>purple asparagus</td>\n",
       "      <td>,, ,</td>\n",
       "      <td>1</td>\n",
       "      <td>NaN</td>\n",
       "      <td>pound</td>\n",
       "    </tr>\n",
       "    <tr>\n",
       "      <th>1</th>\n",
       "      <td>0</td>\n",
       "      <td>1</td>\n",
       "      <td>2 teaspoons olive oil</td>\n",
       "      <td>NaN</td>\n",
       "      <td>&lt;span class='qty'&gt;2&lt;/span&gt;&lt;span class='unit'&gt;teaspoons&lt;/span&gt;&lt;span class='name'&gt;olive oil&lt;/span&gt;</td>\n",
       "      <td>2 teaspoons olive oil</td>\n",
       "      <td>olive oil</td>\n",
       "      <td>NaN</td>\n",
       "      <td>2</td>\n",
       "      <td>NaN</td>\n",
       "      <td>teaspoon</td>\n",
       "    </tr>\n",
       "    <tr>\n",
       "      <th>2</th>\n",
       "      <td>0</td>\n",
       "      <td>2</td>\n",
       "      <td>Salt and pepper</td>\n",
       "      <td>NaN</td>\n",
       "      <td>&lt;span class='name'&gt;Salt and pepper&lt;/span&gt;</td>\n",
       "      <td>Salt and pepper</td>\n",
       "      <td>Salt and pepper</td>\n",
       "      <td>NaN</td>\n",
       "      <td>NaN</td>\n",
       "      <td>NaN</td>\n",
       "      <td>NaN</td>\n",
       "    </tr>\n",
       "  </tbody>\n",
       "</table>\n",
       "</div>"
      ],
      "text/plain": [
       "   recipeIndex  ingredientIndex                                                                            recipeText                                                   comment                                                                                                                                                                                                                                                                                                                               display                                                                                 input              name other  qty range_end      unit\n",
       "0            0                0  1 pound purple asparagus, washed, woody ends trimmed off, and cut into 2 inch pieces  washed woody ends trimmed off and cut into 2 inch pieces  <span class='qty'>1</span><span class='unit'>pound</span><span class='name'>purple asparagus</span><span class='other'>,</span><span class='comment'>washed</span><span class='other'>,</span><span class='comment'>woody ends trimmed off</span><span class='other'>,</span><span class='comment'>and cut into 2 inch pieces</span>  1 pound purple asparagus, washed, woody ends trimmed off, and cut into 2 inch pieces  purple asparagus  ,, ,    1       NaN     pound\n",
       "1            0                1                                                                 2 teaspoons olive oil                                                       NaN                                                                                                                                                                                                                                      <span class='qty'>2</span><span class='unit'>teaspoons</span><span class='name'>olive oil</span>                                                                 2 teaspoons olive oil         olive oil   NaN    2       NaN  teaspoon\n",
       "2            0                2                                                                       Salt and pepper                                                       NaN                                                                                                                                                                                                                                                                                             <span class='name'>Salt and pepper</span>                                                                       Salt and pepper   Salt and pepper   NaN  NaN       NaN       NaN"
      ]
     },
     "execution_count": 337,
     "metadata": {},
     "output_type": "execute_result"
    }
   ],
   "source": [
    "recipeTaggedDF.head(3)"
   ]
  },
  {
   "cell_type": "markdown",
   "metadata": {},
   "source": [
    "## create Ingredient Documents / Strings"
   ]
  },
  {
   "cell_type": "code",
   "execution_count": null,
   "metadata": {
    "collapsed": true
   },
   "outputs": [],
   "source": []
  }
 ],
 "metadata": {
  "kernelspec": {
   "display_name": "Python 2",
   "language": "python",
   "name": "python2"
  },
  "language_info": {
   "codemirror_mode": {
    "name": "ipython",
    "version": 2
   },
   "file_extension": ".py",
   "mimetype": "text/x-python",
   "name": "python",
   "nbconvert_exporter": "python",
   "pygments_lexer": "ipython2",
   "version": "2.7.11"
  }
 },
 "nbformat": 4,
 "nbformat_minor": 0
}
