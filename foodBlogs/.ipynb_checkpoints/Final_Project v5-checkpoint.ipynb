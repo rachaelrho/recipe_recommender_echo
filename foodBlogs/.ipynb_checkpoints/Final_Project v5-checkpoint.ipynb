{
 "cells": [
  {
   "cell_type": "code",
   "execution_count": 187,
   "metadata": {
    "collapsed": false
   },
   "outputs": [],
   "source": [
    "import pandas as pd\n",
    "import numpy as np\n",
    "import json\n",
    "\n",
    "#html parsing\n",
    "import urllib2\n",
    "from lxml import etree\n",
    "\n",
    "##text pre-processing\n",
    "import nltk\n",
    "from nltk.tokenize import word_tokenize\n",
    "from nltk.tokenize import RegexpTokenizer\n",
    "from nltk.stem.porter import PorterStemmer\n",
    "from nltk.stem import WordNetLemmatizer\n",
    "from nltk.corpus import stopwords\n",
    "from nltk import FreqDist\n",
    "\n",
    "import sklearn\n",
    "from sklearn.feature_extraction.text import TfidfVectorizer\n",
    "from sklearn.utils.extmath import randomized_svd\n",
    "from sklearn.decomposition import NMF\n",
    "from sklearn.metrics.pairwise import cosine_similarity  "
   ]
  },
  {
   "cell_type": "markdown",
   "metadata": {},
   "source": [
    "## Concatenate json files and create dataframe"
   ]
  },
  {
   "cell_type": "code",
   "execution_count": 2,
   "metadata": {
    "collapsed": true
   },
   "outputs": [],
   "source": [
    "def concatJson(file_list):\n",
    "    full = []\n",
    "    with open(\"allRecipes.json\", \"w\") as outfile:\n",
    "        for f in file_list:\n",
    "            with open(f, 'rb') as infile:\n",
    "                file_data = json.load(infile)\n",
    "                full += file_data\n",
    "        json.dump(full, outfile)"
   ]
  },
  {
   "cell_type": "code",
   "execution_count": 12,
   "metadata": {
    "collapsed": false
   },
   "outputs": [],
   "source": [
    "def openJson(name):\n",
    "    with open(name, 'rb') as infile:\n",
    "        full = json.load(infile)\n",
    "    return full"
   ]
  },
  {
   "cell_type": "code",
   "execution_count": 28,
   "metadata": {
    "collapsed": true
   },
   "outputs": [],
   "source": [
    "file_list = [\"fullhelping_items.json\", \"iLoveVegan_items.json\",\"MinimalistBaker_items.json\", \"ohsheglows_items.json\",\n",
    "             \"PaleOMG_items.json\",\"roastedRoot_items.json\",\"ohmyveggies_items.json\",]"
   ]
  },
  {
   "cell_type": "code",
   "execution_count": 29,
   "metadata": {
    "collapsed": false
   },
   "outputs": [],
   "source": [
    "concatJson(file_list)\n",
    "full = openJson('allRecipes.json')"
   ]
  },
  {
   "cell_type": "code",
   "execution_count": 31,
   "metadata": {
    "collapsed": false
   },
   "outputs": [],
   "source": [
    "fullDF = pd.DataFrame(full)\n",
    "fullDF1 = fullDF[(fullDF.ingredientsList.str.len() != 0)]\n",
    "recipeDF = fullDF1.reset_index(drop=True)"
   ]
  },
  {
   "cell_type": "code",
   "execution_count": 33,
   "metadata": {
    "collapsed": true
   },
   "outputs": [],
   "source": [
    "recipeDF.to_pickle('recipeDF_v3')"
   ]
  },
  {
   "cell_type": "code",
   "execution_count": 4,
   "metadata": {
    "collapsed": false
   },
   "outputs": [],
   "source": [
    "recipeDF = pd.read_pickle('recipeDF_v3')"
   ]
  },
  {
   "cell_type": "code",
   "execution_count": 8,
   "metadata": {
    "collapsed": false,
    "scrolled": false
   },
   "outputs": [
    {
     "data": {
      "text/html": [
       "<div>\n",
       "<table border=\"1\" class=\"dataframe\">\n",
       "  <thead>\n",
       "    <tr style=\"text-align: right;\">\n",
       "      <th></th>\n",
       "      <th>category</th>\n",
       "      <th>ingredientsList</th>\n",
       "      <th>instructions</th>\n",
       "      <th>summary</th>\n",
       "      <th>title</th>\n",
       "      <th>url</th>\n",
       "    </tr>\n",
       "  </thead>\n",
       "  <tbody>\n",
       "    <tr>\n",
       "      <th>2432</th>\n",
       "      <td>[]</td>\n",
       "      <td>[Eggplant bacon:, 1/4 cup soy sauce, 1/4 cup a...</td>\n",
       "      <td>[Make the eggplant bacon:, In a medium bowl, s...</td>\n",
       "      <td>[]</td>\n",
       "      <td>[]</td>\n",
       "      <td>http://ohmyveggies.com/the-best-vegan-blt-with...</td>\n",
       "    </tr>\n",
       "    <tr>\n",
       "      <th>2433</th>\n",
       "      <td>[]</td>\n",
       "      <td>[8 oz. tempeh, cut into thin strips, 3/4 c. ba...</td>\n",
       "      <td>[Spread 1/4 cup of barbecue sauce on the botto...</td>\n",
       "      <td>[]</td>\n",
       "      <td>[]</td>\n",
       "      <td>http://ohmyveggies.com/recipe-bbq-tempeh-sandw...</td>\n",
       "    </tr>\n",
       "    <tr>\n",
       "      <th>2434</th>\n",
       "      <td>[]</td>\n",
       "      <td>[4 red bell peppers, 2 tablespoons safflower s...</td>\n",
       "      <td>[Preheat oven to 350ºF., Bring a large pot of ...</td>\n",
       "      <td>[]</td>\n",
       "      <td>[]</td>\n",
       "      <td>http://ohmyveggies.com/thai-stuffed-peppers/</td>\n",
       "    </tr>\n",
       "  </tbody>\n",
       "</table>\n",
       "</div>"
      ],
      "text/plain": [
       "     category                                    ingredientsList  \\\n",
       "2432       []  [Eggplant bacon:, 1/4 cup soy sauce, 1/4 cup a...   \n",
       "2433       []  [8 oz. tempeh, cut into thin strips, 3/4 c. ba...   \n",
       "2434       []  [4 red bell peppers, 2 tablespoons safflower s...   \n",
       "\n",
       "                                           instructions summary title  \\\n",
       "2432  [Make the eggplant bacon:, In a medium bowl, s...      []    []   \n",
       "2433  [Spread 1/4 cup of barbecue sauce on the botto...      []    []   \n",
       "2434  [Preheat oven to 350ºF., Bring a large pot of ...      []    []   \n",
       "\n",
       "                                                    url  \n",
       "2432  http://ohmyveggies.com/the-best-vegan-blt-with...  \n",
       "2433  http://ohmyveggies.com/recipe-bbq-tempeh-sandw...  \n",
       "2434       http://ohmyveggies.com/thai-stuffed-peppers/  "
      ]
     },
     "execution_count": 8,
     "metadata": {},
     "output_type": "execute_result"
    }
   ],
   "source": [
    "recipeDF.tail(3)"
   ]
  },
  {
   "cell_type": "markdown",
   "metadata": {},
   "source": [
    "##Write ingredients to file format for NYT ingredient tagger"
   ]
  },
  {
   "cell_type": "code",
   "execution_count": 2,
   "metadata": {
    "collapsed": true
   },
   "outputs": [],
   "source": [
    "def nytIngredientInput(df):\n",
    "    f = open(\"input.txt\", \"a\")\n",
    "    ingredientList = []\n",
    "    for row in range(0,len(df)):\n",
    "        ingredients = df.ingredientsList.iloc[row]\n",
    "        for i in range(0,len(ingredients)):\n",
    "            line = ingredients[i].encode('ascii','ignore')\n",
    "            ingredientList.append([row,i,line])\n",
    "            f.write(line + ' /' + str(row) + ' ' + '\\n')\n",
    "    f.close()   \n",
    "    return ingredientList"
   ]
  },
  {
   "cell_type": "code",
   "execution_count": 5,
   "metadata": {
    "collapsed": false
   },
   "outputs": [],
   "source": [
    "ingredientList = nytIngredientInput(recipeDF)"
   ]
  },
  {
   "cell_type": "code",
   "execution_count": 6,
   "metadata": {
    "collapsed": true
   },
   "outputs": [],
   "source": [
    "ingredientDF = pd.DataFrame(ingredientList, columns=['recipeIndex','ingredientIndex','recipeText'])"
   ]
  },
  {
   "cell_type": "code",
   "execution_count": 7,
   "metadata": {
    "collapsed": true
   },
   "outputs": [],
   "source": [
    "recipeDF.to_pickle('ingredientDF_v1')"
   ]
  },
  {
   "cell_type": "code",
   "execution_count": 3,
   "metadata": {
    "collapsed": false
   },
   "outputs": [],
   "source": [
    "recipeDF = pd.read_pickle('ingredientDF_v1')"
   ]
  },
  {
   "cell_type": "code",
   "execution_count": 9,
   "metadata": {
    "collapsed": false
   },
   "outputs": [
    {
     "data": {
      "text/html": [
       "<div>\n",
       "<table border=\"1\" class=\"dataframe\">\n",
       "  <thead>\n",
       "    <tr style=\"text-align: right;\">\n",
       "      <th></th>\n",
       "      <th>recipeIndex</th>\n",
       "      <th>ingredientIndex</th>\n",
       "      <th>recipeText</th>\n",
       "    </tr>\n",
       "  </thead>\n",
       "  <tbody>\n",
       "    <tr>\n",
       "      <th>1534</th>\n",
       "      <td>120</td>\n",
       "      <td>15</td>\n",
       "      <td>or</td>\n",
       "    </tr>\n",
       "  </tbody>\n",
       "</table>\n",
       "</div>"
      ],
      "text/plain": [
       "      recipeIndex  ingredientIndex recipeText\n",
       "1534          120               15        or "
      ]
     },
     "execution_count": 9,
     "metadata": {},
     "output_type": "execute_result"
    }
   ],
   "source": [
    "ingredientDF[1534:1535]"
   ]
  },
  {
   "cell_type": "code",
   "execution_count": 10,
   "metadata": {
    "collapsed": false
   },
   "outputs": [
    {
     "data": {
      "text/plain": [
       "29753"
      ]
     },
     "execution_count": 10,
     "metadata": {},
     "output_type": "execute_result"
    }
   ],
   "source": [
    "len(ingredientDF)"
   ]
  },
  {
   "cell_type": "markdown",
   "metadata": {},
   "source": [
    "## Merge NYT ingredient tags with ingredientDF\n",
    "<p>(see NYT_CRF_IngredientPhraseTagger.txt for tags) </p>"
   ]
  },
  {
   "cell_type": "code",
   "execution_count": 13,
   "metadata": {
    "collapsed": false
   },
   "outputs": [],
   "source": [
    "ingredientTags = openJson('results_6-21.json')\n",
    "ingredientTagsDF = pd.DataFrame(ingredientTags)\n",
    "ingredientTagsDF.to_pickle('ingredientTagsDF')"
   ]
  },
  {
   "cell_type": "code",
   "execution_count": 15,
   "metadata": {
    "collapsed": false
   },
   "outputs": [],
   "source": [
    "ingredientTaggedDF = pd.concat([ingredientDF,ingredientTagsDF], axis = 1)"
   ]
  },
  {
   "cell_type": "code",
   "execution_count": 24,
   "metadata": {
    "collapsed": false
   },
   "outputs": [],
   "source": [
    "def mergedIndex(df):\n",
    "\n",
    "    df['mergedrecipeIndex'] = 'NA'\n",
    "\n",
    "    for i in range(0,len(df)): \n",
    "        try:\n",
    "            text = str(df.name.loc[i])\n",
    "            df.name.loc[i] = text.rsplit(' ', 1)[0]\n",
    "            df.mergedrecipeIndex.loc[i] = int(text.rsplit(' ', 1)[1])\n",
    "        except:\n",
    "            pass        "
   ]
  },
  {
   "cell_type": "code",
   "execution_count": null,
   "metadata": {
    "collapsed": true
   },
   "outputs": [],
   "source": [
    "ingredientTaggedDF = mergedIndex(ingredientTaggedDF)"
   ]
  },
  {
   "cell_type": "code",
   "execution_count": 17,
   "metadata": {
    "collapsed": true
   },
   "outputs": [],
   "source": [
    "ingredientTaggedDF.to_pickle('ingredientTaggedDF_v4')"
   ]
  },
  {
   "cell_type": "code",
   "execution_count": 4,
   "metadata": {
    "collapsed": true
   },
   "outputs": [],
   "source": [
    "ingredientTaggedDF = pd.read_pickle('/home/rachaelrho/ds/metis/final_project/foodBlogs/ingredientTaggedDF_v3')"
   ]
  },
  {
   "cell_type": "markdown",
   "metadata": {},
   "source": [
    "## Create Ingredient Documents"
   ]
  },
  {
   "cell_type": "code",
   "execution_count": 158,
   "metadata": {
    "collapsed": true
   },
   "outputs": [],
   "source": [
    "ingredientTaggedDF['name'] = ingredientTaggedDF['name'].astype(str)"
   ]
  },
  {
   "cell_type": "code",
   "execution_count": 159,
   "metadata": {
    "collapsed": true
   },
   "outputs": [],
   "source": [
    "def ingredientTokens(df,taggeddf):\n",
    "    df['ingredientTokens'] = 0\n",
    "    for i in range(0,len(taggeddf.recipeIndex.unique())):\n",
    "        ingredients = taggeddf.name[taggeddf.recipeIndex == i]\n",
    "        df['ingredientTokens'][i] = str(' '.join(ingredients))  \n",
    "    df['ingredientTokens'] = df['ingredientTokens'].astype(str)\n",
    "    \n",
    "    return df"
   ]
  },
  {
   "cell_type": "code",
   "execution_count": 46,
   "metadata": {
    "collapsed": true
   },
   "outputs": [],
   "source": [
    "def nlpTokens(document):\n",
    "    tokenizer = RegexpTokenizer(r'\\w+')\n",
    "    tokens = tokenizer.tokenize(document)\n",
    "    \n",
    "    tokens = [PorterStemmer().stem(x) for x in tokens]\n",
    "    tokens = [WordNetLemmatizer().lemmatize(x, 'v') for x in tokens]\n",
    "    \n",
    "    stop = stopwords.words('english')\n",
    "    tokens = [x for x in tokens if x not in stop] \n",
    "    return ','.join(tokens)"
   ]
  },
  {
   "cell_type": "code",
   "execution_count": 167,
   "metadata": {
    "collapsed": false
   },
   "outputs": [
    {
     "name": "stderr",
     "output_type": "stream",
     "text": [
      "/home/rachaelrho/anaconda/lib/python2.7/site-packages/IPython/kernel/__main__.py:5: SettingWithCopyWarning: \n",
      "A value is trying to be set on a copy of a slice from a DataFrame\n",
      "\n",
      "See the caveats in the documentation: http://pandas.pydata.org/pandas-docs/stable/indexing.html#indexing-view-versus-copy\n"
     ]
    }
   ],
   "source": [
    "recipeDF = ingredientTokens(recipeDF,ingredientTaggedDF)\n",
    "recipeDF.loc[:, 'ingredientTokens'] = recipeDF.loc[:, 'ingredientTokens'].apply(nlpTokens)"
   ]
  },
  {
   "cell_type": "code",
   "execution_count": 170,
   "metadata": {
    "collapsed": true
   },
   "outputs": [],
   "source": [
    "recipeDF.to_pickle('recipeDF_tokens_v3')"
   ]
  },
  {
   "cell_type": "code",
   "execution_count": 5,
   "metadata": {
    "collapsed": true
   },
   "outputs": [],
   "source": [
    "recipeDF = pd.read_pickle('recipeDF_tokens_v3')"
   ]
  },
  {
   "cell_type": "markdown",
   "metadata": {},
   "source": [
    "## TFIDF vectorizer"
   ]
  },
  {
   "cell_type": "code",
   "execution_count": 6,
   "metadata": {
    "collapsed": false
   },
   "outputs": [],
   "source": [
    "def tfidfVectorizer(stopList,df):\n",
    "    \n",
    "    tfidf_vectorizer = TfidfVectorizer(max_df=.2, max_features=1300, min_df=0.01, stop_words= stopList, use_idf=True, ngram_range=(1,3))\n",
    "    tfidf_matrix = tfidf_vectorizer.fit_transform(df.ingredientTokens)\n",
    "    terms = sorted([(i,v) for v,i in tfidf_vectorizer.vocabulary_.items()])\n",
    "    vocab = [x[1] for x in terms]\n",
    "    \n",
    "    return tfidf_vectorizer,tfidf_matrix,terms,vocab"
   ]
  },
  {
   "cell_type": "code",
   "execution_count": 7,
   "metadata": {
    "collapsed": false
   },
   "outputs": [],
   "source": [
    "tfidf_vectorizer,tfidf_matrix,terms,vocab = tfidfVectorizer(['nan','tbsp','tsp',','],recipeDF)"
   ]
  },
  {
   "cell_type": "markdown",
   "metadata": {},
   "source": [
    "##Non-Negative Matrix Factorization"
   ]
  },
  {
   "cell_type": "code",
   "execution_count": 8,
   "metadata": {
    "collapsed": false
   },
   "outputs": [],
   "source": [
    "U, Sigma, VT = randomized_svd(tfidf_matrix, n_components=25,\n",
    "                                      n_iter=5,\n",
    "                                      random_state=None)"
   ]
  },
  {
   "cell_type": "code",
   "execution_count": 9,
   "metadata": {
    "collapsed": false
   },
   "outputs": [
    {
     "data": {
      "text/plain": [
       "array([ 11.70401137,   9.22868088,   6.49565647,   6.27837486,\n",
       "         6.09858484,   5.69471553,   5.6495889 ,   5.48005114,\n",
       "         5.38532986,   5.31662413,   5.19239357,   5.03113223,\n",
       "         4.98280373,   4.91815987,   4.85493618,   4.67701469,\n",
       "         4.64942793,   4.61276374,   4.50970307,   4.41528737,\n",
       "         4.39363677,   4.30951498,   4.23886397,   4.20516999,   4.14052437])"
      ]
     },
     "execution_count": 9,
     "metadata": {},
     "output_type": "execute_result"
    }
   ],
   "source": [
    "Sigma"
   ]
  },
  {
   "cell_type": "code",
   "execution_count": 29,
   "metadata": {
    "collapsed": true
   },
   "outputs": [],
   "source": [
    "def NMFactorize(tfidf_matrix,n):\n",
    "    NMFmodel = NMF(n_components=n, init='random', random_state=0)\n",
    "    NMF_matrix = NMFmodel.fit_transform(tfidf_matrix)\n",
    "    \n",
    "    return NMFmodel,NMF_matrix"
   ]
  },
  {
   "cell_type": "code",
   "execution_count": 30,
   "metadata": {
    "collapsed": false
   },
   "outputs": [],
   "source": [
    "NMFmodel,NMF_matrix = NMFactorize(tfidf_matrix,15)"
   ]
  },
  {
   "cell_type": "markdown",
   "metadata": {},
   "source": [
    "## Most frequent terms (across documents)"
   ]
  },
  {
   "cell_type": "code",
   "execution_count": 31,
   "metadata": {
    "collapsed": true
   },
   "outputs": [],
   "source": [
    "NMFmodelred,NMF_matrixred = NMFactorize(tfidf_matrix,4)"
   ]
  },
  {
   "cell_type": "code",
   "execution_count": 32,
   "metadata": {
    "collapsed": false
   },
   "outputs": [],
   "source": [
    "def NMFgroup(matrix):\n",
    "    \n",
    "    groupList = []\n",
    "\n",
    "    for i in range(0,len(matrix)):\n",
    "        row = list(matrix[i])\n",
    "        group = row.index(max(row)) \n",
    "        groupList.append(group)\n",
    "        \n",
    "    return groupList"
   ]
  },
  {
   "cell_type": "code",
   "execution_count": 33,
   "metadata": {
    "collapsed": false
   },
   "outputs": [],
   "source": [
    "groupList = NMFgroup(NMF_matrixred)\n",
    "recipeDF['groupReduced'] = groupList"
   ]
  },
  {
   "cell_type": "code",
   "execution_count": 34,
   "metadata": {
    "collapsed": false
   },
   "outputs": [
    {
     "data": {
      "text/html": [
       "<div>\n",
       "<table border=\"1\" class=\"dataframe\">\n",
       "  <thead>\n",
       "    <tr style=\"text-align: right;\">\n",
       "      <th></th>\n",
       "      <th>category</th>\n",
       "      <th>ingredientsList</th>\n",
       "      <th>instructions</th>\n",
       "      <th>summary</th>\n",
       "      <th>title</th>\n",
       "      <th>url</th>\n",
       "      <th>ingredientTokens</th>\n",
       "      <th>group</th>\n",
       "      <th>groupReduced</th>\n",
       "    </tr>\n",
       "  </thead>\n",
       "  <tbody>\n",
       "    <tr>\n",
       "      <th>0</th>\n",
       "      <td>[]</td>\n",
       "      <td>[1 heaping cup fresh blueberries, ¼ cup olive ...</td>\n",
       "      <td>[Place all ingredients in a high speed blender...</td>\n",
       "      <td>[]</td>\n",
       "      <td>[Blueberry Chia Salad Dressing]</td>\n",
       "      <td>http://www.thefullhelping.com/blueberry-chia-s...</td>\n",
       "      <td>blueberri,oliv,oil,tablepsoon,appl,cider,vineg...</td>\n",
       "      <td>10</td>\n",
       "      <td>2</td>\n",
       "    </tr>\n",
       "    <tr>\n",
       "      <th>1</th>\n",
       "      <td>[soup]</td>\n",
       "      <td>[1 medium (3-4 lb) kabocha squash, opened, see...</td>\n",
       "      <td>[Preheat your oven to 400F. Spread the kabocha...</td>\n",
       "      <td>[]</td>\n",
       "      <td>[Roasted Kabocha Squash, Pear, and Ginger Soup]</td>\n",
       "      <td>http://www.thefullhelping.com/roasted-kabocha-...</td>\n",
       "      <td>kabocha,pear,onion,safflow,oil,salt,pepper,gin...</td>\n",
       "      <td>13</td>\n",
       "      <td>2</td>\n",
       "    </tr>\n",
       "    <tr>\n",
       "      <th>2</th>\n",
       "      <td>[]</td>\n",
       "      <td>[2 cups new potatoes or fingerling potatoes, q...</td>\n",
       "      <td>[1. Preheat oven to 400. Toss the potatoes in ...</td>\n",
       "      <td>[]</td>\n",
       "      <td>[Vegan Tuna-Less Nicoise]</td>\n",
       "      <td>http://www.thefullhelping.com/vegan-tuna-less-...</td>\n",
       "      <td>potato,oliv,oil,rosemari,salt,bean,cherri,mix,...</td>\n",
       "      <td>0</td>\n",
       "      <td>3</td>\n",
       "    </tr>\n",
       "  </tbody>\n",
       "</table>\n",
       "</div>"
      ],
      "text/plain": [
       "  category                                    ingredientsList  \\\n",
       "0       []  [1 heaping cup fresh blueberries, ¼ cup olive ...   \n",
       "1   [soup]  [1 medium (3-4 lb) kabocha squash, opened, see...   \n",
       "2       []  [2 cups new potatoes or fingerling potatoes, q...   \n",
       "\n",
       "                                        instructions summary  \\\n",
       "0  [Place all ingredients in a high speed blender...      []   \n",
       "1  [Preheat your oven to 400F. Spread the kabocha...      []   \n",
       "2  [1. Preheat oven to 400. Toss the potatoes in ...      []   \n",
       "\n",
       "                                             title  \\\n",
       "0                  [Blueberry Chia Salad Dressing]   \n",
       "1  [Roasted Kabocha Squash, Pear, and Ginger Soup]   \n",
       "2                        [Vegan Tuna-Less Nicoise]   \n",
       "\n",
       "                                                 url  \\\n",
       "0  http://www.thefullhelping.com/blueberry-chia-s...   \n",
       "1  http://www.thefullhelping.com/roasted-kabocha-...   \n",
       "2  http://www.thefullhelping.com/vegan-tuna-less-...   \n",
       "\n",
       "                                    ingredientTokens  group  groupReduced  \n",
       "0  blueberri,oliv,oil,tablepsoon,appl,cider,vineg...     10             2  \n",
       "1  kabocha,pear,onion,safflow,oil,salt,pepper,gin...     13             2  \n",
       "2  potato,oliv,oil,rosemari,salt,bean,cherri,mix,...      0             3  "
      ]
     },
     "execution_count": 34,
     "metadata": {},
     "output_type": "execute_result"
    }
   ],
   "source": [
    "recipeDF.head(3)"
   ]
  },
  {
   "cell_type": "code",
   "execution_count": 35,
   "metadata": {
    "collapsed": false
   },
   "outputs": [],
   "source": [
    "def mostCommonTerms(recipeDF):\n",
    "\n",
    "    mostCommon = []\n",
    "\n",
    "    for i in list(set(groupList)):\n",
    "        df = recipeDF.ingredientTokens[recipeDF.groupReduced == i]\n",
    "        corpus = str(' '.join(df))\n",
    "        tokens = nltk.word_tokenize(corpus)\n",
    "        fdist = FreqDist(tokens)\n",
    "        comm = fdist.most_common(100)\n",
    "        mostCommon.append([i,comm])\n",
    "\n",
    "    return mostCommon"
   ]
  },
  {
   "cell_type": "code",
   "execution_count": 36,
   "metadata": {
    "collapsed": false
   },
   "outputs": [],
   "source": [
    "mostCommon = mostCommonTerms(recipeDF)"
   ]
  },
  {
   "cell_type": "code",
   "execution_count": 41,
   "metadata": {
    "collapsed": false
   },
   "outputs": [
    {
     "data": {
      "text/plain": [
       "[0,\n",
       " [(',', 7263),\n",
       "  ('bake', 382),\n",
       "  ('coconut', 342),\n",
       "  ('salt', 335),\n",
       "  ('vanilla', 286),\n",
       "  ('flour', 277),\n",
       "  ('nan', 271),\n",
       "  ('sugar', 268),\n",
       "  ('powder', 261),\n",
       "  ('extract', 232),\n",
       "  ('Tbsp', 187),\n",
       "  ('egg', 183),\n",
       "  ('tsp', 179),\n",
       "  ('soda', 178),\n",
       "  ('cinnamon', 168),\n",
       "  ('almond', 150),\n",
       "  ('milk', 124),\n",
       "  ('brown', 101),\n",
       "  ('oil', 101),\n",
       "  ('butter', 99),\n",
       "  ('chocol', 78),\n",
       "  ('c', 75),\n",
       "  ('pumpkin', 73),\n",
       "  ('sea', 72),\n",
       "  ('mapl', 68),\n",
       "  ('wheat', 66),\n",
       "  ('honey', 61),\n",
       "  ('purpos', 59),\n",
       "  ('cocoa', 55),\n",
       "  ('oat', 54),\n",
       "  ('water', 53),\n",
       "  ('banana', 48),\n",
       "  ('syrup', 45),\n",
       "  ('pastri', 39),\n",
       "  ('ginger', 39),\n",
       "  ('appl', 37),\n",
       "  ('walnut', 36),\n",
       "  ('For', 36),\n",
       "  ('pure', 35),\n",
       "  ('lemon', 35),\n",
       "  ('meal', 34),\n",
       "  ('juic', 33),\n",
       "  ('cane', 32),\n",
       "  ('seed', 29),\n",
       "  ('vegan', 28),\n",
       "  ('flax', 28),\n",
       "  ('unsalt', 28),\n",
       "  ('cream', 27),\n",
       "  ('orang', 26),\n",
       "  ('nutmeg', 26),\n",
       "  ('pie', 25),\n",
       "  ('chip', 24),\n",
       "  ('tbsp', 24),\n",
       "  ('rice', 24),\n",
       "  ('whole', 22),\n",
       "  ('white', 21),\n",
       "  ('spice', 21),\n",
       "  ('strawberri', 21),\n",
       "  ('oliv', 20),\n",
       "  ('free', 19),\n",
       "  ('dairi', 18),\n",
       "  ('cider', 17),\n",
       "  ('garlic', 17),\n",
       "  ('molass', 16),\n",
       "  ('chees', 16),\n",
       "  ('vinegar', 15),\n",
       "  ('pecan', 15),\n",
       "  ('fat', 15),\n",
       "  ('Chocol', 15),\n",
       "  ('agav', 14),\n",
       "  ('oz', 14),\n",
       "  ('soy', 14),\n",
       "  ('canola', 13),\n",
       "  ('sweet', 13),\n",
       "  ('cherri', 13),\n",
       "  ('cranberri', 13),\n",
       "  ('blueberri', 13),\n",
       "  ('peanut', 12),\n",
       "  ('carrot', 12),\n",
       "  ('raisin', 12),\n",
       "  ('non', 12),\n",
       "  ('Life', 12),\n",
       "  ('gluten', 12),\n",
       "  ('potato', 12),\n",
       "  ('mash', 12),\n",
       "  ('date', 11),\n",
       "  ('light', 11),\n",
       "  ('g', 11),\n",
       "  ('raw', 11),\n",
       "  ('applesauc', 11),\n",
       "  ('Flour', 11),\n",
       "  ('peach', 11),\n",
       "  ('Enjoy', 10),\n",
       "  ('Coconut', 10),\n",
       "  ('flaxse', 10),\n",
       "  ('divid', 10),\n",
       "  ('Salt', 9),\n",
       "  ('Top', 9),\n",
       "  ('ripe', 9),\n",
       "  ('onion', 9)]]"
      ]
     },
     "execution_count": 41,
     "metadata": {},
     "output_type": "execute_result"
    }
   ],
   "source": [
    "mostCommon[0]"
   ]
  },
  {
   "cell_type": "markdown",
   "metadata": {},
   "source": [
    "##Personalization"
   ]
  },
  {
   "cell_type": "code",
   "execution_count": null,
   "metadata": {
    "collapsed": true
   },
   "outputs": [],
   "source": [
    "##find cosine similarity of docs to final list (adapt topCosine List) --> add weight"
   ]
  },
  {
   "cell_type": "code",
   "execution_count": 192,
   "metadata": {
    "collapsed": true
   },
   "outputs": [],
   "source": [
    "with open('/home/rachaelrho/ds/metis/final_project/User2_bookmarks.txt') as f:\n",
    "    User2 = []\n",
    "    for line in f:\n",
    "        User2.append(line) "
   ]
  },
  {
   "cell_type": "code",
   "execution_count": 277,
   "metadata": {
    "collapsed": false
   },
   "outputs": [],
   "source": [
    "def userIng(userLinks):\n",
    "\n",
    "    userIngsList = []\n",
    "    \n",
    "    for link in range(0,len(userLinks)):\n",
    "        url = userLinks[link]\n",
    "        response = urllib2.urlopen(url)\n",
    "        htmlparser = etree.HTMLParser()\n",
    "        tree = etree.parse(response, htmlparser)\n",
    "        ings = tree.xpath('//*[contains(@class, \"name\")]/text()')\n",
    "\n",
    "        ingsClean = []\n",
    "\n",
    "        for ing in range(0,len(ings)):\n",
    "            ingClean = ings[ing].rstrip(\" \").rstrip(\"\\n\").lstrip(\"\\n\")\n",
    "            ingsClean.append(ingClean)\n",
    "\n",
    "        userIngsList.append(' '.join(ingsClean))\n",
    "        \n",
    "    \n",
    "    \n",
    "    return userIngList"
   ]
  },
  {
   "cell_type": "code",
   "execution_count": 278,
   "metadata": {
    "collapsed": false
   },
   "outputs": [],
   "source": [
    "user2IngList = userIng(User2) ##for some reason this function version doesn't work"
   ]
  },
  {
   "cell_type": "code",
   "execution_count": 287,
   "metadata": {
    "collapsed": true
   },
   "outputs": [],
   "source": [
    "userIngsList = []\n",
    "    \n",
    "for link in range(0,len(userLinks)):\n",
    "    url = userLinks[link]\n",
    "    response = urllib2.urlopen(url)\n",
    "    htmlparser = etree.HTMLParser()\n",
    "    tree = etree.parse(response, htmlparser)\n",
    "    ings = tree.xpath('//*[contains(@class, \"name\")]/text()')\n",
    "\n",
    "    ingsClean = []\n",
    "\n",
    "    for ing in range(0,len(ings)):\n",
    "        ingClean = ings[ing].rstrip(\" \").rstrip(\"\\n\").lstrip(\"\\n\")\n",
    "        ingsClean.append(ingClean)\n",
    "\n",
    "    userIngsList.append(ingsClean) ##' '.join(ingsClean)"
   ]
  },
  {
   "cell_type": "code",
   "execution_count": 327,
   "metadata": {
    "collapsed": false
   },
   "outputs": [],
   "source": [
    "usertopCos = topCosine(userIngsList[0],NMF_matrix)"
   ]
  },
  {
   "cell_type": "code",
   "execution_count": 1,
   "metadata": {
    "collapsed": true
   },
   "outputs": [],
   "source": [
    "def usertopCos(userIngsList,NMF_matrix,nutrList):\n",
    "    usertopCos = topCosine(userIngsList[0],NMF_matrix)\n",
    "    usercosList = sorted([x for x in usertopCos if x[1] in (x[0] for x in nutrList)])\n",
    "    \n",
    "    return usercosList"
   ]
  },
  {
   "cell_type": "code",
   "execution_count": null,
   "metadata": {
    "collapsed": true
   },
   "outputs": [],
   "source": [
    "usercosList = usertopCos(userIngsList,NMF_matrix,nutrList)"
   ]
  },
  {
   "cell_type": "code",
   "execution_count": 338,
   "metadata": {
    "collapsed": false
   },
   "outputs": [
    {
     "data": {
      "text/plain": [
       "[(0.50278111667637326, 1690),\n",
       " (0.54690665991919474, 1737),\n",
       " (0.56508670983178411, 1293),\n",
       " (0.56519245225065595, 1519)]"
      ]
     },
     "execution_count": 338,
     "metadata": {},
     "output_type": "execute_result"
    }
   ],
   "source": [
    "sorted([x for x in usertopCos if x[1] in (x[0] for x in nutrList)]) ##need to apply this function to every list element above"
   ]
  },
  {
   "cell_type": "markdown",
   "metadata": {},
   "source": [
    "## Cosine similarity"
   ]
  },
  {
   "cell_type": "code",
   "execution_count": 113,
   "metadata": {
    "collapsed": true
   },
   "outputs": [],
   "source": [
    "ingInput = ['chicken','avocado','tomato']"
   ]
  },
  {
   "cell_type": "code",
   "execution_count": 308,
   "metadata": {
    "collapsed": false
   },
   "outputs": [],
   "source": [
    "def topCosine(ingInput, NMF_matrix):\n",
    "    \n",
    "    document = ','.join(ingInput)\n",
    "    testTokens = nlpTokens(document)\n",
    "    tf = tfidf_vectorizer.transform([testTokens])\n",
    "    NMF = NMFmodel.transform(tf)\n",
    "    cosine = cosine_similarity(NMF, NMF_matrix) \n",
    "    cosineList = sorted(((e,i) for i,e in enumerate(list(cosine[0]))), reverse = True)\n",
    "            \n",
    "    return cosineList"
   ]
  },
  {
   "cell_type": "code",
   "execution_count": 293,
   "metadata": {
    "collapsed": true
   },
   "outputs": [],
   "source": [
    "def topIng(cosineList,recipeDF):\n",
    "    \n",
    "    index = [x[1] for x in cosineList]\n",
    "    recipes = []\n",
    "\n",
    "    for i in index:\n",
    "        ing = [i,list(recipeDF.ingredientTokens[i:i+1])]\n",
    "        recipes.append(ing)\n",
    "    \n",
    "    finalList = []\n",
    "\n",
    "    for i in range(0,len(recipes)): \n",
    "        if all(ing in recipes[i][1][0] for ing in ingInput): \n",
    "            finalList.append(recipes[i])\n",
    "    \n",
    "    return recipes,finalList"
   ]
  },
  {
   "cell_type": "code",
   "execution_count": 309,
   "metadata": {
    "collapsed": false
   },
   "outputs": [],
   "source": [
    "cosineList = topCosine(ingInput,NMF_matrix)"
   ]
  },
  {
   "cell_type": "code",
   "execution_count": 295,
   "metadata": {
    "collapsed": false
   },
   "outputs": [],
   "source": [
    "recipes, finalList = topIng(cosineList,recipeDF)"
   ]
  },
  {
   "cell_type": "code",
   "execution_count": 125,
   "metadata": {
    "collapsed": false
   },
   "outputs": [
    {
     "data": {
      "text/plain": [
       "[u'http://www.theroastedroot.net/cobb-salad-green-goddess-dressing/',\n",
       " u'http://www.theroastedroot.net/grilled-chicken-kale-caesar-salad/',\n",
       " u'http://paleomg.com/enchilada-chicken-stew/',\n",
       " u'http://www.theroastedroot.net/grilled-tequila-lime-chicken-salad-tequila-lime-vinaigrette/']"
      ]
     },
     "execution_count": 125,
     "metadata": {},
     "output_type": "execute_result"
    }
   ],
   "source": [
    "list(recipeDF.url.loc[[x[0] for x in finalList]])"
   ]
  },
  {
   "cell_type": "markdown",
   "metadata": {},
   "source": [
    "## Nutritional preferences"
   ]
  },
  {
   "cell_type": "code",
   "execution_count": 126,
   "metadata": {
    "collapsed": true
   },
   "outputs": [],
   "source": [
    "nutrDict = {}\n",
    "\n",
    "nutrDict['glutenFree'] = ['wheat','wheatberries','durum','emmer','semolina','spelt',\n",
    "             'farina','farro','graham','rye','barley','tricale','malt']\n",
    "\n",
    "nutrDict['nutFree'] = ['almond','brazil nut','cashew','chestnut','filbert',\n",
    "           'hazelnut','hickory nut','macadamia nut','pecans','pine nut',\n",
    "           'pistachio','walnut']\n",
    "\n",
    "nutrDict['dairyFree'] = ['milk','butter','cream','half & half','sour cream','ghee','yogurt','cheese']\n",
    "\n",
    "nutrDict['vegetarian'] = ['meat','lamb','beef','fish','shrimp','lobster','chicken']\n",
    "\n",
    "nutrDict['vegan'] = ['milk','butter','cream','half & half','sour cream','ghee','yogurt','cheese','egg','meat','lamb']"
   ]
  },
  {
   "cell_type": "code",
   "execution_count": 182,
   "metadata": {
    "collapsed": false
   },
   "outputs": [],
   "source": [
    "def nutrPref(pref,finalList):\n",
    "    \n",
    "    delIndex = []\n",
    "    \n",
    "    for i in range(0,len(finalList)):\n",
    "        if any(ing in finalList[i][1][0] for ing in nutrDict[pref]):\n",
    "            delIndex.append(i) ##delIndex.append(i)\n",
    "            \n",
    "    nutrList = [x for i, x in enumerate(finalList) if i not in delIndex]\n",
    "    return nutrList"
   ]
  },
  {
   "cell_type": "code",
   "execution_count": 183,
   "metadata": {
    "collapsed": false
   },
   "outputs": [],
   "source": [
    "nutrList = nutrPref('glutenFree',finalList)"
   ]
  },
  {
   "cell_type": "code",
   "execution_count": 311,
   "metadata": {
    "collapsed": false
   },
   "outputs": [
    {
     "data": {
      "text/plain": [
       "[[1737,\n",
       "  [u'chicken,bacon,spring,green,mix,tomato,egg,avocado,feta,Mayo,Free,Green,Goddess,Dress']],\n",
       " [1690,\n",
       "  [u'Caesar,Marin,Grill,Chicken,chicken,1690,Tessama,Caesar,Dress,1690,Kale,Caesar,Salad,lacinato,avocado,tomato,goat,chevr,dress']],\n",
       " [1293,\n",
       "  [u'chicken,breast,yellow,green,bell,jalapeno,nan,coconut,oil,tomato,tomato,sauc,garlic,cumin,chili,powder,oregano,salt,cilantro,avocado']],\n",
       " [1519,\n",
       "  [u'Grill,Tequila,Lime,Chicken,chicken,breast,oliv,oil,tequila,lime,juic,chili,powder,onion,powder,garlic,powder,sea,salt,Vinaigrett,oliv,oil,tequila,lime,juic,honey,cilantro,For,Salad,mix,green,babi,kale,arugula,avocado,tomato,red,onion,carrot,fresno']]]"
      ]
     },
     "execution_count": 311,
     "metadata": {},
     "output_type": "execute_result"
    }
   ],
   "source": [
    "nutrList"
   ]
  },
  {
   "cell_type": "code",
   "execution_count": null,
   "metadata": {
    "collapsed": true
   },
   "outputs": [],
   "source": []
  }
 ],
 "metadata": {
  "kernelspec": {
   "display_name": "Python 2",
   "language": "python",
   "name": "python2"
  },
  "language_info": {
   "codemirror_mode": {
    "name": "ipython",
    "version": 2
   },
   "file_extension": ".py",
   "mimetype": "text/x-python",
   "name": "python",
   "nbconvert_exporter": "python",
   "pygments_lexer": "ipython2",
   "version": "2.7.11"
  }
 },
 "nbformat": 4,
 "nbformat_minor": 0
}
